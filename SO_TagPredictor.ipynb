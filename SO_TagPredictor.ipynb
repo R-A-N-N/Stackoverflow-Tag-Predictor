{
  "nbformat": 4,
  "nbformat_minor": 0,
  "metadata": {
    "colab": {
      "name": "SO_TagPredictor.ipynb",
      "provenance": [],
      "collapsed_sections": [],
      "authorship_tag": "ABX9TyM9gkP17FxzyiJv4sILsHJk",
      "include_colab_link": true
    },
    "kernelspec": {
      "display_name": "Python 3",
      "name": "python3"
    },
    "language_info": {
      "name": "python"
    }
  },
  "cells": [
    {
      "cell_type": "markdown",
      "metadata": {
        "id": "view-in-github",
        "colab_type": "text"
      },
      "source": [
        "<a href=\"https://colab.research.google.com/github/R-A-N-N/Stackoverflow-Tag-Predictor/blob/main/SO_TagPredictor.ipynb\" target=\"_parent\"><img src=\"https://colab.research.google.com/assets/colab-badge.svg\" alt=\"Open In Colab\"/></a>"
      ]
    },
    {
      "cell_type": "code",
      "metadata": {
        "colab": {
          "base_uri": "https://localhost:8080/"
        },
        "id": "CfAwjnfbaqVP",
        "outputId": "f01d1256-0d14-4ca1-dda6-53fe43768341"
      },
      "source": [
        "pip install scikit-multilearn"
      ],
      "execution_count": 48,
      "outputs": [
        {
          "output_type": "stream",
          "text": [
            "Requirement already satisfied: scikit-multilearn in /usr/local/lib/python3.7/dist-packages (0.2.0)\n"
          ],
          "name": "stdout"
        }
      ]
    },
    {
      "cell_type": "markdown",
      "metadata": {
        "id": "3n8xRJ-31GE6"
      },
      "source": [
        "##All import statements"
      ]
    },
    {
      "cell_type": "code",
      "metadata": {
        "id": "v-kqxro9bHZe"
      },
      "source": [
        "import warnings\n",
        "warnings.filterwarnings(\"ignore\")\n",
        "import pandas as pd\n",
        "import sqlite3\n",
        "import csv\n",
        "import matplotlib.pyplot as plt\n",
        "import seaborn as sns\n",
        "import numpy as np\n",
        "from wordcloud import WordCloud\n",
        "import re\n",
        "import os\n",
        "from sqlalchemy import create_engine # database connection\n",
        "import datetime as dt\n",
        "from nltk.corpus import stopwords\n",
        "from nltk.tokenize import word_tokenize\n",
        "from nltk.stem.snowball import SnowballStemmer\n",
        "from sklearn.feature_extraction.text import CountVectorizer\n",
        "from sklearn.feature_extraction.text import TfidfVectorizer\n",
        "from sklearn.multiclass import OneVsRestClassifier\n",
        "from sklearn.linear_model import SGDClassifier\n",
        "from sklearn import metrics\n",
        "from sklearn.metrics import f1_score,precision_score,recall_score\n",
        "from sklearn import svm\n",
        "from sklearn.linear_model import LogisticRegression\n",
        "from skmultilearn.adapt import mlknn\n",
        "from skmultilearn.problem_transform import ClassifierChain\n",
        "from skmultilearn.problem_transform import BinaryRelevance\n",
        "from skmultilearn.problem_transform import LabelPowerset\n",
        "from sklearn.naive_bayes import GaussianNB\n",
        "from datetime import datetime"
      ],
      "execution_count": 49,
      "outputs": []
    },
    {
      "cell_type": "code",
      "metadata": {
        "colab": {
          "base_uri": "https://localhost:8080/"
        },
        "id": "4DpIp0-nPPkC",
        "outputId": "9cb52d6b-5b5b-47cc-c41a-21d84affd022"
      },
      "source": [
        "from google.colab import drive\n",
        "drive.mount(\"/content/gdrive\")"
      ],
      "execution_count": 50,
      "outputs": [
        {
          "output_type": "stream",
          "text": [
            "Drive already mounted at /content/gdrive; to attempt to forcibly remount, call drive.mount(\"/content/gdrive\", force_remount=True).\n"
          ],
          "name": "stdout"
        }
      ]
    },
    {
      "cell_type": "markdown",
      "metadata": {
        "id": "yxa8SEOl06_5"
      },
      "source": [
        "##Loading the database"
      ]
    },
    {
      "cell_type": "code",
      "metadata": {
        "id": "WFhN5R-twIpc"
      },
      "source": [
        "con = sqlite3.connect('/content/gdrive/My Drive/so_train.db')"
      ],
      "execution_count": 51,
      "outputs": []
    },
    {
      "cell_type": "code",
      "metadata": {
        "colab": {
          "base_uri": "https://localhost:8080/",
          "height": 415
        },
        "id": "W4XGbUqYuopG",
        "outputId": "e4523c61-838f-4bb3-982c-50c3466fa235"
      },
      "source": [
        "pd.read_sql_query('SELECT Title, Body, Tags FROM data', con)"
      ],
      "execution_count": 52,
      "outputs": [
        {
          "output_type": "execute_result",
          "data": {
            "text/html": [
              "<div>\n",
              "<style scoped>\n",
              "    .dataframe tbody tr th:only-of-type {\n",
              "        vertical-align: middle;\n",
              "    }\n",
              "\n",
              "    .dataframe tbody tr th {\n",
              "        vertical-align: top;\n",
              "    }\n",
              "\n",
              "    .dataframe thead th {\n",
              "        text-align: right;\n",
              "    }\n",
              "</style>\n",
              "<table border=\"1\" class=\"dataframe\">\n",
              "  <thead>\n",
              "    <tr style=\"text-align: right;\">\n",
              "      <th></th>\n",
              "      <th>Title</th>\n",
              "      <th>Body</th>\n",
              "      <th>Tags</th>\n",
              "    </tr>\n",
              "  </thead>\n",
              "  <tbody>\n",
              "    <tr>\n",
              "      <th>0</th>\n",
              "      <td>How can I can read and modify data from XML file?</td>\n",
              "      <td>&lt;p&gt;Please give me the simplest way to read or ...</td>\n",
              "      <td>c# .net xml exception-handling</td>\n",
              "    </tr>\n",
              "    <tr>\n",
              "      <th>1</th>\n",
              "      <td>Java 2Dimensional Boolean Array Values</td>\n",
              "      <td>&lt;p&gt;I'm having a problem with my 2 dimensional ...</td>\n",
              "      <td>java multidimensional-array boolean</td>\n",
              "    </tr>\n",
              "    <tr>\n",
              "      <th>2</th>\n",
              "      <td>O(1) algorithm to determine if node is descend...</td>\n",
              "      <td>&lt;p&gt;Imagine the following tree:&lt;/p&gt;\\n\\n&lt;pre&gt;&lt;co...</td>\n",
              "      <td>algorithm tree trie descendant</td>\n",
              "    </tr>\n",
              "    <tr>\n",
              "      <th>3</th>\n",
              "      <td>C++ &amp; DirectX - setting shader</td>\n",
              "      <td>&lt;p&gt;Does someone know a fast way to invoke shad...</td>\n",
              "      <td>c++ performance directx shader</td>\n",
              "    </tr>\n",
              "    <tr>\n",
              "      <th>4</th>\n",
              "      <td>How to convert QR code to number?</td>\n",
              "      <td>&lt;p&gt;i have created QR-code through this site &lt;a...</td>\n",
              "      <td>android</td>\n",
              "    </tr>\n",
              "    <tr>\n",
              "      <th>...</th>\n",
              "      <td>...</td>\n",
              "      <td>...</td>\n",
              "      <td>...</td>\n",
              "    </tr>\n",
              "    <tr>\n",
              "      <th>406396</th>\n",
              "      <td>NetBeans: How to create a web service client t...</td>\n",
              "      <td>&lt;p&gt;I am trying to add a web service reference ...</td>\n",
              "      <td>java web-services ssl wsit</td>\n",
              "    </tr>\n",
              "    <tr>\n",
              "      <th>406397</th>\n",
              "      <td>Why does WPF require a STAThread attribute to ...</td>\n",
              "      <td>&lt;p&gt;I am new to WPF, and in every tutorial I re...</td>\n",
              "      <td>wpf stathread</td>\n",
              "    </tr>\n",
              "    <tr>\n",
              "      <th>406398</th>\n",
              "      <td>When i run aspnet_regsql, nothing is created i...</td>\n",
              "      <td>&lt;p&gt;When i run the aspnet_regsql.exe tool to ad...</td>\n",
              "      <td>.net sql-server-2005</td>\n",
              "    </tr>\n",
              "    <tr>\n",
              "      <th>406399</th>\n",
              "      <td>Prime Appearances in Fibonacci Number Factoriz...</td>\n",
              "      <td>&lt;p&gt;Okay, THIS one is considerably more analyti...</td>\n",
              "      <td>number-theory prime-numbers fibonacci-numbers</td>\n",
              "    </tr>\n",
              "    <tr>\n",
              "      <th>406400</th>\n",
              "      <td>Paypal - redirect after payment to my own page</td>\n",
              "      <td>&lt;p&gt;I would like to automatically redirecta a u...</td>\n",
              "      <td>ruby-on-rails paypal paypal-sandbox</td>\n",
              "    </tr>\n",
              "  </tbody>\n",
              "</table>\n",
              "<p>406401 rows × 3 columns</p>\n",
              "</div>"
            ],
            "text/plain": [
              "                                                    Title  ...                                           Tags\n",
              "0       How can I can read and modify data from XML file?  ...                 c# .net xml exception-handling\n",
              "1                  Java 2Dimensional Boolean Array Values  ...            java multidimensional-array boolean\n",
              "2       O(1) algorithm to determine if node is descend...  ...                 algorithm tree trie descendant\n",
              "3                          C++ & DirectX - setting shader  ...                 c++ performance directx shader\n",
              "4                       How to convert QR code to number?  ...                                        android\n",
              "...                                                   ...  ...                                            ...\n",
              "406396  NetBeans: How to create a web service client t...  ...                     java web-services ssl wsit\n",
              "406397  Why does WPF require a STAThread attribute to ...  ...                                  wpf stathread\n",
              "406398  When i run aspnet_regsql, nothing is created i...  ...                           .net sql-server-2005\n",
              "406399  Prime Appearances in Fibonacci Number Factoriz...  ...  number-theory prime-numbers fibonacci-numbers\n",
              "406400     Paypal - redirect after payment to my own page  ...            ruby-on-rails paypal paypal-sandbox\n",
              "\n",
              "[406401 rows x 3 columns]"
            ]
          },
          "metadata": {
            "tags": []
          },
          "execution_count": 52
        }
      ]
    },
    {
      "cell_type": "code",
      "metadata": {
        "id": "B7xLTzHC5Lkq"
      },
      "source": [
        "con2 = sqlite3.connect('/content/gdrive/My Drive/train_no_dup.db')"
      ],
      "execution_count": 53,
      "outputs": []
    },
    {
      "cell_type": "markdown",
      "metadata": {
        "id": "iAwJDW3kCGfB"
      },
      "source": [
        "## Removing Null values"
      ]
    },
    {
      "cell_type": "code",
      "metadata": {
        "id": "1sIN_80FPn_z"
      },
      "source": [
        "pd.read_sql_query('Delete FROM data where Title IS NULL',con2)"
      ],
      "execution_count": null,
      "outputs": []
    },
    {
      "cell_type": "code",
      "metadata": {
        "id": "Qk5ce240Pqdy"
      },
      "source": [
        "pd.read_sql_query('Delete FROM data where Tags IS NULL',con2)"
      ],
      "execution_count": null,
      "outputs": []
    },
    {
      "cell_type": "code",
      "metadata": {
        "id": "vDZW8whDCPa7",
        "colab": {
          "base_uri": "https://localhost:8080/",
          "height": 49
        },
        "outputId": "1d05d31d-c3ff-4d73-9ab6-bdbf7707cce0"
      },
      "source": [
        "none = pd.read_sql_query(\"Select Title,Body,Tags FROM data WHERE Tags IS NULL\",con2)\n",
        "none"
      ],
      "execution_count": 55,
      "outputs": [
        {
          "output_type": "execute_result",
          "data": {
            "text/html": [
              "<div>\n",
              "<style scoped>\n",
              "    .dataframe tbody tr th:only-of-type {\n",
              "        vertical-align: middle;\n",
              "    }\n",
              "\n",
              "    .dataframe tbody tr th {\n",
              "        vertical-align: top;\n",
              "    }\n",
              "\n",
              "    .dataframe thead th {\n",
              "        text-align: right;\n",
              "    }\n",
              "</style>\n",
              "<table border=\"1\" class=\"dataframe\">\n",
              "  <thead>\n",
              "    <tr style=\"text-align: right;\">\n",
              "      <th></th>\n",
              "      <th>Title</th>\n",
              "      <th>Body</th>\n",
              "      <th>Tags</th>\n",
              "    </tr>\n",
              "  </thead>\n",
              "  <tbody>\n",
              "  </tbody>\n",
              "</table>\n",
              "</div>"
            ],
            "text/plain": [
              "Empty DataFrame\n",
              "Columns: [Title, Body, Tags]\n",
              "Index: []"
            ]
          },
          "metadata": {
            "tags": []
          },
          "execution_count": 55
        }
      ]
    },
    {
      "cell_type": "markdown",
      "metadata": {
        "id": "ToPhBhVP1AN1"
      },
      "source": [
        "##Counting the number of rows"
      ]
    },
    {
      "cell_type": "code",
      "metadata": {
        "id": "36UNzfOswWuD",
        "colab": {
          "base_uri": "https://localhost:8080/"
        },
        "outputId": "c8b21efd-9213-453c-8404-d1d70df06518"
      },
      "source": [
        "num_rows = pd.read_sql_query(\"\"\"SELECT count(*) FROM data\"\"\", con)\n",
        "print(\"Number of rows in the database :\",\"\\n\",num_rows['count(*)'].values[0])"
      ],
      "execution_count": 58,
      "outputs": [
        {
          "output_type": "stream",
          "text": [
            "Number of rows in the database : \n",
            " 406401\n"
          ],
          "name": "stdout"
        }
      ]
    },
    {
      "cell_type": "markdown",
      "metadata": {
        "id": "XcCqMpkX1Nye"
      },
      "source": [
        "##Checking for duplicates"
      ]
    },
    {
      "cell_type": "code",
      "metadata": {
        "id": "LrGitRonwe5m"
      },
      "source": [
        "df_no_dup = pd.read_sql_query('SELECT Title, Body, Tags, COUNT(*) as cnt_dup FROM data GROUP BY Title, Body, Tags', con)"
      ],
      "execution_count": 59,
      "outputs": []
    },
    {
      "cell_type": "code",
      "metadata": {
        "id": "UIblUMOdz-CL",
        "colab": {
          "base_uri": "https://localhost:8080/"
        },
        "outputId": "6ce6d2a4-c7db-4fc0-ad16-452742202898"
      },
      "source": [
        "print(\"number of duplicate questions :\", num_rows['count(*)'].values[0]- df_no_dup.shape[0], \"(\",(1-((df_no_dup.shape[0])/(num_rows['count(*)'].values[0])))*100,\"% )\")"
      ],
      "execution_count": 60,
      "outputs": [
        {
          "output_type": "stream",
          "text": [
            "number of duplicate questions : 9409 ( 2.31520099606054 % )\n"
          ],
          "name": "stdout"
        }
      ]
    },
    {
      "cell_type": "code",
      "metadata": {
        "id": "hIAJDEvBDUvV",
        "colab": {
          "base_uri": "https://localhost:8080/",
          "height": 415
        },
        "outputId": "d6defa99-da9e-40d7-b5ed-7c977e4faab6"
      },
      "source": [
        "pd.read_sql_query('SELECT Title, Body, Tags, COUNT(*) as cnt_dup FROM data GROUP BY Title, Body, Tags ORDER BY cnt_dup', con)"
      ],
      "execution_count": 62,
      "outputs": [
        {
          "output_type": "execute_result",
          "data": {
            "text/html": [
              "<div>\n",
              "<style scoped>\n",
              "    .dataframe tbody tr th:only-of-type {\n",
              "        vertical-align: middle;\n",
              "    }\n",
              "\n",
              "    .dataframe tbody tr th {\n",
              "        vertical-align: top;\n",
              "    }\n",
              "\n",
              "    .dataframe thead th {\n",
              "        text-align: right;\n",
              "    }\n",
              "</style>\n",
              "<table border=\"1\" class=\"dataframe\">\n",
              "  <thead>\n",
              "    <tr style=\"text-align: right;\">\n",
              "      <th></th>\n",
              "      <th>Title</th>\n",
              "      <th>Body</th>\n",
              "      <th>Tags</th>\n",
              "      <th>cnt_dup</th>\n",
              "    </tr>\n",
              "  </thead>\n",
              "  <tbody>\n",
              "    <tr>\n",
              "      <th>0</th>\n",
              "      <td>Implementing Boundary Value Analysis of S...</td>\n",
              "      <td>&lt;pre&gt;&lt;code&gt;#include&amp;lt;iostream&amp;gt;\\n#include&amp;...</td>\n",
              "      <td>c++ c</td>\n",
              "      <td>1</td>\n",
              "    </tr>\n",
              "    <tr>\n",
              "      <th>1</th>\n",
              "      <td>Dynamic Datagrid Binding in Silverlight?</td>\n",
              "      <td>&lt;p&gt;I should do binding for datagrid dynamicall...</td>\n",
              "      <td>c# silverlight data-binding</td>\n",
              "      <td>1</td>\n",
              "    </tr>\n",
              "    <tr>\n",
              "      <th>2</th>\n",
              "      <td>java.lang.NoSuchMethodError: javax.servlet.S...</td>\n",
              "      <td>&lt;p&gt;i want to have a servlet to process inputs ...</td>\n",
              "      <td>java servlets jboss</td>\n",
              "      <td>1</td>\n",
              "    </tr>\n",
              "    <tr>\n",
              "      <th>3</th>\n",
              "      <td>-2) = (1</td>\n",
              "      <td>-\\frac{3}{2}</td>\n",
              "      <td>-1)$&lt;/p&gt;</td>\n",
              "      <td>1</td>\n",
              "    </tr>\n",
              "    <tr>\n",
              "      <th>4</th>\n",
              "      <td>1)</td>\n",
              "      <td>System.Globalization.CalendarWeekRule.FirstDay</td>\n",
              "      <td>System.DayOfWeek.Sunday);</td>\n",
              "      <td>1</td>\n",
              "    </tr>\n",
              "    <tr>\n",
              "      <th>...</th>\n",
              "      <td>...</td>\n",
              "      <td>...</td>\n",
              "      <td>...</td>\n",
              "      <td>...</td>\n",
              "    </tr>\n",
              "    <tr>\n",
              "      <th>396987</th>\n",
              "      <td>maven set classes time stamp before packing th...</td>\n",
              "      <td>&lt;p&gt;I want to set the time stamp of the classes...</td>\n",
              "      <td>maven</td>\n",
              "      <td>3</td>\n",
              "    </tr>\n",
              "    <tr>\n",
              "      <th>396988</th>\n",
              "      <td>optimality of 2 in a continued fraction theorem</td>\n",
              "      <td>&lt;p&gt;I'm giving some lectures on continued fract...</td>\n",
              "      <td>number-theory continued-fractions</td>\n",
              "      <td>3</td>\n",
              "    </tr>\n",
              "    <tr>\n",
              "      <th>396989</th>\n",
              "      <td>parse url and title from string of multiple hr...</td>\n",
              "      <td>&lt;p&gt;i need to parse the url and title from mult...</td>\n",
              "      <td>regex parsing coldfusion</td>\n",
              "      <td>3</td>\n",
              "    </tr>\n",
              "    <tr>\n",
              "      <th>396990</th>\n",
              "      <td>send value location continues after 10 minute</td>\n",
              "      <td>&lt;p&gt;i want to send my location into my database...</td>\n",
              "      <td>android database latitude longitude</td>\n",
              "      <td>3</td>\n",
              "    </tr>\n",
              "    <tr>\n",
              "      <th>396991</th>\n",
              "      <td>zend validate user for a specific controller?</td>\n",
              "      <td>&lt;p&gt;HI i would like to know how to validate a u...</td>\n",
              "      <td>php zend-framework</td>\n",
              "      <td>3</td>\n",
              "    </tr>\n",
              "  </tbody>\n",
              "</table>\n",
              "<p>396992 rows × 4 columns</p>\n",
              "</div>"
            ],
            "text/plain": [
              "                                                    Title  ... cnt_dup\n",
              "0            Implementing Boundary Value Analysis of S...  ...       1\n",
              "1                Dynamic Datagrid Binding in Silverlight?  ...       1\n",
              "2         java.lang.NoSuchMethodError: javax.servlet.S...  ...       1\n",
              "3                                                -2) = (1  ...       1\n",
              "4                                                      1)  ...       1\n",
              "...                                                   ...  ...     ...\n",
              "396987  maven set classes time stamp before packing th...  ...       3\n",
              "396988    optimality of 2 in a continued fraction theorem  ...       3\n",
              "396989  parse url and title from string of multiple hr...  ...       3\n",
              "396990      send value location continues after 10 minute  ...       3\n",
              "396991      zend validate user for a specific controller?  ...       3\n",
              "\n",
              "[396992 rows x 4 columns]"
            ]
          },
          "metadata": {
            "tags": []
          },
          "execution_count": 62
        }
      ]
    },
    {
      "cell_type": "code",
      "metadata": {
        "id": "AOrx8m2O4zrT",
        "colab": {
          "base_uri": "https://localhost:8080/"
        },
        "outputId": "06e84a1c-b2a6-4d5d-c5a3-ff94c85ad716"
      },
      "source": [
        "print(len(df_no_dup))"
      ],
      "execution_count": 63,
      "outputs": [
        {
          "output_type": "stream",
          "text": [
            "396992\n"
          ],
          "name": "stdout"
        }
      ]
    },
    {
      "cell_type": "code",
      "metadata": {
        "id": "eyg3pyu37sAO",
        "colab": {
          "base_uri": "https://localhost:8080/"
        },
        "outputId": "37be8916-7b4b-42a1-f8a2-0eef2459928a"
      },
      "source": [
        "# number of times each question appeared in our database\n",
        "df_no_dup.cnt_dup.value_counts()"
      ],
      "execution_count": 64,
      "outputs": [
        {
          "output_type": "execute_result",
          "data": {
            "text/plain": [
              "1    387661\n",
              "2      9253\n",
              "3        78\n",
              "Name: cnt_dup, dtype: int64"
            ]
          },
          "metadata": {
            "tags": []
          },
          "execution_count": 64
        }
      ]
    },
    {
      "cell_type": "markdown",
      "metadata": {
        "id": "FmIXfn9KcdtO"
      },
      "source": [
        "## Counting number of tags in each set of question"
      ]
    },
    {
      "cell_type": "code",
      "metadata": {
        "id": "5pp0QqGZLxeT",
        "colab": {
          "base_uri": "https://localhost:8080/",
          "height": 433
        },
        "outputId": "4cb584e6-d66f-49dc-9508-421683ea4f90"
      },
      "source": [
        "start = datetime.now()\n",
        "df_no_dup[\"tag_count\"] = df_no_dup[\"Tags\"].apply(lambda text: len(text.split(\" \")) if text else 0)\n",
        "# adding a new feature number of tags per question\n",
        "print(\"Time taken to run this cell :\", datetime.now() - start)\n",
        "df_no_dup"
      ],
      "execution_count": 65,
      "outputs": [
        {
          "output_type": "stream",
          "text": [
            "Time taken to run this cell : 0:00:00.284568\n"
          ],
          "name": "stdout"
        },
        {
          "output_type": "execute_result",
          "data": {
            "text/html": [
              "<div>\n",
              "<style scoped>\n",
              "    .dataframe tbody tr th:only-of-type {\n",
              "        vertical-align: middle;\n",
              "    }\n",
              "\n",
              "    .dataframe tbody tr th {\n",
              "        vertical-align: top;\n",
              "    }\n",
              "\n",
              "    .dataframe thead th {\n",
              "        text-align: right;\n",
              "    }\n",
              "</style>\n",
              "<table border=\"1\" class=\"dataframe\">\n",
              "  <thead>\n",
              "    <tr style=\"text-align: right;\">\n",
              "      <th></th>\n",
              "      <th>Title</th>\n",
              "      <th>Body</th>\n",
              "      <th>Tags</th>\n",
              "      <th>cnt_dup</th>\n",
              "      <th>tag_count</th>\n",
              "    </tr>\n",
              "  </thead>\n",
              "  <tbody>\n",
              "    <tr>\n",
              "      <th>0</th>\n",
              "      <td>Implementing Boundary Value Analysis of S...</td>\n",
              "      <td>&lt;pre&gt;&lt;code&gt;#include&amp;lt;iostream&amp;gt;\\n#include&amp;...</td>\n",
              "      <td>c++ c</td>\n",
              "      <td>1</td>\n",
              "      <td>2</td>\n",
              "    </tr>\n",
              "    <tr>\n",
              "      <th>1</th>\n",
              "      <td>Dynamic Datagrid Binding in Silverlight?</td>\n",
              "      <td>&lt;p&gt;I should do binding for datagrid dynamicall...</td>\n",
              "      <td>c# silverlight data-binding</td>\n",
              "      <td>1</td>\n",
              "      <td>3</td>\n",
              "    </tr>\n",
              "    <tr>\n",
              "      <th>2</th>\n",
              "      <td>java.lang.NoSuchMethodError: javax.servlet.S...</td>\n",
              "      <td>&lt;p&gt;i want to have a servlet to process inputs ...</td>\n",
              "      <td>java servlets jboss</td>\n",
              "      <td>1</td>\n",
              "      <td>3</td>\n",
              "    </tr>\n",
              "    <tr>\n",
              "      <th>3</th>\n",
              "      <td>-2) = (1</td>\n",
              "      <td>-\\frac{3}{2}</td>\n",
              "      <td>-1)$&lt;/p&gt;</td>\n",
              "      <td>1</td>\n",
              "      <td>2</td>\n",
              "    </tr>\n",
              "    <tr>\n",
              "      <th>4</th>\n",
              "      <td>1)</td>\n",
              "      <td>System.Globalization.CalendarWeekRule.FirstDay</td>\n",
              "      <td>System.DayOfWeek.Sunday);</td>\n",
              "      <td>1</td>\n",
              "      <td>2</td>\n",
              "    </tr>\n",
              "    <tr>\n",
              "      <th>...</th>\n",
              "      <td>...</td>\n",
              "      <td>...</td>\n",
              "      <td>...</td>\n",
              "      <td>...</td>\n",
              "      <td>...</td>\n",
              "    </tr>\n",
              "    <tr>\n",
              "      <th>396987</th>\n",
              "      <td>“error: no such device” at boot in Ubuntu Serv...</td>\n",
              "      <td>&lt;p&gt;I have a configuration of 4 HDD's as Raid1 ...</td>\n",
              "      <td>server ubuntu-11.10 raid-1</td>\n",
              "      <td>1</td>\n",
              "      <td>3</td>\n",
              "    </tr>\n",
              "    <tr>\n",
              "      <th>396988</th>\n",
              "      <td>“git did not exit cleanly (exit code 128)” err...</td>\n",
              "      <td>&lt;p&gt;I am getting this error on my windows machi...</td>\n",
              "      <td>git tortoisegit git-bash</td>\n",
              "      <td>1</td>\n",
              "      <td>3</td>\n",
              "    </tr>\n",
              "    <tr>\n",
              "      <th>396989</th>\n",
              "      <td>“iTunes.app” incoming network connections?</td>\n",
              "      <td>&lt;p&gt;I am experiencing the same issue mentioned ...</td>\n",
              "      <td>itunes osx-lion</td>\n",
              "      <td>1</td>\n",
              "      <td>2</td>\n",
              "    </tr>\n",
              "    <tr>\n",
              "      <th>396990</th>\n",
              "      <td>“make &amp; make install” software on Linux</td>\n",
              "      <td>&lt;p&gt;I have worked on Linux for a year. One thin...</td>\n",
              "      <td>linux make</td>\n",
              "      <td>1</td>\n",
              "      <td>2</td>\n",
              "    </tr>\n",
              "    <tr>\n",
              "      <th>396991</th>\n",
              "      <td>“zero placeholder” for working counter as3</td>\n",
              "      <td>&lt;p&gt;&lt;strong&gt;How do make a zero placeholder for ...</td>\n",
              "      <td>flash actionscript-3</td>\n",
              "      <td>1</td>\n",
              "      <td>2</td>\n",
              "    </tr>\n",
              "  </tbody>\n",
              "</table>\n",
              "<p>396992 rows × 5 columns</p>\n",
              "</div>"
            ],
            "text/plain": [
              "                                                    Title  ... tag_count\n",
              "0            Implementing Boundary Value Analysis of S...  ...         2\n",
              "1                Dynamic Datagrid Binding in Silverlight?  ...         3\n",
              "2         java.lang.NoSuchMethodError: javax.servlet.S...  ...         3\n",
              "3                                                -2) = (1  ...         2\n",
              "4                                                      1)  ...         2\n",
              "...                                                   ...  ...       ...\n",
              "396987  “error: no such device” at boot in Ubuntu Serv...  ...         3\n",
              "396988  “git did not exit cleanly (exit code 128)” err...  ...         3\n",
              "396989         “iTunes.app” incoming network connections?  ...         2\n",
              "396990            “make & make install” software on Linux  ...         2\n",
              "396991         “zero placeholder” for working counter as3  ...         2\n",
              "\n",
              "[396992 rows x 5 columns]"
            ]
          },
          "metadata": {
            "tags": []
          },
          "execution_count": 65
        }
      ]
    },
    {
      "cell_type": "code",
      "metadata": {
        "id": "GbQn01zO_9EJ",
        "colab": {
          "base_uri": "https://localhost:8080/"
        },
        "outputId": "13db1e68-1244-49c0-858f-606d437218e3"
      },
      "source": [
        "# distribution of number of tags per question\n",
        "tag_count = df_no_dup.tag_count.value_counts()\n",
        "tag_count"
      ],
      "execution_count": 72,
      "outputs": [
        {
          "output_type": "execute_result",
          "data": {
            "text/plain": [
              "3     113343\n",
              "2     105896\n",
              "4      76244\n",
              "1      54661\n",
              "5      46837\n",
              "17         2\n",
              "11         2\n",
              "10         2\n",
              "19         1\n",
              "16         1\n",
              "14         1\n",
              "8          1\n",
              "6          1\n",
              "Name: tag_count, dtype: int64"
            ]
          },
          "metadata": {
            "tags": []
          },
          "execution_count": 72
        }
      ]
    },
    {
      "cell_type": "code",
      "metadata": {
        "colab": {
          "base_uri": "https://localhost:8080/",
          "height": 283
        },
        "id": "LE9XGmRxiwNX",
        "outputId": "d4becb61-7b0b-4880-b56d-f7fc8b1ec4f9"
      },
      "source": [
        "plt.bar(tag_count.keys(),tag_count)"
      ],
      "execution_count": 73,
      "outputs": [
        {
          "output_type": "execute_result",
          "data": {
            "text/plain": [
              "<BarContainer object of 13 artists>"
            ]
          },
          "metadata": {
            "tags": []
          },
          "execution_count": 73
        },
        {
          "output_type": "display_data",
          "data": {
            "image/png": "[encoded data removed]",
            "text/plain": [
              "<Figure size 432x288 with 1 Axes>"
            ]
          },
          "metadata": {
            "tags": [],
            "needs_background": "light"
          }
        }
      ]
    },
    {
      "cell_type": "markdown",
      "metadata": {
        "id": "R9YLS6b4kYUv"
      },
      "source": [
        "## Analyzing tags"
      ]
    },
    {
      "cell_type": "code",
      "metadata": {
        "id": "46xQZ4TyfJYG",
        "colab": {
          "base_uri": "https://localhost:8080/",
          "height": 415
        },
        "outputId": "3f8c73fe-1401-4d1e-88c3-536463a5a9ef"
      },
      "source": [
        "pd.read_sql_query(\"Select Title,Body,Tags FROM data\",con2)"
      ],
      "execution_count": 67,
      "outputs": [
        {
          "output_type": "execute_result",
          "data": {
            "text/html": [
              "<div>\n",
              "<style scoped>\n",
              "    .dataframe tbody tr th:only-of-type {\n",
              "        vertical-align: middle;\n",
              "    }\n",
              "\n",
              "    .dataframe tbody tr th {\n",
              "        vertical-align: top;\n",
              "    }\n",
              "\n",
              "    .dataframe thead th {\n",
              "        text-align: right;\n",
              "    }\n",
              "</style>\n",
              "<table border=\"1\" class=\"dataframe\">\n",
              "  <thead>\n",
              "    <tr style=\"text-align: right;\">\n",
              "      <th></th>\n",
              "      <th>Title</th>\n",
              "      <th>Body</th>\n",
              "      <th>Tags</th>\n",
              "    </tr>\n",
              "  </thead>\n",
              "  <tbody>\n",
              "    <tr>\n",
              "      <th>0</th>\n",
              "      <td>Implementing Boundary Value Analysis of S...</td>\n",
              "      <td>&lt;pre&gt;&lt;code&gt;#include&amp;lt;iostream&amp;gt;\\n#include&amp;...</td>\n",
              "      <td>c++ c</td>\n",
              "    </tr>\n",
              "    <tr>\n",
              "      <th>1</th>\n",
              "      <td>Dynamic Datagrid Binding in Silverlight?</td>\n",
              "      <td>&lt;p&gt;I should do binding for datagrid dynamicall...</td>\n",
              "      <td>c# silverlight data-binding</td>\n",
              "    </tr>\n",
              "    <tr>\n",
              "      <th>2</th>\n",
              "      <td>java.lang.NoSuchMethodError: javax.servlet.S...</td>\n",
              "      <td>&lt;p&gt;i want to have a servlet to process inputs ...</td>\n",
              "      <td>java servlets jboss</td>\n",
              "    </tr>\n",
              "    <tr>\n",
              "      <th>3</th>\n",
              "      <td>A simple distance inequality in probability</td>\n",
              "      <td>&lt;p&gt;I was going through Durrett's probability w...</td>\n",
              "      <td>probability-theory</td>\n",
              "    </tr>\n",
              "    <tr>\n",
              "      <th>4</th>\n",
              "      <td>ASP.NET MVC 3 Single-Page Application using J...</td>\n",
              "      <td>&lt;p&gt;I have recently built an single-page ASP.NE...</td>\n",
              "      <td>javascript jquery asp.net-mvc-3 dom</td>\n",
              "    </tr>\n",
              "    <tr>\n",
              "      <th>...</th>\n",
              "      <td>...</td>\n",
              "      <td>...</td>\n",
              "      <td>...</td>\n",
              "    </tr>\n",
              "    <tr>\n",
              "      <th>396979</th>\n",
              "      <td>“error: no such device” at boot in Ubuntu Serv...</td>\n",
              "      <td>&lt;p&gt;I have a configuration of 4 HDD's as Raid1 ...</td>\n",
              "      <td>server ubuntu-11.10 raid-1</td>\n",
              "    </tr>\n",
              "    <tr>\n",
              "      <th>396980</th>\n",
              "      <td>“git did not exit cleanly (exit code 128)” err...</td>\n",
              "      <td>&lt;p&gt;I am getting this error on my windows machi...</td>\n",
              "      <td>git tortoisegit git-bash</td>\n",
              "    </tr>\n",
              "    <tr>\n",
              "      <th>396981</th>\n",
              "      <td>“iTunes.app” incoming network connections?</td>\n",
              "      <td>&lt;p&gt;I am experiencing the same issue mentioned ...</td>\n",
              "      <td>itunes osx-lion</td>\n",
              "    </tr>\n",
              "    <tr>\n",
              "      <th>396982</th>\n",
              "      <td>“make &amp; make install” software on Linux</td>\n",
              "      <td>&lt;p&gt;I have worked on Linux for a year. One thin...</td>\n",
              "      <td>linux make</td>\n",
              "    </tr>\n",
              "    <tr>\n",
              "      <th>396983</th>\n",
              "      <td>“zero placeholder” for working counter as3</td>\n",
              "      <td>&lt;p&gt;&lt;strong&gt;How do make a zero placeholder for ...</td>\n",
              "      <td>flash actionscript-3</td>\n",
              "    </tr>\n",
              "  </tbody>\n",
              "</table>\n",
              "<p>396984 rows × 3 columns</p>\n",
              "</div>"
            ],
            "text/plain": [
              "                                                    Title  ...                                 Tags\n",
              "0            Implementing Boundary Value Analysis of S...  ...                                c++ c\n",
              "1                Dynamic Datagrid Binding in Silverlight?  ...          c# silverlight data-binding\n",
              "2         java.lang.NoSuchMethodError: javax.servlet.S...  ...                  java servlets jboss\n",
              "3             A simple distance inequality in probability  ...                   probability-theory\n",
              "4        ASP.NET MVC 3 Single-Page Application using J...  ...  javascript jquery asp.net-mvc-3 dom\n",
              "...                                                   ...  ...                                  ...\n",
              "396979  “error: no such device” at boot in Ubuntu Serv...  ...           server ubuntu-11.10 raid-1\n",
              "396980  “git did not exit cleanly (exit code 128)” err...  ...             git tortoisegit git-bash\n",
              "396981         “iTunes.app” incoming network connections?  ...                      itunes osx-lion\n",
              "396982            “make & make install” software on Linux  ...                           linux make\n",
              "396983         “zero placeholder” for working counter as3  ...                 flash actionscript-3\n",
              "\n",
              "[396984 rows x 3 columns]"
            ]
          },
          "metadata": {
            "tags": []
          },
          "execution_count": 67
        }
      ]
    },
    {
      "cell_type": "code",
      "metadata": {
        "id": "9ikaYkvJJvZd",
        "colab": {
          "base_uri": "https://localhost:8080/",
          "height": 415
        },
        "outputId": "8dacb59c-697b-4713-ef1c-5301ec550bbb"
      },
      "source": [
        "start = datetime.now()\n",
        "tag_data = pd.read_sql_query(\"\"\"SELECT Tags FROM data\"\"\", con2)\n",
        "#Always remember to close the database\n",
        "# Let's now drop unwanted column.\n",
        "tag_data.drop(tag_data.index[0], inplace=True)\n",
        "#Printing first 5 columns from our data frame\n",
        "tag_data\n"
      ],
      "execution_count": 68,
      "outputs": [
        {
          "output_type": "execute_result",
          "data": {
            "text/html": [
              "<div>\n",
              "<style scoped>\n",
              "    .dataframe tbody tr th:only-of-type {\n",
              "        vertical-align: middle;\n",
              "    }\n",
              "\n",
              "    .dataframe tbody tr th {\n",
              "        vertical-align: top;\n",
              "    }\n",
              "\n",
              "    .dataframe thead th {\n",
              "        text-align: right;\n",
              "    }\n",
              "</style>\n",
              "<table border=\"1\" class=\"dataframe\">\n",
              "  <thead>\n",
              "    <tr style=\"text-align: right;\">\n",
              "      <th></th>\n",
              "      <th>Tags</th>\n",
              "    </tr>\n",
              "  </thead>\n",
              "  <tbody>\n",
              "    <tr>\n",
              "      <th>1</th>\n",
              "      <td>c# silverlight data-binding</td>\n",
              "    </tr>\n",
              "    <tr>\n",
              "      <th>2</th>\n",
              "      <td>java servlets jboss</td>\n",
              "    </tr>\n",
              "    <tr>\n",
              "      <th>3</th>\n",
              "      <td>probability-theory</td>\n",
              "    </tr>\n",
              "    <tr>\n",
              "      <th>4</th>\n",
              "      <td>javascript jquery asp.net-mvc-3 dom</td>\n",
              "    </tr>\n",
              "    <tr>\n",
              "      <th>5</th>\n",
              "      <td>ruby-on-rails ruby-on-rails-3 devise browser-c...</td>\n",
              "    </tr>\n",
              "    <tr>\n",
              "      <th>...</th>\n",
              "      <td>...</td>\n",
              "    </tr>\n",
              "    <tr>\n",
              "      <th>396979</th>\n",
              "      <td>server ubuntu-11.10 raid-1</td>\n",
              "    </tr>\n",
              "    <tr>\n",
              "      <th>396980</th>\n",
              "      <td>git tortoisegit git-bash</td>\n",
              "    </tr>\n",
              "    <tr>\n",
              "      <th>396981</th>\n",
              "      <td>itunes osx-lion</td>\n",
              "    </tr>\n",
              "    <tr>\n",
              "      <th>396982</th>\n",
              "      <td>linux make</td>\n",
              "    </tr>\n",
              "    <tr>\n",
              "      <th>396983</th>\n",
              "      <td>flash actionscript-3</td>\n",
              "    </tr>\n",
              "  </tbody>\n",
              "</table>\n",
              "<p>396983 rows × 1 columns</p>\n",
              "</div>"
            ],
            "text/plain": [
              "                                                     Tags\n",
              "1                             c# silverlight data-binding\n",
              "2                                     java servlets jboss\n",
              "3                                      probability-theory\n",
              "4                     javascript jquery asp.net-mvc-3 dom\n",
              "5       ruby-on-rails ruby-on-rails-3 devise browser-c...\n",
              "...                                                   ...\n",
              "396979                         server ubuntu-11.10 raid-1\n",
              "396980                           git tortoisegit git-bash\n",
              "396981                                    itunes osx-lion\n",
              "396982                                         linux make\n",
              "396983                               flash actionscript-3\n",
              "\n",
              "[396983 rows x 1 columns]"
            ]
          },
          "metadata": {
            "tags": []
          },
          "execution_count": 68
        }
      ]
    },
    {
      "cell_type": "code",
      "metadata": {
        "id": "t6i-OJFGiTLb"
      },
      "source": [
        "##Total number of unique tags \n"
      ],
      "execution_count": null,
      "outputs": []
    },
    {
      "cell_type": "markdown",
      "metadata": {
        "id": "y3WnFVW2kcX9"
      },
      "source": [
        "### Counting number of unique tags"
      ]
    },
    {
      "cell_type": "code",
      "metadata": {
        "id": "1U-tTzPx01yR"
      },
      "source": [
        "# Importing & Initializing the \"CountVectorizer\" object, which \n",
        "#is scikit-learn's bag of words tool.\n",
        "\n",
        "#by default 'split()' will tokenize each tag using space.\n",
        "vectorizer = CountVectorizer(tokenizer = lambda x: x.split())\n",
        "# fit_transform() does two functions: First, it fits the model\n",
        "# and learns the vocabulary; second, it transforms our training data\n",
        "# into feature vectors. The input to fit_transform should be a list of strings.\n",
        "tag_dtm = vectorizer.fit_transform(tag_data['Tags'])\n"
      ],
      "execution_count": 69,
      "outputs": []
    },
    {
      "cell_type": "code",
      "metadata": {
        "id": "uy9uMARB1GAD",
        "colab": {
          "base_uri": "https://localhost:8080/"
        },
        "outputId": "6a948a31-ae60-4919-a8f1-a80704ac7a6f"
      },
      "source": [
        "print(\"Number of data points :\", tag_dtm.shape[0])\n",
        "print(\"Number of unique tags :\", tag_dtm.shape[1])"
      ],
      "execution_count": 74,
      "outputs": [
        {
          "output_type": "stream",
          "text": [
            "Number of data points : 396983\n",
            "Number of unique tags : 28986\n"
          ],
          "name": "stdout"
        }
      ]
    },
    {
      "cell_type": "markdown",
      "metadata": {
        "id": "aYEkbNJ1khAn"
      },
      "source": [
        "Out of all 396983 entries, there are total 28986 unique tags"
      ]
    },
    {
      "cell_type": "code",
      "metadata": {
        "colab": {
          "base_uri": "https://localhost:8080/"
        },
        "id": "AvRYDNRCj28X",
        "outputId": "97765288-01dc-4759-febe-b4bc5274ffe4"
      },
      "source": [
        "#'get_feature_name()' gives us the vocabulary.\n",
        "tags = vectorizer.get_feature_names()\n",
        "#Lets look at the tags we have.\n",
        "print(\"Some of the tags we have :\", tags[:20])"
      ],
      "execution_count": 76,
      "outputs": [
        {
          "output_type": "stream",
          "text": [
            "Some of the tags we have : ['.a', '.app', '.aspxauth', '.bash-profile', '.class-file', '.cs-file', '.doc', '.each', '.emf', '.exe', '.htaccess', '.htpasswd', '.ico', '.lib', '.net', '.net-1.0', '.net-1.1', '.net-2.0', '.net-3.0', '.net-3.5']\n"
          ],
          "name": "stdout"
        }
      ]
    },
    {
      "cell_type": "markdown",
      "metadata": {
        "id": "dqsxLgr9k7K0"
      },
      "source": [
        "## Number of times a tag appeared"
      ]
    },
    {
      "cell_type": "code",
      "metadata": {
        "id": "d5_qGE99k3Tq"
      },
      "source": [
        ""
      ],
      "execution_count": null,
      "outputs": []
    }
  ]
}