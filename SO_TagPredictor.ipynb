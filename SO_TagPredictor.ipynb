{
  "nbformat": 4,
  "nbformat_minor": 0,
  "metadata": {
    "colab": {
      "name": "SO_TagPredictor.ipynb",
      "provenance": [],
      "collapsed_sections": [],
      "authorship_tag": "ABX9TyPavSXRJ0wBj1zxTolZ+0gR",
      "include_colab_link": true
    },
    "kernelspec": {
      "display_name": "Python 3",
      "name": "python3"
    },
    "language_info": {
      "name": "python"
    }
  },
  "cells": [
    {
      "cell_type": "markdown",
      "metadata": {
        "id": "view-in-github",
        "colab_type": "text"
      },
      "source": [
        "<a href=\"https://colab.research.google.com/github/R-A-N-N/Stackoverflow-Tag-Predictor/blob/main/SO_TagPredictor.ipynb\" target=\"_parent\"><img src=\"https://colab.research.google.com/assets/colab-badge.svg\" alt=\"Open In Colab\"/></a>"
      ]
    },
    {
      "cell_type": "code",
      "metadata": {
        "colab": {
          "base_uri": "https://localhost:8080/"
        },
        "id": "CfAwjnfbaqVP",
        "outputId": "eb68fddc-5c6f-4bac-b5f8-6deec913232a"
      },
      "source": [
        "pip install scikit-multilearn"
      ],
      "execution_count": null,
      "outputs": [
        {
          "output_type": "stream",
          "text": [
            "Requirement already satisfied: scikit-multilearn in /usr/local/lib/python3.7/dist-packages (0.2.0)\n"
          ],
          "name": "stdout"
        }
      ]
    },
    {
      "cell_type": "markdown",
      "metadata": {
        "id": "3n8xRJ-31GE6"
      },
      "source": [
        "##All import statements"
      ]
    },
    {
      "cell_type": "code",
      "metadata": {
        "id": "v-kqxro9bHZe"
      },
      "source": [
        "import warnings\n",
        "warnings.filterwarnings(\"ignore\")\n",
        "import pandas as pd\n",
        "import sqlite3\n",
        "import csv\n",
        "import matplotlib.pyplot as plt\n",
        "import seaborn as sns\n",
        "import numpy as np\n",
        "from wordcloud import WordCloud\n",
        "import re\n",
        "import os\n",
        "from sqlalchemy import create_engine # database connection\n",
        "import datetime as dt\n",
        "from nltk.corpus import stopwords\n",
        "from nltk.tokenize import word_tokenize\n",
        "from nltk.stem.snowball import SnowballStemmer\n",
        "from sklearn.feature_extraction.text import CountVectorizer\n",
        "from sklearn.feature_extraction.text import TfidfVectorizer\n",
        "from sklearn.multiclass import OneVsRestClassifier\n",
        "from sklearn.linear_model import SGDClassifier\n",
        "from sklearn import metrics\n",
        "from sklearn.metrics import f1_score,precision_score,recall_score\n",
        "from sklearn import svm\n",
        "from sklearn.linear_model import LogisticRegression\n",
        "from skmultilearn.adapt import mlknn\n",
        "from skmultilearn.problem_transform import ClassifierChain\n",
        "from skmultilearn.problem_transform import BinaryRelevance\n",
        "from skmultilearn.problem_transform import LabelPowerset\n",
        "from sklearn.naive_bayes import GaussianNB\n",
        "from datetime import datetime"
      ],
      "execution_count": null,
      "outputs": []
    },
    {
      "cell_type": "code",
      "metadata": {
        "colab": {
          "base_uri": "https://localhost:8080/"
        },
        "id": "IJJitU6gf8x5",
        "outputId": "2da570af-d568-47b4-c685-166b8afab441"
      },
      "source": [
        "from google.colab import drive\n",
        "drive.mount(\"/content/gdrive\")"
      ],
      "execution_count": null,
      "outputs": [
        {
          "output_type": "stream",
          "text": [
            "Drive already mounted at /content/gdrive; to attempt to forcibly remount, call drive.mount(\"/content/gdrive\", force_remount=True).\n"
          ],
          "name": "stdout"
        }
      ]
    },
    {
      "cell_type": "markdown",
      "metadata": {
        "id": "yxa8SEOl06_5"
      },
      "source": [
        "##Loading the database"
      ]
    },
    {
      "cell_type": "code",
      "metadata": {
        "id": "WFhN5R-twIpc"
      },
      "source": [
        "con = sqlite3.connect('/content/gdrive/My Drive/so_train.db')"
      ],
      "execution_count": null,
      "outputs": []
    },
    {
      "cell_type": "code",
      "metadata": {
        "colab": {
          "base_uri": "https://localhost:8080/",
          "height": 415
        },
        "id": "W4XGbUqYuopG",
        "outputId": "0962c1ec-3df0-40ca-c185-79f0af0750b0"
      },
      "source": [
        "pd.read_sql_query('SELECT Title, Body, Tags FROM data', con)"
      ],
      "execution_count": null,
      "outputs": [
        {
          "output_type": "execute_result",
          "data": {
            "text/html": [
              "<div>\n",
              "<style scoped>\n",
              "    .dataframe tbody tr th:only-of-type {\n",
              "        vertical-align: middle;\n",
              "    }\n",
              "\n",
              "    .dataframe tbody tr th {\n",
              "        vertical-align: top;\n",
              "    }\n",
              "\n",
              "    .dataframe thead th {\n",
              "        text-align: right;\n",
              "    }\n",
              "</style>\n",
              "<table border=\"1\" class=\"dataframe\">\n",
              "  <thead>\n",
              "    <tr style=\"text-align: right;\">\n",
              "      <th></th>\n",
              "      <th>Title</th>\n",
              "      <th>Body</th>\n",
              "      <th>Tags</th>\n",
              "    </tr>\n",
              "  </thead>\n",
              "  <tbody>\n",
              "    <tr>\n",
              "      <th>0</th>\n",
              "      <td>How can I can read and modify data from XML file?</td>\n",
              "      <td>&lt;p&gt;Please give me the simplest way to read or ...</td>\n",
              "      <td>c# .net xml exception-handling</td>\n",
              "    </tr>\n",
              "    <tr>\n",
              "      <th>1</th>\n",
              "      <td>Java 2Dimensional Boolean Array Values</td>\n",
              "      <td>&lt;p&gt;I'm having a problem with my 2 dimensional ...</td>\n",
              "      <td>java multidimensional-array boolean</td>\n",
              "    </tr>\n",
              "    <tr>\n",
              "      <th>2</th>\n",
              "      <td>O(1) algorithm to determine if node is descend...</td>\n",
              "      <td>&lt;p&gt;Imagine the following tree:&lt;/p&gt;\\n\\n&lt;pre&gt;&lt;co...</td>\n",
              "      <td>algorithm tree trie descendant</td>\n",
              "    </tr>\n",
              "    <tr>\n",
              "      <th>3</th>\n",
              "      <td>C++ &amp; DirectX - setting shader</td>\n",
              "      <td>&lt;p&gt;Does someone know a fast way to invoke shad...</td>\n",
              "      <td>c++ performance directx shader</td>\n",
              "    </tr>\n",
              "    <tr>\n",
              "      <th>4</th>\n",
              "      <td>How to convert QR code to number?</td>\n",
              "      <td>&lt;p&gt;i have created QR-code through this site &lt;a...</td>\n",
              "      <td>android</td>\n",
              "    </tr>\n",
              "    <tr>\n",
              "      <th>...</th>\n",
              "      <td>...</td>\n",
              "      <td>...</td>\n",
              "      <td>...</td>\n",
              "    </tr>\n",
              "    <tr>\n",
              "      <th>406396</th>\n",
              "      <td>NetBeans: How to create a web service client t...</td>\n",
              "      <td>&lt;p&gt;I am trying to add a web service reference ...</td>\n",
              "      <td>java web-services ssl wsit</td>\n",
              "    </tr>\n",
              "    <tr>\n",
              "      <th>406397</th>\n",
              "      <td>Why does WPF require a STAThread attribute to ...</td>\n",
              "      <td>&lt;p&gt;I am new to WPF, and in every tutorial I re...</td>\n",
              "      <td>wpf stathread</td>\n",
              "    </tr>\n",
              "    <tr>\n",
              "      <th>406398</th>\n",
              "      <td>When i run aspnet_regsql, nothing is created i...</td>\n",
              "      <td>&lt;p&gt;When i run the aspnet_regsql.exe tool to ad...</td>\n",
              "      <td>.net sql-server-2005</td>\n",
              "    </tr>\n",
              "    <tr>\n",
              "      <th>406399</th>\n",
              "      <td>Prime Appearances in Fibonacci Number Factoriz...</td>\n",
              "      <td>&lt;p&gt;Okay, THIS one is considerably more analyti...</td>\n",
              "      <td>number-theory prime-numbers fibonacci-numbers</td>\n",
              "    </tr>\n",
              "    <tr>\n",
              "      <th>406400</th>\n",
              "      <td>Paypal - redirect after payment to my own page</td>\n",
              "      <td>&lt;p&gt;I would like to automatically redirecta a u...</td>\n",
              "      <td>ruby-on-rails paypal paypal-sandbox</td>\n",
              "    </tr>\n",
              "  </tbody>\n",
              "</table>\n",
              "<p>406401 rows × 3 columns</p>\n",
              "</div>"
            ],
            "text/plain": [
              "                                                    Title  ...                                           Tags\n",
              "0       How can I can read and modify data from XML file?  ...                 c# .net xml exception-handling\n",
              "1                  Java 2Dimensional Boolean Array Values  ...            java multidimensional-array boolean\n",
              "2       O(1) algorithm to determine if node is descend...  ...                 algorithm tree trie descendant\n",
              "3                          C++ & DirectX - setting shader  ...                 c++ performance directx shader\n",
              "4                       How to convert QR code to number?  ...                                        android\n",
              "...                                                   ...  ...                                            ...\n",
              "406396  NetBeans: How to create a web service client t...  ...                     java web-services ssl wsit\n",
              "406397  Why does WPF require a STAThread attribute to ...  ...                                  wpf stathread\n",
              "406398  When i run aspnet_regsql, nothing is created i...  ...                           .net sql-server-2005\n",
              "406399  Prime Appearances in Fibonacci Number Factoriz...  ...  number-theory prime-numbers fibonacci-numbers\n",
              "406400     Paypal - redirect after payment to my own page  ...            ruby-on-rails paypal paypal-sandbox\n",
              "\n",
              "[406401 rows x 3 columns]"
            ]
          },
          "metadata": {
            "tags": []
          },
          "execution_count": 51
        }
      ]
    },
    {
      "cell_type": "markdown",
      "metadata": {
        "id": "iAwJDW3kCGfB"
      },
      "source": [
        "## Removing Null values"
      ]
    },
    {
      "cell_type": "code",
      "metadata": {
        "colab": {
          "base_uri": "https://localhost:8080/",
          "height": 79
        },
        "id": "vDZW8whDCPa7",
        "outputId": "db179b26-8e26-4bae-c8b4-126354a5976b"
      },
      "source": [
        "none = pd.read_sql_query(\"Select Title,Body,Tags FROM no_dup_train WHERE Title IS NULL\",con)\n",
        "none"
      ],
      "execution_count": null,
      "outputs": [
        {
          "output_type": "execute_result",
          "data": {
            "text/html": [
              "<div>\n",
              "<style scoped>\n",
              "    .dataframe tbody tr th:only-of-type {\n",
              "        vertical-align: middle;\n",
              "    }\n",
              "\n",
              "    .dataframe tbody tr th {\n",
              "        vertical-align: top;\n",
              "    }\n",
              "\n",
              "    .dataframe thead th {\n",
              "        text-align: right;\n",
              "    }\n",
              "</style>\n",
              "<table border=\"1\" class=\"dataframe\">\n",
              "  <thead>\n",
              "    <tr style=\"text-align: right;\">\n",
              "      <th></th>\n",
              "      <th>Title</th>\n",
              "      <th>Body</th>\n",
              "      <th>Tags</th>\n",
              "    </tr>\n",
              "  </thead>\n",
              "  <tbody>\n",
              "    <tr>\n",
              "      <th>0</th>\n",
              "      <td>None</td>\n",
              "      <td>None</td>\n",
              "      <td>None</td>\n",
              "    </tr>\n",
              "  </tbody>\n",
              "</table>\n",
              "</div>"
            ],
            "text/plain": [
              "  Title  Body  Tags\n",
              "0  None  None  None"
            ]
          },
          "metadata": {
            "tags": []
          },
          "execution_count": 57
        }
      ]
    },
    {
      "cell_type": "markdown",
      "metadata": {
        "id": "ToPhBhVP1AN1"
      },
      "source": [
        "##Counting the number of rows"
      ]
    },
    {
      "cell_type": "code",
      "metadata": {
        "id": "36UNzfOswWuD",
        "colab": {
          "base_uri": "https://localhost:8080/"
        },
        "outputId": "206311cf-dc57-49ae-9b11-dbd03207cc46"
      },
      "source": [
        "num_rows = pd.read_sql_query(\"\"\"SELECT count(*) FROM data\"\"\", con)\n",
        "print(\"Number of rows in the database :\",\"\\n\",num_rows['count(*)'].values[0])"
      ],
      "execution_count": null,
      "outputs": [
        {
          "output_type": "stream",
          "text": [
            "Number of rows in the database : \n",
            " 406401\n"
          ],
          "name": "stdout"
        }
      ]
    },
    {
      "cell_type": "markdown",
      "metadata": {
        "id": "XcCqMpkX1Nye"
      },
      "source": [
        "##Checking for duplicates"
      ]
    },
    {
      "cell_type": "code",
      "metadata": {
        "id": "LrGitRonwe5m"
      },
      "source": [
        "df_no_dup = pd.read_sql_query('SELECT Title, Body, Tags, COUNT(*) as cnt_dup FROM data GROUP BY Title, Body, Tags', con)"
      ],
      "execution_count": null,
      "outputs": []
    },
    {
      "cell_type": "code",
      "metadata": {
        "id": "UIblUMOdz-CL",
        "colab": {
          "base_uri": "https://localhost:8080/"
        },
        "outputId": "d60ea37c-e683-487a-83c6-fb9f7b5a9bf3"
      },
      "source": [
        "print(\"number of duplicate questions :\", num_rows['count(*)'].values[0]- df_no_dup.shape[0], \"(\",(1-((df_no_dup.shape[0])/(num_rows['count(*)'].values[0])))*100,\"% )\")"
      ],
      "execution_count": null,
      "outputs": [
        {
          "output_type": "stream",
          "text": [
            "number of duplicate questions : 9409 ( 2.31520099606054 % )\n"
          ],
          "name": "stdout"
        }
      ]
    },
    {
      "cell_type": "code",
      "metadata": {
        "id": "5bvMxhsexAEP",
        "colab": {
          "base_uri": "https://localhost:8080/",
          "height": 419
        },
        "outputId": "edc9f027-be32-4fbc-9353-cb643a51e969"
      },
      "source": [
        "df_no_dup"
      ],
      "execution_count": null,
      "outputs": [
        {
          "output_type": "execute_result",
          "data": {
            "text/html": [
              "<div>\n",
              "<style scoped>\n",
              "    .dataframe tbody tr th:only-of-type {\n",
              "        vertical-align: middle;\n",
              "    }\n",
              "\n",
              "    .dataframe tbody tr th {\n",
              "        vertical-align: top;\n",
              "    }\n",
              "\n",
              "    .dataframe thead th {\n",
              "        text-align: right;\n",
              "    }\n",
              "</style>\n",
              "<table border=\"1\" class=\"dataframe\">\n",
              "  <thead>\n",
              "    <tr style=\"text-align: right;\">\n",
              "      <th></th>\n",
              "      <th>Title</th>\n",
              "      <th>Body</th>\n",
              "      <th>Tags</th>\n",
              "      <th>cnt_dup</th>\n",
              "    </tr>\n",
              "  </thead>\n",
              "  <tbody>\n",
              "    <tr>\n",
              "      <th>0</th>\n",
              "      <td>Implementing Boundary Value Analysis of S...</td>\n",
              "      <td>&lt;pre&gt;&lt;code&gt;#include&amp;lt;iostream&amp;gt;\\n#include&amp;...</td>\n",
              "      <td>c++ c</td>\n",
              "      <td>1</td>\n",
              "    </tr>\n",
              "    <tr>\n",
              "      <th>1</th>\n",
              "      <td>Dynamic Datagrid Binding in Silverlight?</td>\n",
              "      <td>&lt;p&gt;I should do binding for datagrid dynamicall...</td>\n",
              "      <td>c# silverlight data-binding</td>\n",
              "      <td>1</td>\n",
              "    </tr>\n",
              "    <tr>\n",
              "      <th>2</th>\n",
              "      <td>java.lang.NoSuchMethodError: javax.servlet.S...</td>\n",
              "      <td>&lt;p&gt;i want to have a servlet to process inputs ...</td>\n",
              "      <td>java servlets jboss</td>\n",
              "      <td>1</td>\n",
              "    </tr>\n",
              "    <tr>\n",
              "      <th>3</th>\n",
              "      <td>-2) = (1</td>\n",
              "      <td>-\\frac{3}{2}</td>\n",
              "      <td>-1)$&lt;/p&gt;</td>\n",
              "      <td>1</td>\n",
              "    </tr>\n",
              "    <tr>\n",
              "      <th>4</th>\n",
              "      <td>1)</td>\n",
              "      <td>System.Globalization.CalendarWeekRule.FirstDay</td>\n",
              "      <td>System.DayOfWeek.Sunday);</td>\n",
              "      <td>1</td>\n",
              "    </tr>\n",
              "    <tr>\n",
              "      <th>...</th>\n",
              "      <td>...</td>\n",
              "      <td>...</td>\n",
              "      <td>...</td>\n",
              "      <td>...</td>\n",
              "    </tr>\n",
              "    <tr>\n",
              "      <th>396987</th>\n",
              "      <td>“error: no such device” at boot in Ubuntu Serv...</td>\n",
              "      <td>&lt;p&gt;I have a configuration of 4 HDD's as Raid1 ...</td>\n",
              "      <td>server ubuntu-11.10 raid-1</td>\n",
              "      <td>1</td>\n",
              "    </tr>\n",
              "    <tr>\n",
              "      <th>396988</th>\n",
              "      <td>“git did not exit cleanly (exit code 128)” err...</td>\n",
              "      <td>&lt;p&gt;I am getting this error on my windows machi...</td>\n",
              "      <td>git tortoisegit git-bash</td>\n",
              "      <td>1</td>\n",
              "    </tr>\n",
              "    <tr>\n",
              "      <th>396989</th>\n",
              "      <td>“iTunes.app” incoming network connections?</td>\n",
              "      <td>&lt;p&gt;I am experiencing the same issue mentioned ...</td>\n",
              "      <td>itunes osx-lion</td>\n",
              "      <td>1</td>\n",
              "    </tr>\n",
              "    <tr>\n",
              "      <th>396990</th>\n",
              "      <td>“make &amp; make install” software on Linux</td>\n",
              "      <td>&lt;p&gt;I have worked on Linux for a year. One thin...</td>\n",
              "      <td>linux make</td>\n",
              "      <td>1</td>\n",
              "    </tr>\n",
              "    <tr>\n",
              "      <th>396991</th>\n",
              "      <td>“zero placeholder” for working counter as3</td>\n",
              "      <td>&lt;p&gt;&lt;strong&gt;How do make a zero placeholder for ...</td>\n",
              "      <td>flash actionscript-3</td>\n",
              "      <td>1</td>\n",
              "    </tr>\n",
              "  </tbody>\n",
              "</table>\n",
              "<p>396992 rows × 4 columns</p>\n",
              "</div>"
            ],
            "text/plain": [
              "                                                    Title  ... cnt_dup\n",
              "0            Implementing Boundary Value Analysis of S...  ...       1\n",
              "1                Dynamic Datagrid Binding in Silverlight?  ...       1\n",
              "2         java.lang.NoSuchMethodError: javax.servlet.S...  ...       1\n",
              "3                                                -2) = (1  ...       1\n",
              "4                                                      1)  ...       1\n",
              "...                                                   ...  ...     ...\n",
              "396987  “error: no such device” at boot in Ubuntu Serv...  ...       1\n",
              "396988  “git did not exit cleanly (exit code 128)” err...  ...       1\n",
              "396989         “iTunes.app” incoming network connections?  ...       1\n",
              "396990            “make & make install” software on Linux  ...       1\n",
              "396991         “zero placeholder” for working counter as3  ...       1\n",
              "\n",
              "[396992 rows x 4 columns]"
            ]
          },
          "metadata": {
            "tags": []
          },
          "execution_count": 38
        }
      ]
    },
    {
      "cell_type": "code",
      "metadata": {
        "id": "hIAJDEvBDUvV",
        "colab": {
          "base_uri": "https://localhost:8080/",
          "height": 419
        },
        "outputId": "faac65d0-0f3a-4d2d-fe81-c6c343c48b70"
      },
      "source": [
        "pd.read_sql_query('SELECT Title, Body, Tags, COUNT(*) as cnt_dup FROM data GROUP BY Title, Body, Tags ORDER BY cnt_dup', con)"
      ],
      "execution_count": null,
      "outputs": [
        {
          "output_type": "execute_result",
          "data": {
            "text/html": [
              "<div>\n",
              "<style scoped>\n",
              "    .dataframe tbody tr th:only-of-type {\n",
              "        vertical-align: middle;\n",
              "    }\n",
              "\n",
              "    .dataframe tbody tr th {\n",
              "        vertical-align: top;\n",
              "    }\n",
              "\n",
              "    .dataframe thead th {\n",
              "        text-align: right;\n",
              "    }\n",
              "</style>\n",
              "<table border=\"1\" class=\"dataframe\">\n",
              "  <thead>\n",
              "    <tr style=\"text-align: right;\">\n",
              "      <th></th>\n",
              "      <th>Title</th>\n",
              "      <th>Body</th>\n",
              "      <th>Tags</th>\n",
              "      <th>cnt_dup</th>\n",
              "    </tr>\n",
              "  </thead>\n",
              "  <tbody>\n",
              "    <tr>\n",
              "      <th>0</th>\n",
              "      <td>Implementing Boundary Value Analysis of S...</td>\n",
              "      <td>&lt;pre&gt;&lt;code&gt;#include&amp;lt;iostream&amp;gt;\\n#include&amp;...</td>\n",
              "      <td>c++ c</td>\n",
              "      <td>1</td>\n",
              "    </tr>\n",
              "    <tr>\n",
              "      <th>1</th>\n",
              "      <td>Dynamic Datagrid Binding in Silverlight?</td>\n",
              "      <td>&lt;p&gt;I should do binding for datagrid dynamicall...</td>\n",
              "      <td>c# silverlight data-binding</td>\n",
              "      <td>1</td>\n",
              "    </tr>\n",
              "    <tr>\n",
              "      <th>2</th>\n",
              "      <td>java.lang.NoSuchMethodError: javax.servlet.S...</td>\n",
              "      <td>&lt;p&gt;i want to have a servlet to process inputs ...</td>\n",
              "      <td>java servlets jboss</td>\n",
              "      <td>1</td>\n",
              "    </tr>\n",
              "    <tr>\n",
              "      <th>3</th>\n",
              "      <td>-2) = (1</td>\n",
              "      <td>-\\frac{3}{2}</td>\n",
              "      <td>-1)$&lt;/p&gt;</td>\n",
              "      <td>1</td>\n",
              "    </tr>\n",
              "    <tr>\n",
              "      <th>4</th>\n",
              "      <td>1)</td>\n",
              "      <td>System.Globalization.CalendarWeekRule.FirstDay</td>\n",
              "      <td>System.DayOfWeek.Sunday);</td>\n",
              "      <td>1</td>\n",
              "    </tr>\n",
              "    <tr>\n",
              "      <th>...</th>\n",
              "      <td>...</td>\n",
              "      <td>...</td>\n",
              "      <td>...</td>\n",
              "      <td>...</td>\n",
              "    </tr>\n",
              "    <tr>\n",
              "      <th>396987</th>\n",
              "      <td>maven set classes time stamp before packing th...</td>\n",
              "      <td>&lt;p&gt;I want to set the time stamp of the classes...</td>\n",
              "      <td>maven</td>\n",
              "      <td>3</td>\n",
              "    </tr>\n",
              "    <tr>\n",
              "      <th>396988</th>\n",
              "      <td>optimality of 2 in a continued fraction theorem</td>\n",
              "      <td>&lt;p&gt;I'm giving some lectures on continued fract...</td>\n",
              "      <td>number-theory continued-fractions</td>\n",
              "      <td>3</td>\n",
              "    </tr>\n",
              "    <tr>\n",
              "      <th>396989</th>\n",
              "      <td>parse url and title from string of multiple hr...</td>\n",
              "      <td>&lt;p&gt;i need to parse the url and title from mult...</td>\n",
              "      <td>regex parsing coldfusion</td>\n",
              "      <td>3</td>\n",
              "    </tr>\n",
              "    <tr>\n",
              "      <th>396990</th>\n",
              "      <td>send value location continues after 10 minute</td>\n",
              "      <td>&lt;p&gt;i want to send my location into my database...</td>\n",
              "      <td>android database latitude longitude</td>\n",
              "      <td>3</td>\n",
              "    </tr>\n",
              "    <tr>\n",
              "      <th>396991</th>\n",
              "      <td>zend validate user for a specific controller?</td>\n",
              "      <td>&lt;p&gt;HI i would like to know how to validate a u...</td>\n",
              "      <td>php zend-framework</td>\n",
              "      <td>3</td>\n",
              "    </tr>\n",
              "  </tbody>\n",
              "</table>\n",
              "<p>396992 rows × 4 columns</p>\n",
              "</div>"
            ],
            "text/plain": [
              "                                                    Title  ... cnt_dup\n",
              "0            Implementing Boundary Value Analysis of S...  ...       1\n",
              "1                Dynamic Datagrid Binding in Silverlight?  ...       1\n",
              "2         java.lang.NoSuchMethodError: javax.servlet.S...  ...       1\n",
              "3                                                -2) = (1  ...       1\n",
              "4                                                      1)  ...       1\n",
              "...                                                   ...  ...     ...\n",
              "396987  maven set classes time stamp before packing th...  ...       3\n",
              "396988    optimality of 2 in a continued fraction theorem  ...       3\n",
              "396989  parse url and title from string of multiple hr...  ...       3\n",
              "396990      send value location continues after 10 minute  ...       3\n",
              "396991      zend validate user for a specific controller?  ...       3\n",
              "\n",
              "[396992 rows x 4 columns]"
            ]
          },
          "metadata": {
            "tags": []
          },
          "execution_count": 39
        }
      ]
    },
    {
      "cell_type": "code",
      "metadata": {
        "id": "AOrx8m2O4zrT",
        "colab": {
          "base_uri": "https://localhost:8080/"
        },
        "outputId": "5c926155-54fa-401f-888e-994d926e5ec9"
      },
      "source": [
        "print(len(df_no_dup))"
      ],
      "execution_count": null,
      "outputs": [
        {
          "output_type": "stream",
          "text": [
            "396992\n"
          ],
          "name": "stdout"
        }
      ]
    },
    {
      "cell_type": "code",
      "metadata": {
        "id": "eyg3pyu37sAO",
        "colab": {
          "base_uri": "https://localhost:8080/"
        },
        "outputId": "6e84f254-f5b8-4c47-cf09-896c725b8777"
      },
      "source": [
        "# number of times each question appeared in our database\n",
        "df_no_dup.cnt_dup.value_counts()"
      ],
      "execution_count": null,
      "outputs": [
        {
          "output_type": "execute_result",
          "data": {
            "text/plain": [
              "1    387661\n",
              "2      9253\n",
              "3        78\n",
              "Name: cnt_dup, dtype: int64"
            ]
          },
          "metadata": {
            "tags": []
          },
          "execution_count": 41
        }
      ]
    },
    {
      "cell_type": "code",
      "metadata": {
        "id": "5pp0QqGZLxeT",
        "colab": {
          "base_uri": "https://localhost:8080/",
          "height": 221
        },
        "outputId": "b605aba8-8d5b-40d2-a0e3-7da84e0e7512"
      },
      "source": [
        "start = datetime.now()\n",
        "df_no_dup[\"tag_count\"] = df_no_dup[\"Tags\"].apply(lambda text: len(text.split(\" \")) if text else 0)\n",
        "# adding a new feature number of tags per question\n",
        "print(\"Time taken to run this cell :\", datetime.now() - start)\n",
        "df_no_dup.head()"
      ],
      "execution_count": null,
      "outputs": [
        {
          "output_type": "stream",
          "text": [
            "Time taken to run this cell : 0:00:00.271251\n"
          ],
          "name": "stdout"
        },
        {
          "output_type": "execute_result",
          "data": {
            "text/html": [
              "<div>\n",
              "<style scoped>\n",
              "    .dataframe tbody tr th:only-of-type {\n",
              "        vertical-align: middle;\n",
              "    }\n",
              "\n",
              "    .dataframe tbody tr th {\n",
              "        vertical-align: top;\n",
              "    }\n",
              "\n",
              "    .dataframe thead th {\n",
              "        text-align: right;\n",
              "    }\n",
              "</style>\n",
              "<table border=\"1\" class=\"dataframe\">\n",
              "  <thead>\n",
              "    <tr style=\"text-align: right;\">\n",
              "      <th></th>\n",
              "      <th>Title</th>\n",
              "      <th>Body</th>\n",
              "      <th>Tags</th>\n",
              "      <th>cnt_dup</th>\n",
              "      <th>tag_count</th>\n",
              "    </tr>\n",
              "  </thead>\n",
              "  <tbody>\n",
              "    <tr>\n",
              "      <th>0</th>\n",
              "      <td>Implementing Boundary Value Analysis of S...</td>\n",
              "      <td>&lt;pre&gt;&lt;code&gt;#include&amp;lt;iostream&amp;gt;\\n#include&amp;...</td>\n",
              "      <td>c++ c</td>\n",
              "      <td>1</td>\n",
              "      <td>2</td>\n",
              "    </tr>\n",
              "    <tr>\n",
              "      <th>1</th>\n",
              "      <td>Dynamic Datagrid Binding in Silverlight?</td>\n",
              "      <td>&lt;p&gt;I should do binding for datagrid dynamicall...</td>\n",
              "      <td>c# silverlight data-binding</td>\n",
              "      <td>1</td>\n",
              "      <td>3</td>\n",
              "    </tr>\n",
              "    <tr>\n",
              "      <th>2</th>\n",
              "      <td>java.lang.NoSuchMethodError: javax.servlet.S...</td>\n",
              "      <td>&lt;p&gt;i want to have a servlet to process inputs ...</td>\n",
              "      <td>java servlets jboss</td>\n",
              "      <td>1</td>\n",
              "      <td>3</td>\n",
              "    </tr>\n",
              "    <tr>\n",
              "      <th>3</th>\n",
              "      <td>-2) = (1</td>\n",
              "      <td>-\\frac{3}{2}</td>\n",
              "      <td>-1)$&lt;/p&gt;</td>\n",
              "      <td>1</td>\n",
              "      <td>2</td>\n",
              "    </tr>\n",
              "    <tr>\n",
              "      <th>4</th>\n",
              "      <td>1)</td>\n",
              "      <td>System.Globalization.CalendarWeekRule.FirstDay</td>\n",
              "      <td>System.DayOfWeek.Sunday);</td>\n",
              "      <td>1</td>\n",
              "      <td>2</td>\n",
              "    </tr>\n",
              "  </tbody>\n",
              "</table>\n",
              "</div>"
            ],
            "text/plain": [
              "                                               Title  ... tag_count\n",
              "0       Implementing Boundary Value Analysis of S...  ...         2\n",
              "1           Dynamic Datagrid Binding in Silverlight?  ...         3\n",
              "2    java.lang.NoSuchMethodError: javax.servlet.S...  ...         3\n",
              "3                                           -2) = (1  ...         2\n",
              "4                                                 1)  ...         2\n",
              "\n",
              "[5 rows x 5 columns]"
            ]
          },
          "metadata": {
            "tags": []
          },
          "execution_count": 42
        }
      ]
    },
    {
      "cell_type": "code",
      "metadata": {
        "id": "GbQn01zO_9EJ",
        "colab": {
          "base_uri": "https://localhost:8080/"
        },
        "outputId": "7a9a989e-cc8d-4834-cb0b-acc00067accb"
      },
      "source": [
        "# distribution of number of tags per question\n",
        "df_no_dup.tag_count.value_counts()"
      ],
      "execution_count": null,
      "outputs": [
        {
          "output_type": "execute_result",
          "data": {
            "text/plain": [
              "3     113343\n",
              "2     105896\n",
              "4      76244\n",
              "1      54661\n",
              "5      46837\n",
              "17         2\n",
              "11         2\n",
              "10         2\n",
              "19         1\n",
              "16         1\n",
              "14         1\n",
              "8          1\n",
              "6          1\n",
              "Name: tag_count, dtype: int64"
            ]
          },
          "metadata": {
            "tags": []
          },
          "execution_count": 43
        }
      ]
    },
    {
      "cell_type": "code",
      "metadata": {
        "colab": {
          "base_uri": "https://localhost:8080/"
        },
        "id": "9ikaYkvJJvZd",
        "outputId": "faddb1f9-12d9-4877-896e-f5476de17558"
      },
      "source": [
        "con = sqlite3.connect('/content/gdrive/My Drive/train_no_dup.db')\n",
        "start = datetime.now()\n",
        "tag_data = pd.read_sql_query(\"\"\"SELECT Tags FROM no_dup_train\"\"\", con)\n",
        "#Always remember to close the database\n",
        "# Let's now drop unwanted column.\n",
        "tag_data.drop(tag_data.index[0], inplace=True)\n",
        "#Printing first 5 columns from our data frame\n",
        "tag_data.head()\n",
        "print(\"Time taken to run this cell :\", datetime.now() - start)\n"
      ],
      "execution_count": null,
      "outputs": [
        {
          "output_type": "stream",
          "text": [
            "Time taken to run this cell : 0:00:01.598036\n"
          ],
          "name": "stdout"
        }
      ]
    },
    {
      "cell_type": "code",
      "metadata": {
        "id": "xvx7SDd2L1lD",
        "colab": {
          "base_uri": "https://localhost:8080/"
        },
        "outputId": "7ab43109-9b15-442c-b841-9bae74d5be83"
      },
      "source": [
        "print(\"I am Amruta and I am trying this !! \")"
      ],
      "execution_count": 1,
      "outputs": [
        {
          "output_type": "stream",
          "text": [
            "I am Amruta and I am trying this !! \n"
          ],
          "name": "stdout"
        }
      ]
    },
    {
      "cell_type": "code",
      "metadata": {
        "id": "q5FNvb_2a7et"
      },
      "source": [
        ""
      ],
      "execution_count": null,
      "outputs": []
    }
  ]
}