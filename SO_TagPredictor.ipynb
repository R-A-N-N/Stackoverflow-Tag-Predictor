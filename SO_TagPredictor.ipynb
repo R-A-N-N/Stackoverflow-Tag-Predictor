{
  "nbformat": 4,
  "nbformat_minor": 0,
  "metadata": {
    "colab": {
      "name": "SO_TagPredictor.ipynb",
      "provenance": [],
      "collapsed_sections": [],
      "authorship_tag": "ABX9TyP/8yAhlD5YiY1cZOHpniy0",
      "include_colab_link": true
    },
    "kernelspec": {
      "display_name": "Python 3",
      "name": "python3"
    },
    "language_info": {
      "name": "python"
    }
  },
  "cells": [
    {
      "cell_type": "markdown",
      "metadata": {
        "id": "view-in-github",
        "colab_type": "text"
      },
      "source": [
        "<a href=\"https://colab.research.google.com/github/R-A-N-N/Stackoverflow-Tag-Predictor/blob/main/SO_TagPredictor.ipynb\" target=\"_parent\"><img src=\"https://colab.research.google.com/assets/colab-badge.svg\" alt=\"Open In Colab\"/></a>"
      ]
    },
    {
      "cell_type": "code",
      "metadata": {
        "colab": {
          "base_uri": "https://localhost:8080/"
        },
        "id": "CfAwjnfbaqVP",
        "outputId": "62a8d1b5-4299-48d4-cd52-e7175e0463b5"
      },
      "source": [
        "pip install scikit-multilearn"
      ],
      "execution_count": 2,
      "outputs": [
        {
          "output_type": "stream",
          "text": [
            "Collecting scikit-multilearn\n",
            "\u001b[?25l  Downloading https://files.pythonhosted.org/packages/bb/1f/e6ff649c72a1cdf2c7a1d31eb21705110ce1c5d3e7e26b2cc300e1637272/scikit_multilearn-0.2.0-py3-none-any.whl (89kB)\n",
            "\r\u001b[K     |███▊                            | 10kB 14.4MB/s eta 0:00:01\r\u001b[K     |███████▍                        | 20kB 12.9MB/s eta 0:00:01\r\u001b[K     |███████████                     | 30kB 8.5MB/s eta 0:00:01\r\u001b[K     |██████████████▊                 | 40kB 7.7MB/s eta 0:00:01\r\u001b[K     |██████████████████▍             | 51kB 4.3MB/s eta 0:00:01\r\u001b[K     |██████████████████████          | 61kB 5.0MB/s eta 0:00:01\r\u001b[K     |█████████████████████████▊      | 71kB 5.0MB/s eta 0:00:01\r\u001b[K     |█████████████████████████████▍  | 81kB 5.3MB/s eta 0:00:01\r\u001b[K     |████████████████████████████████| 92kB 3.6MB/s \n",
            "\u001b[?25hInstalling collected packages: scikit-multilearn\n",
            "Successfully installed scikit-multilearn-0.2.0\n"
          ],
          "name": "stdout"
        }
      ]
    },
    {
      "cell_type": "markdown",
      "metadata": {
        "id": "3n8xRJ-31GE6"
      },
      "source": [
        "##All import statements"
      ]
    },
    {
      "cell_type": "code",
      "metadata": {
        "id": "v-kqxro9bHZe"
      },
      "source": [
        "import warnings\n",
        "warnings.filterwarnings(\"ignore\")\n",
        "import pandas as pd\n",
        "import sqlite3\n",
        "import csv\n",
        "import matplotlib.pyplot as plt\n",
        "import seaborn as sns\n",
        "import numpy as np\n",
        "from wordcloud import WordCloud\n",
        "import re\n",
        "import os\n",
        "from sqlalchemy import create_engine # database connection\n",
        "import datetime as dt\n",
        "from nltk.corpus import stopwords\n",
        "from nltk.tokenize import word_tokenize\n",
        "from nltk.stem.snowball import SnowballStemmer\n",
        "from sklearn.feature_extraction.text import CountVectorizer\n",
        "from sklearn.feature_extraction.text import TfidfVectorizer\n",
        "from sklearn.multiclass import OneVsRestClassifier\n",
        "from sklearn.linear_model import SGDClassifier\n",
        "from sklearn import metrics\n",
        "from sklearn.metrics import f1_score,precision_score,recall_score\n",
        "from sklearn import svm\n",
        "from sklearn.linear_model import LogisticRegression\n",
        "from skmultilearn.adapt import mlknn\n",
        "from skmultilearn.problem_transform import ClassifierChain\n",
        "from skmultilearn.problem_transform import BinaryRelevance\n",
        "from skmultilearn.problem_transform import LabelPowerset\n",
        "from sklearn.naive_bayes import GaussianNB\n",
        "from datetime import datetime"
      ],
      "execution_count": 3,
      "outputs": []
    },
    {
      "cell_type": "code",
      "metadata": {
        "colab": {
          "base_uri": "https://localhost:8080/"
        },
        "id": "4DpIp0-nPPkC",
        "outputId": "a8d06ac3-941a-429f-e921-0ba83b927e8b"
      },
      "source": [
        "from google.colab import drive\n",
        "drive.mount(\"/content/gdrive\")"
      ],
      "execution_count": 4,
      "outputs": [
        {
          "output_type": "stream",
          "text": [
            "Mounted at /content/gdrive\n"
          ],
          "name": "stdout"
        }
      ]
    },
    {
      "cell_type": "markdown",
      "metadata": {
        "id": "yxa8SEOl06_5"
      },
      "source": [
        "##Loading the database"
      ]
    },
    {
      "cell_type": "code",
      "metadata": {
        "id": "WFhN5R-twIpc"
      },
      "source": [
        "con = sqlite3.connect('/content/gdrive/My Drive/so_train.db')"
      ],
      "execution_count": 5,
      "outputs": []
    },
    {
      "cell_type": "code",
      "metadata": {
        "colab": {
          "base_uri": "https://localhost:8080/",
          "height": 415
        },
        "id": "W4XGbUqYuopG",
        "outputId": "6baff875-b159-4857-ce12-cdfb8ea3017d"
      },
      "source": [
        "pd.read_sql_query('SELECT Title, Body, Tags FROM data', con)"
      ],
      "execution_count": 6,
      "outputs": [
        {
          "output_type": "execute_result",
          "data": {
            "text/html": [
              "<div>\n",
              "<style scoped>\n",
              "    .dataframe tbody tr th:only-of-type {\n",
              "        vertical-align: middle;\n",
              "    }\n",
              "\n",
              "    .dataframe tbody tr th {\n",
              "        vertical-align: top;\n",
              "    }\n",
              "\n",
              "    .dataframe thead th {\n",
              "        text-align: right;\n",
              "    }\n",
              "</style>\n",
              "<table border=\"1\" class=\"dataframe\">\n",
              "  <thead>\n",
              "    <tr style=\"text-align: right;\">\n",
              "      <th></th>\n",
              "      <th>Title</th>\n",
              "      <th>Body</th>\n",
              "      <th>Tags</th>\n",
              "    </tr>\n",
              "  </thead>\n",
              "  <tbody>\n",
              "    <tr>\n",
              "      <th>0</th>\n",
              "      <td>How can I can read and modify data from XML file?</td>\n",
              "      <td>&lt;p&gt;Please give me the simplest way to read or ...</td>\n",
              "      <td>c# .net xml exception-handling</td>\n",
              "    </tr>\n",
              "    <tr>\n",
              "      <th>1</th>\n",
              "      <td>Java 2Dimensional Boolean Array Values</td>\n",
              "      <td>&lt;p&gt;I'm having a problem with my 2 dimensional ...</td>\n",
              "      <td>java multidimensional-array boolean</td>\n",
              "    </tr>\n",
              "    <tr>\n",
              "      <th>2</th>\n",
              "      <td>O(1) algorithm to determine if node is descend...</td>\n",
              "      <td>&lt;p&gt;Imagine the following tree:&lt;/p&gt;\\n\\n&lt;pre&gt;&lt;co...</td>\n",
              "      <td>algorithm tree trie descendant</td>\n",
              "    </tr>\n",
              "    <tr>\n",
              "      <th>3</th>\n",
              "      <td>C++ &amp; DirectX - setting shader</td>\n",
              "      <td>&lt;p&gt;Does someone know a fast way to invoke shad...</td>\n",
              "      <td>c++ performance directx shader</td>\n",
              "    </tr>\n",
              "    <tr>\n",
              "      <th>4</th>\n",
              "      <td>How to convert QR code to number?</td>\n",
              "      <td>&lt;p&gt;i have created QR-code through this site &lt;a...</td>\n",
              "      <td>android</td>\n",
              "    </tr>\n",
              "    <tr>\n",
              "      <th>...</th>\n",
              "      <td>...</td>\n",
              "      <td>...</td>\n",
              "      <td>...</td>\n",
              "    </tr>\n",
              "    <tr>\n",
              "      <th>406396</th>\n",
              "      <td>NetBeans: How to create a web service client t...</td>\n",
              "      <td>&lt;p&gt;I am trying to add a web service reference ...</td>\n",
              "      <td>java web-services ssl wsit</td>\n",
              "    </tr>\n",
              "    <tr>\n",
              "      <th>406397</th>\n",
              "      <td>Why does WPF require a STAThread attribute to ...</td>\n",
              "      <td>&lt;p&gt;I am new to WPF, and in every tutorial I re...</td>\n",
              "      <td>wpf stathread</td>\n",
              "    </tr>\n",
              "    <tr>\n",
              "      <th>406398</th>\n",
              "      <td>When i run aspnet_regsql, nothing is created i...</td>\n",
              "      <td>&lt;p&gt;When i run the aspnet_regsql.exe tool to ad...</td>\n",
              "      <td>.net sql-server-2005</td>\n",
              "    </tr>\n",
              "    <tr>\n",
              "      <th>406399</th>\n",
              "      <td>Prime Appearances in Fibonacci Number Factoriz...</td>\n",
              "      <td>&lt;p&gt;Okay, THIS one is considerably more analyti...</td>\n",
              "      <td>number-theory prime-numbers fibonacci-numbers</td>\n",
              "    </tr>\n",
              "    <tr>\n",
              "      <th>406400</th>\n",
              "      <td>Paypal - redirect after payment to my own page</td>\n",
              "      <td>&lt;p&gt;I would like to automatically redirecta a u...</td>\n",
              "      <td>ruby-on-rails paypal paypal-sandbox</td>\n",
              "    </tr>\n",
              "  </tbody>\n",
              "</table>\n",
              "<p>406401 rows × 3 columns</p>\n",
              "</div>"
            ],
            "text/plain": [
              "                                                    Title  ...                                           Tags\n",
              "0       How can I can read and modify data from XML file?  ...                 c# .net xml exception-handling\n",
              "1                  Java 2Dimensional Boolean Array Values  ...            java multidimensional-array boolean\n",
              "2       O(1) algorithm to determine if node is descend...  ...                 algorithm tree trie descendant\n",
              "3                          C++ & DirectX - setting shader  ...                 c++ performance directx shader\n",
              "4                       How to convert QR code to number?  ...                                        android\n",
              "...                                                   ...  ...                                            ...\n",
              "406396  NetBeans: How to create a web service client t...  ...                     java web-services ssl wsit\n",
              "406397  Why does WPF require a STAThread attribute to ...  ...                                  wpf stathread\n",
              "406398  When i run aspnet_regsql, nothing is created i...  ...                           .net sql-server-2005\n",
              "406399  Prime Appearances in Fibonacci Number Factoriz...  ...  number-theory prime-numbers fibonacci-numbers\n",
              "406400     Paypal - redirect after payment to my own page  ...            ruby-on-rails paypal paypal-sandbox\n",
              "\n",
              "[406401 rows x 3 columns]"
            ]
          },
          "metadata": {
            "tags": []
          },
          "execution_count": 6
        }
      ]
    },
    {
      "cell_type": "code",
      "metadata": {
        "id": "B7xLTzHC5Lkq"
      },
      "source": [
        "con2 = sqlite3.connect('/content/gdrive/My Drive/train_no_dup.db')"
      ],
      "execution_count": 7,
      "outputs": []
    },
    {
      "cell_type": "markdown",
      "metadata": {
        "id": "iAwJDW3kCGfB"
      },
      "source": [
        "## Removing Null values"
      ]
    },
    {
      "cell_type": "code",
      "metadata": {
        "colab": {
          "base_uri": "https://localhost:8080/",
          "height": 311
        },
        "id": "1sIN_80FPn_z",
        "outputId": "01121bd9-a682-4297-c46e-ca50ac4065e4"
      },
      "source": [
        "pd.read_sql_query('Delete FROM data where Title IS NULL',con2)"
      ],
      "execution_count": 8,
      "outputs": [
        {
          "output_type": "error",
          "ename": "TypeError",
          "evalue": "ignored",
          "traceback": [
            "\u001b[0;31m---------------------------------------------------------------------------\u001b[0m",
            "\u001b[0;31mTypeError\u001b[0m                                 Traceback (most recent call last)",
            "\u001b[0;32m<ipython-input-8-5ae43f7776ba>\u001b[0m in \u001b[0;36m<module>\u001b[0;34m()\u001b[0m\n\u001b[0;32m----> 1\u001b[0;31m \u001b[0mpd\u001b[0m\u001b[0;34m.\u001b[0m\u001b[0mread_sql_query\u001b[0m\u001b[0;34m(\u001b[0m\u001b[0;34m'Delete FROM data where Title IS NULL'\u001b[0m\u001b[0;34m,\u001b[0m\u001b[0mcon2\u001b[0m\u001b[0;34m)\u001b[0m\u001b[0;34m\u001b[0m\u001b[0;34m\u001b[0m\u001b[0m\n\u001b[0m",
            "\u001b[0;32m/usr/local/lib/python3.7/dist-packages/pandas/io/sql.py\u001b[0m in \u001b[0;36mread_sql_query\u001b[0;34m(sql, con, index_col, coerce_float, params, parse_dates, chunksize)\u001b[0m\n\u001b[1;32m    381\u001b[0m         \u001b[0mcoerce_float\u001b[0m\u001b[0;34m=\u001b[0m\u001b[0mcoerce_float\u001b[0m\u001b[0;34m,\u001b[0m\u001b[0;34m\u001b[0m\u001b[0;34m\u001b[0m\u001b[0m\n\u001b[1;32m    382\u001b[0m         \u001b[0mparse_dates\u001b[0m\u001b[0;34m=\u001b[0m\u001b[0mparse_dates\u001b[0m\u001b[0;34m,\u001b[0m\u001b[0;34m\u001b[0m\u001b[0;34m\u001b[0m\u001b[0m\n\u001b[0;32m--> 383\u001b[0;31m         \u001b[0mchunksize\u001b[0m\u001b[0;34m=\u001b[0m\u001b[0mchunksize\u001b[0m\u001b[0;34m,\u001b[0m\u001b[0;34m\u001b[0m\u001b[0;34m\u001b[0m\u001b[0m\n\u001b[0m\u001b[1;32m    384\u001b[0m     )\n\u001b[1;32m    385\u001b[0m \u001b[0;34m\u001b[0m\u001b[0m\n",
            "\u001b[0;32m/usr/local/lib/python3.7/dist-packages/pandas/io/sql.py\u001b[0m in \u001b[0;36mread_query\u001b[0;34m(self, sql, index_col, coerce_float, params, parse_dates, chunksize)\u001b[0m\n\u001b[1;32m   1726\u001b[0m         \u001b[0margs\u001b[0m \u001b[0;34m=\u001b[0m \u001b[0m_convert_params\u001b[0m\u001b[0;34m(\u001b[0m\u001b[0msql\u001b[0m\u001b[0;34m,\u001b[0m \u001b[0mparams\u001b[0m\u001b[0;34m)\u001b[0m\u001b[0;34m\u001b[0m\u001b[0;34m\u001b[0m\u001b[0m\n\u001b[1;32m   1727\u001b[0m         \u001b[0mcursor\u001b[0m \u001b[0;34m=\u001b[0m \u001b[0mself\u001b[0m\u001b[0;34m.\u001b[0m\u001b[0mexecute\u001b[0m\u001b[0;34m(\u001b[0m\u001b[0;34m*\u001b[0m\u001b[0margs\u001b[0m\u001b[0;34m)\u001b[0m\u001b[0;34m\u001b[0m\u001b[0;34m\u001b[0m\u001b[0m\n\u001b[0;32m-> 1728\u001b[0;31m         \u001b[0mcolumns\u001b[0m \u001b[0;34m=\u001b[0m \u001b[0;34m[\u001b[0m\u001b[0mcol_desc\u001b[0m\u001b[0;34m[\u001b[0m\u001b[0;36m0\u001b[0m\u001b[0;34m]\u001b[0m \u001b[0;32mfor\u001b[0m \u001b[0mcol_desc\u001b[0m \u001b[0;32min\u001b[0m \u001b[0mcursor\u001b[0m\u001b[0;34m.\u001b[0m\u001b[0mdescription\u001b[0m\u001b[0;34m]\u001b[0m\u001b[0;34m\u001b[0m\u001b[0;34m\u001b[0m\u001b[0m\n\u001b[0m\u001b[1;32m   1729\u001b[0m \u001b[0;34m\u001b[0m\u001b[0m\n\u001b[1;32m   1730\u001b[0m         \u001b[0;32mif\u001b[0m \u001b[0mchunksize\u001b[0m \u001b[0;32mis\u001b[0m \u001b[0;32mnot\u001b[0m \u001b[0;32mNone\u001b[0m\u001b[0;34m:\u001b[0m\u001b[0;34m\u001b[0m\u001b[0;34m\u001b[0m\u001b[0m\n",
            "\u001b[0;31mTypeError\u001b[0m: 'NoneType' object is not iterable"
          ]
        }
      ]
    },
    {
      "cell_type": "code",
      "metadata": {
        "id": "Qk5ce240Pqdy"
      },
      "source": [
        "pd.read_sql_query('Delete FROM data where Tags IS NULL',con2)"
      ],
      "execution_count": null,
      "outputs": []
    },
    {
      "cell_type": "code",
      "metadata": {
        "id": "vDZW8whDCPa7",
        "colab": {
          "base_uri": "https://localhost:8080/",
          "height": 49
        },
        "outputId": "bce7fb16-bab3-453a-ba2d-e909071ac52f"
      },
      "source": [
        "none = pd.read_sql_query(\"Select Title,Body,Tags FROM data WHERE Tags IS NULL\",con2)\n",
        "none"
      ],
      "execution_count": 9,
      "outputs": [
        {
          "output_type": "execute_result",
          "data": {
            "text/html": [
              "<div>\n",
              "<style scoped>\n",
              "    .dataframe tbody tr th:only-of-type {\n",
              "        vertical-align: middle;\n",
              "    }\n",
              "\n",
              "    .dataframe tbody tr th {\n",
              "        vertical-align: top;\n",
              "    }\n",
              "\n",
              "    .dataframe thead th {\n",
              "        text-align: right;\n",
              "    }\n",
              "</style>\n",
              "<table border=\"1\" class=\"dataframe\">\n",
              "  <thead>\n",
              "    <tr style=\"text-align: right;\">\n",
              "      <th></th>\n",
              "      <th>Title</th>\n",
              "      <th>Body</th>\n",
              "      <th>Tags</th>\n",
              "    </tr>\n",
              "  </thead>\n",
              "  <tbody>\n",
              "  </tbody>\n",
              "</table>\n",
              "</div>"
            ],
            "text/plain": [
              "Empty DataFrame\n",
              "Columns: [Title, Body, Tags]\n",
              "Index: []"
            ]
          },
          "metadata": {
            "tags": []
          },
          "execution_count": 9
        }
      ]
    },
    {
      "cell_type": "markdown",
      "metadata": {
        "id": "ToPhBhVP1AN1"
      },
      "source": [
        "##Counting the number of rows"
      ]
    },
    {
      "cell_type": "code",
      "metadata": {
        "id": "36UNzfOswWuD",
        "colab": {
          "base_uri": "https://localhost:8080/"
        },
        "outputId": "98712861-2643-4869-8adb-b4911a79c5f2"
      },
      "source": [
        "num_rows = pd.read_sql_query(\"\"\"SELECT count(*) FROM data\"\"\", con)\n",
        "print(\"Number of rows in the database :\",\"\\n\",num_rows['count(*)'].values[0])"
      ],
      "execution_count": 10,
      "outputs": [
        {
          "output_type": "stream",
          "text": [
            "Number of rows in the database : \n",
            " 406401\n"
          ],
          "name": "stdout"
        }
      ]
    },
    {
      "cell_type": "markdown",
      "metadata": {
        "id": "XcCqMpkX1Nye"
      },
      "source": [
        "##Checking for duplicates"
      ]
    },
    {
      "cell_type": "code",
      "metadata": {
        "id": "LrGitRonwe5m"
      },
      "source": [
        "df_no_dup = pd.read_sql_query('SELECT Title, Body, Tags, COUNT(*) as cnt_dup FROM data GROUP BY Title, Body, Tags', con)"
      ],
      "execution_count": 11,
      "outputs": []
    },
    {
      "cell_type": "code",
      "metadata": {
        "id": "UIblUMOdz-CL",
        "colab": {
          "base_uri": "https://localhost:8080/"
        },
        "outputId": "23d1a65d-5505-405f-f7d3-86cb05b6e123"
      },
      "source": [
        "print(\"number of duplicate questions :\", num_rows['count(*)'].values[0]- df_no_dup.shape[0], \"(\",(1-((df_no_dup.shape[0])/(num_rows['count(*)'].values[0])))*100,\"% )\")"
      ],
      "execution_count": 12,
      "outputs": [
        {
          "output_type": "stream",
          "text": [
            "number of duplicate questions : 9409 ( 2.31520099606054 % )\n"
          ],
          "name": "stdout"
        }
      ]
    },
    {
      "cell_type": "code",
      "metadata": {
        "id": "hIAJDEvBDUvV",
        "colab": {
          "base_uri": "https://localhost:8080/",
          "height": 415
        },
        "outputId": "c950e1e5-70a0-4279-9cf6-0c0e895aaf42"
      },
      "source": [
        "pd.read_sql_query('SELECT Title, Body, Tags, COUNT(*) as cnt_dup FROM data GROUP BY Title, Body, Tags ORDER BY cnt_dup', con)"
      ],
      "execution_count": 13,
      "outputs": [
        {
          "output_type": "execute_result",
          "data": {
            "text/html": [
              "<div>\n",
              "<style scoped>\n",
              "    .dataframe tbody tr th:only-of-type {\n",
              "        vertical-align: middle;\n",
              "    }\n",
              "\n",
              "    .dataframe tbody tr th {\n",
              "        vertical-align: top;\n",
              "    }\n",
              "\n",
              "    .dataframe thead th {\n",
              "        text-align: right;\n",
              "    }\n",
              "</style>\n",
              "<table border=\"1\" class=\"dataframe\">\n",
              "  <thead>\n",
              "    <tr style=\"text-align: right;\">\n",
              "      <th></th>\n",
              "      <th>Title</th>\n",
              "      <th>Body</th>\n",
              "      <th>Tags</th>\n",
              "      <th>cnt_dup</th>\n",
              "    </tr>\n",
              "  </thead>\n",
              "  <tbody>\n",
              "    <tr>\n",
              "      <th>0</th>\n",
              "      <td>Implementing Boundary Value Analysis of S...</td>\n",
              "      <td>&lt;pre&gt;&lt;code&gt;#include&amp;lt;iostream&amp;gt;\\n#include&amp;...</td>\n",
              "      <td>c++ c</td>\n",
              "      <td>1</td>\n",
              "    </tr>\n",
              "    <tr>\n",
              "      <th>1</th>\n",
              "      <td>Dynamic Datagrid Binding in Silverlight?</td>\n",
              "      <td>&lt;p&gt;I should do binding for datagrid dynamicall...</td>\n",
              "      <td>c# silverlight data-binding</td>\n",
              "      <td>1</td>\n",
              "    </tr>\n",
              "    <tr>\n",
              "      <th>2</th>\n",
              "      <td>java.lang.NoSuchMethodError: javax.servlet.S...</td>\n",
              "      <td>&lt;p&gt;i want to have a servlet to process inputs ...</td>\n",
              "      <td>java servlets jboss</td>\n",
              "      <td>1</td>\n",
              "    </tr>\n",
              "    <tr>\n",
              "      <th>3</th>\n",
              "      <td>-2) = (1</td>\n",
              "      <td>-\\frac{3}{2}</td>\n",
              "      <td>-1)$&lt;/p&gt;</td>\n",
              "      <td>1</td>\n",
              "    </tr>\n",
              "    <tr>\n",
              "      <th>4</th>\n",
              "      <td>1)</td>\n",
              "      <td>System.Globalization.CalendarWeekRule.FirstDay</td>\n",
              "      <td>System.DayOfWeek.Sunday);</td>\n",
              "      <td>1</td>\n",
              "    </tr>\n",
              "    <tr>\n",
              "      <th>...</th>\n",
              "      <td>...</td>\n",
              "      <td>...</td>\n",
              "      <td>...</td>\n",
              "      <td>...</td>\n",
              "    </tr>\n",
              "    <tr>\n",
              "      <th>396987</th>\n",
              "      <td>maven set classes time stamp before packing th...</td>\n",
              "      <td>&lt;p&gt;I want to set the time stamp of the classes...</td>\n",
              "      <td>maven</td>\n",
              "      <td>3</td>\n",
              "    </tr>\n",
              "    <tr>\n",
              "      <th>396988</th>\n",
              "      <td>optimality of 2 in a continued fraction theorem</td>\n",
              "      <td>&lt;p&gt;I'm giving some lectures on continued fract...</td>\n",
              "      <td>number-theory continued-fractions</td>\n",
              "      <td>3</td>\n",
              "    </tr>\n",
              "    <tr>\n",
              "      <th>396989</th>\n",
              "      <td>parse url and title from string of multiple hr...</td>\n",
              "      <td>&lt;p&gt;i need to parse the url and title from mult...</td>\n",
              "      <td>regex parsing coldfusion</td>\n",
              "      <td>3</td>\n",
              "    </tr>\n",
              "    <tr>\n",
              "      <th>396990</th>\n",
              "      <td>send value location continues after 10 minute</td>\n",
              "      <td>&lt;p&gt;i want to send my location into my database...</td>\n",
              "      <td>android database latitude longitude</td>\n",
              "      <td>3</td>\n",
              "    </tr>\n",
              "    <tr>\n",
              "      <th>396991</th>\n",
              "      <td>zend validate user for a specific controller?</td>\n",
              "      <td>&lt;p&gt;HI i would like to know how to validate a u...</td>\n",
              "      <td>php zend-framework</td>\n",
              "      <td>3</td>\n",
              "    </tr>\n",
              "  </tbody>\n",
              "</table>\n",
              "<p>396992 rows × 4 columns</p>\n",
              "</div>"
            ],
            "text/plain": [
              "                                                    Title  ... cnt_dup\n",
              "0            Implementing Boundary Value Analysis of S...  ...       1\n",
              "1                Dynamic Datagrid Binding in Silverlight?  ...       1\n",
              "2         java.lang.NoSuchMethodError: javax.servlet.S...  ...       1\n",
              "3                                                -2) = (1  ...       1\n",
              "4                                                      1)  ...       1\n",
              "...                                                   ...  ...     ...\n",
              "396987  maven set classes time stamp before packing th...  ...       3\n",
              "396988    optimality of 2 in a continued fraction theorem  ...       3\n",
              "396989  parse url and title from string of multiple hr...  ...       3\n",
              "396990      send value location continues after 10 minute  ...       3\n",
              "396991      zend validate user for a specific controller?  ...       3\n",
              "\n",
              "[396992 rows x 4 columns]"
            ]
          },
          "metadata": {
            "tags": []
          },
          "execution_count": 13
        }
      ]
    },
    {
      "cell_type": "code",
      "metadata": {
        "id": "AOrx8m2O4zrT",
        "colab": {
          "base_uri": "https://localhost:8080/"
        },
        "outputId": "cadfc122-fca9-4171-ce83-4818411f56bc"
      },
      "source": [
        "print(len(df_no_dup))"
      ],
      "execution_count": 14,
      "outputs": [
        {
          "output_type": "stream",
          "text": [
            "396992\n"
          ],
          "name": "stdout"
        }
      ]
    },
    {
      "cell_type": "code",
      "metadata": {
        "id": "eyg3pyu37sAO",
        "colab": {
          "base_uri": "https://localhost:8080/"
        },
        "outputId": "aeeb9bf0-83fa-4628-90c0-6b83a17a14ac"
      },
      "source": [
        "# number of times each question appeared in our database\n",
        "df_no_dup.cnt_dup.value_counts()"
      ],
      "execution_count": 15,
      "outputs": [
        {
          "output_type": "execute_result",
          "data": {
            "text/plain": [
              "1    387661\n",
              "2      9253\n",
              "3        78\n",
              "Name: cnt_dup, dtype: int64"
            ]
          },
          "metadata": {
            "tags": []
          },
          "execution_count": 15
        }
      ]
    },
    {
      "cell_type": "markdown",
      "metadata": {
        "id": "FmIXfn9KcdtO"
      },
      "source": [
        "## Counting number of tags in each set of question"
      ]
    },
    {
      "cell_type": "code",
      "metadata": {
        "id": "5pp0QqGZLxeT",
        "colab": {
          "base_uri": "https://localhost:8080/",
          "height": 433
        },
        "outputId": "ecfad404-76c8-4d58-e86a-93230e8efc29"
      },
      "source": [
        "start = datetime.now()\n",
        "df_no_dup[\"tag_count\"] = df_no_dup[\"Tags\"].apply(lambda text: len(text.split(\" \")) if text else 0)\n",
        "# adding a new feature number of tags per question\n",
        "print(\"Time taken to run this cell :\", datetime.now() - start)\n",
        "df_no_dup"
      ],
      "execution_count": 16,
      "outputs": [
        {
          "output_type": "stream",
          "text": [
            "Time taken to run this cell : 0:00:00.275799\n"
          ],
          "name": "stdout"
        },
        {
          "output_type": "execute_result",
          "data": {
            "text/html": [
              "<div>\n",
              "<style scoped>\n",
              "    .dataframe tbody tr th:only-of-type {\n",
              "        vertical-align: middle;\n",
              "    }\n",
              "\n",
              "    .dataframe tbody tr th {\n",
              "        vertical-align: top;\n",
              "    }\n",
              "\n",
              "    .dataframe thead th {\n",
              "        text-align: right;\n",
              "    }\n",
              "</style>\n",
              "<table border=\"1\" class=\"dataframe\">\n",
              "  <thead>\n",
              "    <tr style=\"text-align: right;\">\n",
              "      <th></th>\n",
              "      <th>Title</th>\n",
              "      <th>Body</th>\n",
              "      <th>Tags</th>\n",
              "      <th>cnt_dup</th>\n",
              "      <th>tag_count</th>\n",
              "    </tr>\n",
              "  </thead>\n",
              "  <tbody>\n",
              "    <tr>\n",
              "      <th>0</th>\n",
              "      <td>Implementing Boundary Value Analysis of S...</td>\n",
              "      <td>&lt;pre&gt;&lt;code&gt;#include&amp;lt;iostream&amp;gt;\\n#include&amp;...</td>\n",
              "      <td>c++ c</td>\n",
              "      <td>1</td>\n",
              "      <td>2</td>\n",
              "    </tr>\n",
              "    <tr>\n",
              "      <th>1</th>\n",
              "      <td>Dynamic Datagrid Binding in Silverlight?</td>\n",
              "      <td>&lt;p&gt;I should do binding for datagrid dynamicall...</td>\n",
              "      <td>c# silverlight data-binding</td>\n",
              "      <td>1</td>\n",
              "      <td>3</td>\n",
              "    </tr>\n",
              "    <tr>\n",
              "      <th>2</th>\n",
              "      <td>java.lang.NoSuchMethodError: javax.servlet.S...</td>\n",
              "      <td>&lt;p&gt;i want to have a servlet to process inputs ...</td>\n",
              "      <td>java servlets jboss</td>\n",
              "      <td>1</td>\n",
              "      <td>3</td>\n",
              "    </tr>\n",
              "    <tr>\n",
              "      <th>3</th>\n",
              "      <td>-2) = (1</td>\n",
              "      <td>-\\frac{3}{2}</td>\n",
              "      <td>-1)$&lt;/p&gt;</td>\n",
              "      <td>1</td>\n",
              "      <td>2</td>\n",
              "    </tr>\n",
              "    <tr>\n",
              "      <th>4</th>\n",
              "      <td>1)</td>\n",
              "      <td>System.Globalization.CalendarWeekRule.FirstDay</td>\n",
              "      <td>System.DayOfWeek.Sunday);</td>\n",
              "      <td>1</td>\n",
              "      <td>2</td>\n",
              "    </tr>\n",
              "    <tr>\n",
              "      <th>...</th>\n",
              "      <td>...</td>\n",
              "      <td>...</td>\n",
              "      <td>...</td>\n",
              "      <td>...</td>\n",
              "      <td>...</td>\n",
              "    </tr>\n",
              "    <tr>\n",
              "      <th>396987</th>\n",
              "      <td>“error: no such device” at boot in Ubuntu Serv...</td>\n",
              "      <td>&lt;p&gt;I have a configuration of 4 HDD's as Raid1 ...</td>\n",
              "      <td>server ubuntu-11.10 raid-1</td>\n",
              "      <td>1</td>\n",
              "      <td>3</td>\n",
              "    </tr>\n",
              "    <tr>\n",
              "      <th>396988</th>\n",
              "      <td>“git did not exit cleanly (exit code 128)” err...</td>\n",
              "      <td>&lt;p&gt;I am getting this error on my windows machi...</td>\n",
              "      <td>git tortoisegit git-bash</td>\n",
              "      <td>1</td>\n",
              "      <td>3</td>\n",
              "    </tr>\n",
              "    <tr>\n",
              "      <th>396989</th>\n",
              "      <td>“iTunes.app” incoming network connections?</td>\n",
              "      <td>&lt;p&gt;I am experiencing the same issue mentioned ...</td>\n",
              "      <td>itunes osx-lion</td>\n",
              "      <td>1</td>\n",
              "      <td>2</td>\n",
              "    </tr>\n",
              "    <tr>\n",
              "      <th>396990</th>\n",
              "      <td>“make &amp; make install” software on Linux</td>\n",
              "      <td>&lt;p&gt;I have worked on Linux for a year. One thin...</td>\n",
              "      <td>linux make</td>\n",
              "      <td>1</td>\n",
              "      <td>2</td>\n",
              "    </tr>\n",
              "    <tr>\n",
              "      <th>396991</th>\n",
              "      <td>“zero placeholder” for working counter as3</td>\n",
              "      <td>&lt;p&gt;&lt;strong&gt;How do make a zero placeholder for ...</td>\n",
              "      <td>flash actionscript-3</td>\n",
              "      <td>1</td>\n",
              "      <td>2</td>\n",
              "    </tr>\n",
              "  </tbody>\n",
              "</table>\n",
              "<p>396992 rows × 5 columns</p>\n",
              "</div>"
            ],
            "text/plain": [
              "                                                    Title  ... tag_count\n",
              "0            Implementing Boundary Value Analysis of S...  ...         2\n",
              "1                Dynamic Datagrid Binding in Silverlight?  ...         3\n",
              "2         java.lang.NoSuchMethodError: javax.servlet.S...  ...         3\n",
              "3                                                -2) = (1  ...         2\n",
              "4                                                      1)  ...         2\n",
              "...                                                   ...  ...       ...\n",
              "396987  “error: no such device” at boot in Ubuntu Serv...  ...         3\n",
              "396988  “git did not exit cleanly (exit code 128)” err...  ...         3\n",
              "396989         “iTunes.app” incoming network connections?  ...         2\n",
              "396990            “make & make install” software on Linux  ...         2\n",
              "396991         “zero placeholder” for working counter as3  ...         2\n",
              "\n",
              "[396992 rows x 5 columns]"
            ]
          },
          "metadata": {
            "tags": []
          },
          "execution_count": 16
        }
      ]
    },
    {
      "cell_type": "code",
      "metadata": {
        "id": "GbQn01zO_9EJ",
        "colab": {
          "base_uri": "https://localhost:8080/"
        },
        "outputId": "63e77915-739a-4d23-b7dc-6d59fb6cc597"
      },
      "source": [
        "# distribution of number of tags per question\n",
        "tag_count = df_no_dup.tag_count.value_counts()\n",
        "tag_count"
      ],
      "execution_count": 17,
      "outputs": [
        {
          "output_type": "execute_result",
          "data": {
            "text/plain": [
              "3     113343\n",
              "2     105896\n",
              "4      76244\n",
              "1      54661\n",
              "5      46837\n",
              "17         2\n",
              "11         2\n",
              "10         2\n",
              "19         1\n",
              "16         1\n",
              "14         1\n",
              "8          1\n",
              "6          1\n",
              "Name: tag_count, dtype: int64"
            ]
          },
          "metadata": {
            "tags": []
          },
          "execution_count": 17
        }
      ]
    },
    {
      "cell_type": "code",
      "metadata": {
        "colab": {
          "base_uri": "https://localhost:8080/",
          "height": 283
        },
        "id": "LE9XGmRxiwNX",
        "outputId": "a56db57f-4c2e-4db6-a061-42543d4522a7"
      },
      "source": [
        "plt.bar(tag_count.keys(),tag_count)"
      ],
      "execution_count": 18,
      "outputs": [
        {
          "output_type": "execute_result",
          "data": {
            "text/plain": [
              "<BarContainer object of 13 artists>"
            ]
          },
          "metadata": {
            "tags": []
          },
          "execution_count": 18
        },
        {
          "output_type": "display_data",
          "data": {
            "image/png": "[encoded data removed]",
            "text/plain": [
              "<Figure size 432x288 with 1 Axes>"
            ]
          },
          "metadata": {
            "tags": [],
            "needs_background": "light"
          }
        }
      ]
    },
    {
      "cell_type": "markdown",
      "metadata": {
        "id": "R9YLS6b4kYUv"
      },
      "source": [
        "## Analyzing tags"
      ]
    },
    {
      "cell_type": "code",
      "metadata": {
        "id": "46xQZ4TyfJYG",
        "colab": {
          "base_uri": "https://localhost:8080/",
          "height": 415
        },
        "outputId": "69925157-9c59-485a-87d2-f9a672667587"
      },
      "source": [
        "pd.read_sql_query(\"Select Title,Body,Tags FROM data\",con2)"
      ],
      "execution_count": 19,
      "outputs": [
        {
          "output_type": "execute_result",
          "data": {
            "text/html": [
              "<div>\n",
              "<style scoped>\n",
              "    .dataframe tbody tr th:only-of-type {\n",
              "        vertical-align: middle;\n",
              "    }\n",
              "\n",
              "    .dataframe tbody tr th {\n",
              "        vertical-align: top;\n",
              "    }\n",
              "\n",
              "    .dataframe thead th {\n",
              "        text-align: right;\n",
              "    }\n",
              "</style>\n",
              "<table border=\"1\" class=\"dataframe\">\n",
              "  <thead>\n",
              "    <tr style=\"text-align: right;\">\n",
              "      <th></th>\n",
              "      <th>Title</th>\n",
              "      <th>Body</th>\n",
              "      <th>Tags</th>\n",
              "    </tr>\n",
              "  </thead>\n",
              "  <tbody>\n",
              "    <tr>\n",
              "      <th>0</th>\n",
              "      <td>Implementing Boundary Value Analysis of S...</td>\n",
              "      <td>&lt;pre&gt;&lt;code&gt;#include&amp;lt;iostream&amp;gt;\\n#include&amp;...</td>\n",
              "      <td>c++ c</td>\n",
              "    </tr>\n",
              "    <tr>\n",
              "      <th>1</th>\n",
              "      <td>Dynamic Datagrid Binding in Silverlight?</td>\n",
              "      <td>&lt;p&gt;I should do binding for datagrid dynamicall...</td>\n",
              "      <td>c# silverlight data-binding</td>\n",
              "    </tr>\n",
              "    <tr>\n",
              "      <th>2</th>\n",
              "      <td>java.lang.NoSuchMethodError: javax.servlet.S...</td>\n",
              "      <td>&lt;p&gt;i want to have a servlet to process inputs ...</td>\n",
              "      <td>java servlets jboss</td>\n",
              "    </tr>\n",
              "    <tr>\n",
              "      <th>3</th>\n",
              "      <td>A simple distance inequality in probability</td>\n",
              "      <td>&lt;p&gt;I was going through Durrett's probability w...</td>\n",
              "      <td>probability-theory</td>\n",
              "    </tr>\n",
              "    <tr>\n",
              "      <th>4</th>\n",
              "      <td>ASP.NET MVC 3 Single-Page Application using J...</td>\n",
              "      <td>&lt;p&gt;I have recently built an single-page ASP.NE...</td>\n",
              "      <td>javascript jquery asp.net-mvc-3 dom</td>\n",
              "    </tr>\n",
              "    <tr>\n",
              "      <th>...</th>\n",
              "      <td>...</td>\n",
              "      <td>...</td>\n",
              "      <td>...</td>\n",
              "    </tr>\n",
              "    <tr>\n",
              "      <th>396979</th>\n",
              "      <td>“error: no such device” at boot in Ubuntu Serv...</td>\n",
              "      <td>&lt;p&gt;I have a configuration of 4 HDD's as Raid1 ...</td>\n",
              "      <td>server ubuntu-11.10 raid-1</td>\n",
              "    </tr>\n",
              "    <tr>\n",
              "      <th>396980</th>\n",
              "      <td>“git did not exit cleanly (exit code 128)” err...</td>\n",
              "      <td>&lt;p&gt;I am getting this error on my windows machi...</td>\n",
              "      <td>git tortoisegit git-bash</td>\n",
              "    </tr>\n",
              "    <tr>\n",
              "      <th>396981</th>\n",
              "      <td>“iTunes.app” incoming network connections?</td>\n",
              "      <td>&lt;p&gt;I am experiencing the same issue mentioned ...</td>\n",
              "      <td>itunes osx-lion</td>\n",
              "    </tr>\n",
              "    <tr>\n",
              "      <th>396982</th>\n",
              "      <td>“make &amp; make install” software on Linux</td>\n",
              "      <td>&lt;p&gt;I have worked on Linux for a year. One thin...</td>\n",
              "      <td>linux make</td>\n",
              "    </tr>\n",
              "    <tr>\n",
              "      <th>396983</th>\n",
              "      <td>“zero placeholder” for working counter as3</td>\n",
              "      <td>&lt;p&gt;&lt;strong&gt;How do make a zero placeholder for ...</td>\n",
              "      <td>flash actionscript-3</td>\n",
              "    </tr>\n",
              "  </tbody>\n",
              "</table>\n",
              "<p>396984 rows × 3 columns</p>\n",
              "</div>"
            ],
            "text/plain": [
              "                                                    Title  ...                                 Tags\n",
              "0            Implementing Boundary Value Analysis of S...  ...                                c++ c\n",
              "1                Dynamic Datagrid Binding in Silverlight?  ...          c# silverlight data-binding\n",
              "2         java.lang.NoSuchMethodError: javax.servlet.S...  ...                  java servlets jboss\n",
              "3             A simple distance inequality in probability  ...                   probability-theory\n",
              "4        ASP.NET MVC 3 Single-Page Application using J...  ...  javascript jquery asp.net-mvc-3 dom\n",
              "...                                                   ...  ...                                  ...\n",
              "396979  “error: no such device” at boot in Ubuntu Serv...  ...           server ubuntu-11.10 raid-1\n",
              "396980  “git did not exit cleanly (exit code 128)” err...  ...             git tortoisegit git-bash\n",
              "396981         “iTunes.app” incoming network connections?  ...                      itunes osx-lion\n",
              "396982            “make & make install” software on Linux  ...                           linux make\n",
              "396983         “zero placeholder” for working counter as3  ...                 flash actionscript-3\n",
              "\n",
              "[396984 rows x 3 columns]"
            ]
          },
          "metadata": {
            "tags": []
          },
          "execution_count": 19
        }
      ]
    },
    {
      "cell_type": "code",
      "metadata": {
        "id": "9ikaYkvJJvZd",
        "colab": {
          "base_uri": "https://localhost:8080/",
          "height": 415
        },
        "outputId": "490514a8-390f-4639-f22b-e5dc477219d9"
      },
      "source": [
        "start = datetime.now()\n",
        "tag_data = pd.read_sql_query(\"\"\"SELECT Tags FROM data\"\"\", con2)\n",
        "#Always remember to close the database\n",
        "# Let's now drop unwanted column.\n",
        "tag_data.drop(tag_data.index[0], inplace=True)\n",
        "#Printing first 5 columns from our data frame\n",
        "tag_data\n"
      ],
      "execution_count": 20,
      "outputs": [
        {
          "output_type": "execute_result",
          "data": {
            "text/html": [
              "<div>\n",
              "<style scoped>\n",
              "    .dataframe tbody tr th:only-of-type {\n",
              "        vertical-align: middle;\n",
              "    }\n",
              "\n",
              "    .dataframe tbody tr th {\n",
              "        vertical-align: top;\n",
              "    }\n",
              "\n",
              "    .dataframe thead th {\n",
              "        text-align: right;\n",
              "    }\n",
              "</style>\n",
              "<table border=\"1\" class=\"dataframe\">\n",
              "  <thead>\n",
              "    <tr style=\"text-align: right;\">\n",
              "      <th></th>\n",
              "      <th>Tags</th>\n",
              "    </tr>\n",
              "  </thead>\n",
              "  <tbody>\n",
              "    <tr>\n",
              "      <th>1</th>\n",
              "      <td>c# silverlight data-binding</td>\n",
              "    </tr>\n",
              "    <tr>\n",
              "      <th>2</th>\n",
              "      <td>java servlets jboss</td>\n",
              "    </tr>\n",
              "    <tr>\n",
              "      <th>3</th>\n",
              "      <td>probability-theory</td>\n",
              "    </tr>\n",
              "    <tr>\n",
              "      <th>4</th>\n",
              "      <td>javascript jquery asp.net-mvc-3 dom</td>\n",
              "    </tr>\n",
              "    <tr>\n",
              "      <th>5</th>\n",
              "      <td>ruby-on-rails ruby-on-rails-3 devise browser-c...</td>\n",
              "    </tr>\n",
              "    <tr>\n",
              "      <th>...</th>\n",
              "      <td>...</td>\n",
              "    </tr>\n",
              "    <tr>\n",
              "      <th>396979</th>\n",
              "      <td>server ubuntu-11.10 raid-1</td>\n",
              "    </tr>\n",
              "    <tr>\n",
              "      <th>396980</th>\n",
              "      <td>git tortoisegit git-bash</td>\n",
              "    </tr>\n",
              "    <tr>\n",
              "      <th>396981</th>\n",
              "      <td>itunes osx-lion</td>\n",
              "    </tr>\n",
              "    <tr>\n",
              "      <th>396982</th>\n",
              "      <td>linux make</td>\n",
              "    </tr>\n",
              "    <tr>\n",
              "      <th>396983</th>\n",
              "      <td>flash actionscript-3</td>\n",
              "    </tr>\n",
              "  </tbody>\n",
              "</table>\n",
              "<p>396983 rows × 1 columns</p>\n",
              "</div>"
            ],
            "text/plain": [
              "                                                     Tags\n",
              "1                             c# silverlight data-binding\n",
              "2                                     java servlets jboss\n",
              "3                                      probability-theory\n",
              "4                     javascript jquery asp.net-mvc-3 dom\n",
              "5       ruby-on-rails ruby-on-rails-3 devise browser-c...\n",
              "...                                                   ...\n",
              "396979                         server ubuntu-11.10 raid-1\n",
              "396980                           git tortoisegit git-bash\n",
              "396981                                    itunes osx-lion\n",
              "396982                                         linux make\n",
              "396983                               flash actionscript-3\n",
              "\n",
              "[396983 rows x 1 columns]"
            ]
          },
          "metadata": {
            "tags": []
          },
          "execution_count": 20
        }
      ]
    },
    {
      "cell_type": "code",
      "metadata": {
        "id": "t6i-OJFGiTLb"
      },
      "source": [
        "##Total number of unique tags \n"
      ],
      "execution_count": 21,
      "outputs": []
    },
    {
      "cell_type": "markdown",
      "metadata": {
        "id": "y3WnFVW2kcX9"
      },
      "source": [
        "### Counting number of unique tags"
      ]
    },
    {
      "cell_type": "code",
      "metadata": {
        "id": "1U-tTzPx01yR"
      },
      "source": [
        "# Importing & Initializing the \"CountVectorizer\" object, which \n",
        "#is scikit-learn's bag of words tool.\n",
        "\n",
        "#by default 'split()' will tokenize each tag using space.\n",
        "vectorizer = CountVectorizer(tokenizer = lambda x: x.split())\n",
        "# fit_transform() does two functions: First, it fits the model\n",
        "# and learns the vocabulary; second, it transforms our training data\n",
        "# into feature vectors. The input to fit_transform should be a list of strings.\n",
        "tag_dtm = vectorizer.fit_transform(tag_data['Tags'])\n"
      ],
      "execution_count": 22,
      "outputs": []
    },
    {
      "cell_type": "code",
      "metadata": {
        "id": "uy9uMARB1GAD",
        "colab": {
          "base_uri": "https://localhost:8080/"
        },
        "outputId": "41ccf5f3-be61-46f1-efa8-6ab5d3d5727c"
      },
      "source": [
        "print(\"Number of data points :\", tag_dtm.shape[0])\n",
        "print(\"Number of unique tags :\", tag_dtm.shape[1])"
      ],
      "execution_count": 23,
      "outputs": [
        {
          "output_type": "stream",
          "text": [
            "Number of data points : 396983\n",
            "Number of unique tags : 28986\n"
          ],
          "name": "stdout"
        }
      ]
    },
    {
      "cell_type": "markdown",
      "metadata": {
        "id": "aYEkbNJ1khAn"
      },
      "source": [
        "Out of all 396983 entries, there are total 28986 unique tags"
      ]
    },
    {
      "cell_type": "code",
      "metadata": {
        "colab": {
          "base_uri": "https://localhost:8080/"
        },
        "id": "AvRYDNRCj28X",
        "outputId": "79ac478c-b06a-4c0b-ecd2-470b8110740d"
      },
      "source": [
        "#'get_feature_name()' gives us the vocabulary.\n",
        "tags = vectorizer.get_feature_names()\n",
        "#Lets look at the tags we have.\n",
        "print(\"Some of the tags we have :\", tags[:20])"
      ],
      "execution_count": 24,
      "outputs": [
        {
          "output_type": "stream",
          "text": [
            "Some of the tags we have : ['.a', '.app', '.aspxauth', '.bash-profile', '.class-file', '.cs-file', '.doc', '.each', '.emf', '.exe', '.htaccess', '.htpasswd', '.ico', '.lib', '.net', '.net-1.0', '.net-1.1', '.net-2.0', '.net-3.0', '.net-3.5']\n"
          ],
          "name": "stdout"
        }
      ]
    },
    {
      "cell_type": "markdown",
      "metadata": {
        "id": "dqsxLgr9k7K0"
      },
      "source": [
        "## Number of times a tag appeared"
      ]
    },
    {
      "cell_type": "code",
      "metadata": {
        "id": "d5_qGE99k3Tq"
      },
      "source": [
        "#Lets now store the document term matrix in a dictionary.\n",
        "freqs = tag_dtm.sum(axis=0).A1\n",
        "result = dict(zip(tags, freqs))"
      ],
      "execution_count": 25,
      "outputs": []
    },
    {
      "cell_type": "code",
      "metadata": {
        "colab": {
          "base_uri": "https://localhost:8080/"
        },
        "id": "ED7fiDFeK7IJ",
        "outputId": "8b704951-74dd-4aa4-b105-e9a9ab89620a"
      },
      "source": [
        "freqs"
      ],
      "execution_count": 26,
      "outputs": [
        {
          "output_type": "execute_result",
          "data": {
            "text/plain": [
              "array([1, 3, 2, ..., 1, 3, 1], dtype=int64)"
            ]
          },
          "metadata": {
            "tags": []
          },
          "execution_count": 26
        }
      ]
    },
    {
      "cell_type": "code",
      "metadata": {
        "colab": {
          "base_uri": "https://localhost:8080/"
        },
        "id": "Y5fEnS7wMi44",
        "outputId": "fee670e4-41cd-4470-c27f-9569c7aef37c"
      },
      "source": [
        "result"
      ],
      "execution_count": 27,
      "outputs": [
        {
          "output_type": "execute_result",
          "data": {
            "text/plain": [
              "{'.a': 1,\n",
              " '.app': 3,\n",
              " '.aspxauth': 2,\n",
              " '.bash-profile': 10,\n",
              " '.class-file': 4,\n",
              " '.cs-file': 2,\n",
              " '.doc': 2,\n",
              " '.each': 14,\n",
              " '.emf': 3,\n",
              " '.exe': 3,\n",
              " '.htaccess': 1418,\n",
              " '.htpasswd': 7,\n",
              " '.ico': 1,\n",
              " '.lib': 4,\n",
              " '.net': 10671,\n",
              " '.net-1.0': 3,\n",
              " '.net-1.1': 17,\n",
              " '.net-2.0': 169,\n",
              " '.net-3.0': 3,\n",
              " '.net-3.5': 361,\n",
              " '.net-4.0': 462,\n",
              " '.net-4.0-beta-2': 2,\n",
              " '.net-4.5': 61,\n",
              " '.net-assembly': 58,\n",
              " '.net-bcl': 2,\n",
              " '.net-cf-3.5': 8,\n",
              " '.net-client-profile': 1,\n",
              " '.net-compact': 1,\n",
              " '.net-framework': 27,\n",
              " '.net-framework-source': 1,\n",
              " '.net-framework-version': 5,\n",
              " '.net-gadgeteer': 2,\n",
              " '.net-install': 1,\n",
              " '.net-interview': 1,\n",
              " '.net-micro-framework': 17,\n",
              " '.net-reflector': 2,\n",
              " '.net-remoting': 9,\n",
              " '.net-security': 2,\n",
              " '.net-services': 1,\n",
              " '.net2.0': 1,\n",
              " '.net3.5': 3,\n",
              " '.net4.0': 4,\n",
              " '.netrc': 2,\n",
              " '.obj': 7,\n",
              " '.post': 10,\n",
              " '.profile': 1,\n",
              " '.railsrc': 3,\n",
              " '.rdlc': 4,\n",
              " '.screenrc': 1,\n",
              " '.war': 2,\n",
              " '.wav': 1,\n",
              " '.x': 1,\n",
              " '1080p': 6,\n",
              " '10gbethernet': 9,\n",
              " '10gige': 2,\n",
              " '128bit': 2,\n",
              " '12factor': 1,\n",
              " '16-bit': 3,\n",
              " '16bit': 8,\n",
              " '1and1': 3,\n",
              " '2-3-4-tree': 2,\n",
              " '2-legged': 1,\n",
              " '2-tier': 1,\n",
              " '2.5d': 1,\n",
              " '200': 1,\n",
              " '2003': 2,\n",
              " '2007': 250,\n",
              " '2010': 416,\n",
              " '2013': 51,\n",
              " '24bit': 2,\n",
              " '256color': 1,\n",
              " '2checkout': 2,\n",
              " '2d': 142,\n",
              " '2d-3d-conversion': 1,\n",
              " '2d-array': 35,\n",
              " '2d-games': 7,\n",
              " '2phase-commit': 2,\n",
              " '2wire': 3,\n",
              " '3': 7,\n",
              " '3-tier': 8,\n",
              " '3-way-merge': 2,\n",
              " '3.0': 38,\n",
              " '3.0.1': 3,\n",
              " '3.1': 6,\n",
              " '3.5mm': 2,\n",
              " '301': 6,\n",
              " '301-redirect': 14,\n",
              " '32-bit': 54,\n",
              " '32-vs-64-bit': 4,\n",
              " '32bit': 29,\n",
              " '32bit-64bit': 85,\n",
              " '32feet': 1,\n",
              " '35mm': 3,\n",
              " '360-degrees': 2,\n",
              " '3750': 1,\n",
              " '389-ds': 3,\n",
              " '3com': 2,\n",
              " '3d': 381,\n",
              " '3d-array': 5,\n",
              " '3d-graphics': 3,\n",
              " '3d-model': 2,\n",
              " '3d-modeling': 5,\n",
              " '3d-modelling': 3,\n",
              " '3d-reconstruction': 4,\n",
              " '3d-secure': 2,\n",
              " '3des': 8,\n",
              " '3ds': 7,\n",
              " '3ds-max': 3,\n",
              " '3dsmax': 13,\n",
              " '3g': 36,\n",
              " '3g-network': 1,\n",
              " '3gp': 8,\n",
              " '3nf': 6,\n",
              " '3rd-party': 3,\n",
              " '3rd-party-controls': 2,\n",
              " '3rd-party-library': 16,\n",
              " '3ware': 11,\n",
              " '400': 1,\n",
              " '401': 4,\n",
              " '403': 13,\n",
              " '404': 12,\n",
              " '404-error': 30,\n",
              " '443': 1,\n",
              " '4clojure': 1,\n",
              " '4d': 3,\n",
              " '4gl': 2,\n",
              " '4k-sectors': 2,\n",
              " '4store': 1,\n",
              " '5.1': 7,\n",
              " '500': 4,\n",
              " '500-error': 16,\n",
              " '500-internal-error': 1,\n",
              " '500px': 1,\n",
              " '502-error': 3,\n",
              " '503-error': 7,\n",
              " '50mm': 3,\n",
              " '51degrees': 4,\n",
              " '580exii': 1,\n",
              " '64-bit': 217,\n",
              " '64bit': 167,\n",
              " '6502': 1,\n",
              " '68000': 4,\n",
              " '68hc11': 1,\n",
              " '6rd': 1,\n",
              " '6to4': 5,\n",
              " '7-zip': 24,\n",
              " '70-667': 1,\n",
              " '777': 1,\n",
              " '7z': 1,\n",
              " '7za': 1,\n",
              " '7zip': 19,\n",
              " '8-puzzle': 2,\n",
              " '802.11': 7,\n",
              " '802.11g': 1,\n",
              " '802.11n': 7,\n",
              " '802.1q': 1,\n",
              " '802.1x': 7,\n",
              " '8051': 13,\n",
              " '8085': 1,\n",
              " '8086': 11,\n",
              " '8bit': 3,\n",
              " '9-11': 1,\n",
              " '960.gs': 24,\n",
              " '<br>': 1,\n",
              " '<code>getoverlappedresult</code>.</p>': 1,\n",
              " 'a': 3,\n",
              " 'a-record': 13,\n",
              " 'a-records': 3,\n",
              " 'a-star': 24,\n",
              " 'a11y': 1,\n",
              " 'a2dp': 1,\n",
              " 'aaa': 1,\n",
              " 'aaa-syntax': 1,\n",
              " 'aabb': 1,\n",
              " 'aac': 22,\n",
              " 'aac+': 1,\n",
              " 'aapt': 5,\n",
              " 'aasm': 1,\n",
              " 'ab': 5,\n",
              " 'ab-testing': 9,\n",
              " 'abaddressbook': 28,\n",
              " 'abaddressbooksource': 1,\n",
              " 'abandoned': 1,\n",
              " 'abandoned-memory': 2,\n",
              " 'abap': 30,\n",
              " 'abbreviation': 5,\n",
              " 'abc': 9,\n",
              " 'abcpdf': 14,\n",
              " 'abelian-categories': 7,\n",
              " 'abelian-groups': 31,\n",
              " 'abelian-varieties': 4,\n",
              " 'aberration': 2,\n",
              " 'abi': 11,\n",
              " 'abinitio': 3,\n",
              " 'ableton-live': 1,\n",
              " 'abort': 10,\n",
              " 'aborted': 2,\n",
              " 'about-box': 2,\n",
              " 'about-config': 4,\n",
              " 'abpeoplepickerview': 5,\n",
              " 'abpersonviewcontroller': 5,\n",
              " 'abrecord': 3,\n",
              " 'abrecordref': 4,\n",
              " 'absolute': 23,\n",
              " 'absolute-path': 15,\n",
              " 'absolute-positioning': 59,\n",
              " 'absolute-value': 19,\n",
              " 'absolutelayout': 4,\n",
              " 'abstract': 56,\n",
              " 'abstract-algebra': 696,\n",
              " 'abstract-base-class': 1,\n",
              " 'abstract-class': 120,\n",
              " 'abstract-data-type': 6,\n",
              " 'abstract-factory': 6,\n",
              " 'abstract-methods': 3,\n",
              " 'abstract-syntax-tree': 19,\n",
              " 'abstract-type': 4,\n",
              " 'abstraction': 39,\n",
              " 'abstracttablemodel': 10,\n",
              " 'abtest': 2,\n",
              " 'abuse': 4,\n",
              " 'ac-adapter': 4,\n",
              " 'ac3': 4,\n",
              " 'acaccount': 1,\n",
              " 'acc': 2,\n",
              " 'acceleo': 3,\n",
              " 'accelerate-framework': 6,\n",
              " 'accelerated-c++': 1,\n",
              " 'acceleration': 9,\n",
              " 'accelerator': 3,\n",
              " 'acceleratorkey': 2,\n",
              " 'accelerometer': 75,\n",
              " 'accented-strings': 6,\n",
              " 'accents': 21,\n",
              " 'accept': 4,\n",
              " 'acceptance-testing': 15,\n",
              " 'access': 42,\n",
              " 'access-2003': 1,\n",
              " 'access-2007': 6,\n",
              " 'access-2010': 1,\n",
              " 'access-connections': 1,\n",
              " 'access-control': 31,\n",
              " 'access-denied': 42,\n",
              " 'access-keys': 2,\n",
              " 'access-levels': 1,\n",
              " 'access-list': 1,\n",
              " 'access-log': 7,\n",
              " 'access-modifiers': 31,\n",
              " 'access-point': 10,\n",
              " 'access-rights': 3,\n",
              " 'access-rules': 1,\n",
              " 'access-services': 2,\n",
              " 'access-specifier': 5,\n",
              " 'access-token': 37,\n",
              " 'access-vba': 94,\n",
              " 'access-violation': 29,\n",
              " 'accesscontrolexception': 4,\n",
              " 'accesscontrolservice': 1,\n",
              " 'accessibility': 113,\n",
              " 'accessibility-api': 2,\n",
              " 'accessible': 2,\n",
              " 'accessor': 18,\n",
              " 'accessories': 12,\n",
              " 'accessory': 3,\n",
              " 'accessorytype': 6,\n",
              " 'accessoryview': 5,\n",
              " 'accordion': 88,\n",
              " 'account': 35,\n",
              " 'account-lockout': 1,\n",
              " 'account-management': 4,\n",
              " 'account-restrictions': 2,\n",
              " 'accounting': 17,\n",
              " 'accountmanager': 14,\n",
              " 'accounts': 8,\n",
              " 'accpac': 1,\n",
              " 'accumulate': 4,\n",
              " 'accumulator': 2,\n",
              " 'accumulo': 1,\n",
              " 'accuracy-problems': 3,\n",
              " 'accurev': 5,\n",
              " 'ace': 10,\n",
              " 'ace-editor': 5,\n",
              " 'acegi': 2,\n",
              " 'acer-aspire': 18,\n",
              " 'acer-aspire-one': 6,\n",
              " 'acer-revo': 3,\n",
              " 'achartengine': 29,\n",
              " 'achemso': 4,\n",
              " 'achievements': 8,\n",
              " 'acid': 2,\n",
              " 'acid-state': 1,\n",
              " 'acid3': 1,\n",
              " 'ack': 10,\n",
              " 'ackermann': 1,\n",
              " 'acl': 103,\n",
              " 'acl9': 1,\n",
              " 'acm': 8,\n",
              " 'acm-icpc': 3,\n",
              " 'acm.graphics': 1,\n",
              " 'acne': 1,\n",
              " 'acpi': 17,\n",
              " 'acpid': 1,\n",
              " 'acquia': 1,\n",
              " 'acquisition': 1,\n",
              " 'acra': 7,\n",
              " 'acrobat': 25,\n",
              " 'acrobat-professional': 3,\n",
              " 'acrobat-sdk': 1,\n",
              " 'acrofields': 1,\n",
              " 'acronis': 7,\n",
              " 'acronis-trueimage': 1,\n",
              " 'acronym': 4,\n",
              " 'acronyms': 19,\n",
              " 'acs': 12,\n",
              " 'act': 1,\n",
              " 'actinic': 1,\n",
              " 'action': 129,\n",
              " 'action-caching': 2,\n",
              " 'action-filter': 14,\n",
              " 'action-method': 3,\n",
              " 'actionbarsherlock': 117,\n",
              " 'actioncontroller': 6,\n",
              " 'actionevent': 2,\n",
              " 'actionfilterattribute': 2,\n",
              " 'actionlink': 20,\n",
              " 'actionlist': 1,\n",
              " 'actionlistener': 50,\n",
              " 'actionmailer': 69,\n",
              " 'actionmailer.net': 1,\n",
              " 'actionmethod': 7,\n",
              " 'actionmode': 1,\n",
              " 'actionpack': 2,\n",
              " 'actionresult': 9,\n",
              " 'actions': 22,\n",
              " 'actionscript': 466,\n",
              " 'actionscript-1': 1,\n",
              " 'actionscript-2': 107,\n",
              " 'actionscript-3': 1758,\n",
              " 'actionview': 18,\n",
              " 'actionviewhelper': 5,\n",
              " 'activate': 3,\n",
              " 'activated': 2,\n",
              " 'activation': 46,\n",
              " 'activation-codes': 1,\n",
              " 'activator': 6,\n",
              " 'active': 40,\n",
              " 'active-directory': 833,\n",
              " 'active-directory-explorer': 1,\n",
              " 'active-directory-group': 2,\n",
              " 'active-model-serializers': 1,\n",
              " 'active-pattern': 1,\n",
              " 'active-record-query': 4,\n",
              " 'active-relation': 2,\n",
              " 'active-support': 1,\n",
              " 'active-users': 2,\n",
              " 'active-window': 3,\n",
              " 'activeadmin': 51,\n",
              " 'activedirectorymembership': 3,\n",
              " 'activejdbc': 1,\n",
              " 'activemerchant': 14,\n",
              " 'activemodel': 15,\n",
              " 'activemq': 89,\n",
              " 'activemq-cpp': 2,\n",
              " 'activeobjects': 1,\n",
              " 'activeperl': 3,\n",
              " 'activepython': 4,\n",
              " 'activeqt': 2,\n",
              " 'activerecord': 663,\n",
              " 'activerecord-import': 1,\n",
              " 'activerecord-jdbc': 1,\n",
              " 'activerecordlinq': 1,\n",
              " 'activereports': 5,\n",
              " 'activeresource': 20,\n",
              " 'activescaffold': 10,\n",
              " 'activestate': 5,\n",
              " 'activesupport': 14,\n",
              " 'activesync': 18,\n",
              " 'activetcl': 1,\n",
              " 'activeview': 1,\n",
              " 'activex': 153,\n",
              " 'activex-documents': 1,\n",
              " 'activex-exe': 1,\n",
              " 'activexobject': 9,\n",
              " 'activiti': 6,\n",
              " 'activity': 408,\n",
              " 'activity-diagram': 6,\n",
              " 'activity-feed': 2,\n",
              " 'activity-finish': 5,\n",
              " 'activity-indicator': 2,\n",
              " 'activity-lifecycle': 5,\n",
              " 'activity-manager': 1,\n",
              " 'activity-monitor': 3,\n",
              " 'activity-stack': 3,\n",
              " 'activitydesigner': 2,\n",
              " 'activitygroup': 14,\n",
              " 'activitynotfoundexception': 1,\n",
              " 'actor': 45,\n",
              " 'actor-model': 2,\n",
              " 'acts-as-audited': 2,\n",
              " 'acts-as-commentable': 1,\n",
              " 'acts-as-ferret': 1,\n",
              " 'acts-as-list': 1,\n",
              " 'acts-as-taggable': 1,\n",
              " 'acts-as-taggable-on': 14,\n",
              " 'acts-as-taggable-on-ster': 2,\n",
              " 'acts-as-tree': 1,\n",
              " 'actuarial-science': 2,\n",
              " 'acupuncture': 1,\n",
              " 'ad-certificate-services': 9,\n",
              " 'ad-hoc': 8,\n",
              " 'ad-hoc-distribution': 9,\n",
              " 'ad-hoc-network': 14,\n",
              " 'ad-hoc-sql': 1,\n",
              " 'ad-lds': 5,\n",
              " 'ada': 33,\n",
              " 'adaboost': 3,\n",
              " 'adam': 5,\n",
              " 'adaptec': 8,\n",
              " 'adapter': 116,\n",
              " 'adaptive-design': 1,\n",
              " 'adaptor': 2,\n",
              " 'adb': 69,\n",
              " 'adblock': 19,\n",
              " 'add': 70,\n",
              " 'add-action': 18,\n",
              " 'add-editor-style': 1,\n",
              " 'add-feed': 1,\n",
              " 'add-filter': 7,\n",
              " 'add-image-size': 10,\n",
              " 'add-in': 98,\n",
              " 'add-menu-page': 3,\n",
              " 'add-meta-box': 2,\n",
              " 'add-on': 25,\n",
              " 'add-options': 1,\n",
              " 'add-references-dialog': 2,\n",
              " 'add-rewrite-rule': 4,\n",
              " 'add-settings-field': 2,\n",
              " 'add-settings-section': 1,\n",
              " 'add-submenu-page': 2,\n",
              " 'addattribute': 1,\n",
              " 'addchild': 11,\n",
              " 'addclass': 37,\n",
              " 'added': 3,\n",
              " 'addeventlistener': 26,\n",
              " 'addhandler': 2,\n",
              " 'addiction': 2,\n",
              " 'adding': 13,\n",
              " 'addins': 2,\n",
              " 'addition': 24,\n",
              " 'additive-combinatorics': 1,\n",
              " 'addobserver': 3,\n",
              " 'addon': 2,\n",
              " 'addon-domain': 1,\n",
              " 'addons': 1,\n",
              " 'addrange': 1,\n",
              " 'address': 55,\n",
              " 'address-bar': 16,\n",
              " 'address-book': 6,\n",
              " 'address-space-exhaustion': 1,\n",
              " 'addressbook': 39,\n",
              " 'addressbookui': 3,\n",
              " 'addresses': 3,\n",
              " 'addressing': 3,\n",
              " 'addressing-mode': 2,\n",
              " 'addressof': 1,\n",
              " 'addslashes': 3,\n",
              " 'addsubview': 19,\n",
              " 'addthis': 21,\n",
              " 'adduser': 1,\n",
              " 'adf': 3,\n",
              " 'adf-faces': 1,\n",
              " 'adf-task-flow': 1,\n",
              " 'adfs': 18,\n",
              " 'adfs2.0': 8,\n",
              " 'adfsv2': 1,\n",
              " 'adhoc': 11,\n",
              " 'adhoc-queries': 1,\n",
              " 'adium': 7,\n",
              " 'adjacency-list': 9,\n",
              " 'adjacency-matrix': 4,\n",
              " 'adjoint': 6,\n",
              " 'adjustbox': 2,\n",
              " 'adjustment': 2,\n",
              " 'adk': 9,\n",
              " 'adldap': 2,\n",
              " 'adlds': 3,\n",
              " 'adler32': 1,\n",
              " 'admin': 201,\n",
              " 'admin-bar': 10,\n",
              " 'admin-generator': 3,\n",
              " 'admin-init': 1,\n",
              " 'admin-menu': 19,\n",
              " 'admin-routing': 1,\n",
              " 'adminhtml': 7,\n",
              " 'administration': 103,\n",
              " 'administration-console': 1,\n",
              " 'administrator': 78,\n",
              " 'admob': 92,\n",
              " 'admt': 1,\n",
              " 'ado': 72,\n",
              " 'ado-net-dataservices': 6,\n",
              " 'ado.net': 336,\n",
              " 'ado.net-entity-data-model': 15,\n",
              " 'adobe': 231,\n",
              " 'adobe-acrobat': 32,\n",
              " 'adobe-after-effects': 5,\n",
              " 'adobe-air': 4,\n",
              " 'adobe-bridge': 3,\n",
              " 'adobe-captivate': 3,\n",
              " 'adobe-connect': 1,\n",
              " 'adobe-contribute': 1,\n",
              " 'adobe-cs4': 3,\n",
              " 'adobe-cs5': 8,\n",
              " 'adobe-dreamweaver': 3,\n",
              " 'adobe-edge': 2,\n",
              " 'adobe-fireworks': 5,\n",
              " 'adobe-flash': 15,\n",
              " 'adobe-flash-cs3': 1,\n",
              " 'adobe-flash-cs5': 4,\n",
              " 'adobe-illustrator': 30,\n",
              " 'adobe-indesign': 10,\n",
              " 'adobe-javascript': 1,\n",
              " 'adobe-lightroom': 2,\n",
              " 'adobe-photoshop': 88,\n",
              " 'adobe-premiere': 11,\n",
              " 'adobe-reader': 26,\n",
              " 'adobe-rgb': 1,\n",
              " 'adobe-stratus': 2,\n",
              " 'adoconnection': 1,\n",
              " 'adodb': 33,\n",
              " 'adodbapi': 2,\n",
              " 'adolf-hitler': 1,\n",
              " 'adomd.net': 4,\n",
              " 'adonetappender': 2,\n",
              " 'adoption': 2,\n",
              " 'adorner': 12,\n",
              " 'adornerdecorator': 1,\n",
              " 'adornment': 2,\n",
              " 'adp': 3,\n",
              " 'adpcm': 1,\n",
              " 'adplus': 1,\n",
              " 'adrotator': 1,\n",
              " 'ads': 52,\n",
              " 'adsense': 33,\n",
              " 'adsense-for-search': 1,\n",
              " 'adserver': 1,\n",
              " 'adsi': 9,\n",
              " 'adsl': 19,\n",
              " 'adsl-router': 2,\n",
              " 'adsl2+': 4,\n",
              " 'adt': 57,\n",
              " 'adtran': 2,\n",
              " 'advanced-custom-fields': 6,\n",
              " 'advanced-format': 5,\n",
              " 'advanced-installer': 4,\n",
              " 'advanced-queuing': 4,\n",
              " 'advanced-search': 3,\n",
              " 'advanced-taxonomy-queries': 5,\n",
              " 'advanceddatagrid': 10,\n",
              " 'advantage-database-server': 11,\n",
              " 'advapi32': 1,\n",
              " 'adventureworks': 2,\n",
              " 'advertised-shortcut': 1,\n",
              " 'advertisement': 13,\n",
              " 'advertisement-server': 1,\n",
              " 'advertisements': 6,\n",
              " 'advertising': 25,\n",
              " 'advice': 21,\n",
              " 'advice-and-nonuniformity': 2,\n",
              " 'advice-request': 1,\n",
              " 'adview': 5,\n",
              " 'advocacy': 1,\n",
              " 'adware': 3,\n",
              " 'adwhirl': 10,\n",
              " 'adwords': 15,\n",
              " 'aegis': 1,\n",
              " 'aero': 36,\n",
              " 'aero-glass': 5,\n",
              " 'aero-peek': 4,\n",
              " 'aero-snap': 2,\n",
              " 'aes': 123,\n",
              " 'aes-gcm': 1,\n",
              " 'aescryptoserviceprovider': 2,\n",
              " 'aeson': 1,\n",
              " 'aesthetics': 3,\n",
              " 'aether': 3,\n",
              " 'af-s': 1,\n",
              " 'afconvert': 1,\n",
              " 'affiliate': 5,\n",
              " 'affiliates': 1,\n",
              " 'affiliation': 1,\n",
              " 'affine-geometry': 5,\n",
              " 'affine-schemes': 1,\n",
              " 'affinetransform': 9,\n",
              " 'affinity': 7,\n",
              " 'affix': 1,\n",
              " 'afnetworking': 65,\n",
              " 'aforge': 15,\n",
              " 'afp': 17,\n",
              " 'afs': 1,\n",
              " 'after-create': 2,\n",
              " 'after-effects': 5,\n",
              " 'after-save': 2,\n",
              " 'against': 2,\n",
              " 'agal': 1,\n",
              " 'agda': 3,\n",
              " 'age': 7,\n",
              " 'agent': 17,\n",
              " 'agent-based-modeling': 3,\n",
              " 'agent-ransack': 2,\n",
              " 'agents-jade': 3,\n",
              " 'aggregate': 57,\n",
              " 'aggregate-functions': 72,\n",
              " 'aggregate-initialization': 1,\n",
              " 'aggregateroot': 5,\n",
              " 'aggregates': 1,\n",
              " 'aggregation': 31,\n",
              " 'aggregation-framework': 4,\n",
              " 'aggregator': 4,\n",
              " 'aggregators': 1,\n",
              " 'agile': 132,\n",
              " 'agile-processes': 4,\n",
              " 'agile-project-management': 4,\n",
              " 'agiletoolkit': 1,\n",
              " 'agp': 1,\n",
              " 'agpl': 5,\n",
              " 'agrep': 1,\n",
              " 'agriculture': 2,\n",
              " 'ahah': 4,\n",
              " 'ahci': 8,\n",
              " 'aho-corasick': 1,\n",
              " 'ai.artificial-intel': 5,\n",
              " 'aida': 1,\n",
              " 'aidl': 12,\n",
              " 'aif': 2,\n",
              " 'aiff': 1,\n",
              " 'aik': 1,\n",
              " 'aim': 7,\n",
              " 'aiml': 2,\n",
              " 'aio': 1,\n",
              " 'air': 373,\n",
              " 'air-android': 2,\n",
              " 'air-native-extension': 14,\n",
              " 'air2': 1,\n",
              " 'airbrake': 1,\n",
              " 'aircard': 1,\n",
              " 'aircrack-ng': 3,\n",
              " 'airfoil': 1,\n",
              " 'aironet': 1,\n",
              " 'airplane': 1,\n",
              " 'airplay': 17,\n",
              " 'airport': 17,\n",
              " 'airport-express': 6,\n",
              " 'airport-extreme': 11,\n",
              " 'airprint': 7,\n",
              " 'airshows': 1,\n",
              " 'airtunes': 3,\n",
              " 'aix': 71,\n",
              " 'ajax': 4173,\n",
              " 'ajax-control-tookit': 6,\n",
              " 'ajax-polling': 2,\n",
              " 'ajax-push': 6,\n",
              " 'ajax-request': 3,\n",
              " 'ajax-upload': 4,\n",
              " 'ajax.beginform': 8,\n",
              " 'ajax.net': 7,\n",
              " 'ajax.request': 1,\n",
              " 'ajax4jsf': 21,\n",
              " 'ajaxcomplete': 4,\n",
              " 'ajaxcontroltoolkit': 83,\n",
              " 'ajaxform': 10,\n",
              " 'ajaxmin': 1,\n",
              " 'ajaxsetup': 4,\n",
              " 'ajaxtoolkit': 34,\n",
              " 'ajp': 8,\n",
              " 'akamai': 6,\n",
              " 'akismet': 3,\n",
              " 'akka': 45,\n",
              " 'akka-zeromq': 1,\n",
              " 'alarm': 35,\n",
              " 'alarm-clock': 1,\n",
              " 'alarmmanager': 51,\n",
              " 'alarms': 4,\n",
              " 'alasset': 6,\n",
              " 'alassetslibrary': 24,\n",
              " 'albacore': 1,\n",
              " 'album-art': 5,\n",
              " 'albumart': 3,\n",
              " 'alcatel-ot': 1,\n",
              " 'alchemy': 3,\n",
              " 'alcohol': 3,\n",
              " 'alert': 87,\n",
              " 'alertdialog': 70,\n",
              " 'alerting': 3,\n",
              " 'alerts': 12,\n",
              " 'alertview': 2,\n",
              " 'alex': 1,\n",
              " 'alfred': 2,\n",
              " 'alfresco': 48,\n",
              " 'alfresco-share': 3,\n",
              " 'algebra': 26,\n",
              " 'algebra-precalculus': 444,\n",
              " 'algebraic-complexity': 2,\n",
              " 'algebraic-curves': 24,\n",
              " 'algebraic-data-types': 1,\n",
              " 'algebraic-geometry': 322,\n",
              " 'algebraic-graph-theory': 3,\n",
              " 'algebraic-groups': 12,\n",
              " 'algebraic-k-theory': 2,\n",
              " 'algebraic-number-theory': 91,\n",
              " 'algebraic-systems': 1,\n",
              " 'algebraic-topology': 225,\n",
              " 'alglib': 2,\n",
              " 'algol': 1,\n",
              " 'algorithm': 1940,\n",
              " 'algorithm-analysis': 1,\n",
              " 'algorithm2e': 12,\n",
              " 'algorithmic': 2,\n",
              " 'algorithmic-game-theory': 1,\n",
              " 'algorithmic-trading': 2,\n",
              " 'algorithmicx': 5,\n",
              " 'algorithms': 326,\n",
              " 'alias': 117,\n",
              " 'aliases': 7,\n",
              " 'aliasing': 5,\n",
              " 'aliens': 2,\n",
              " 'alienware': 2,\n",
              " 'align': 43,\n",
              " 'alignment': 153,\n",
              " 'alivepdf': 2,\n",
              " 'all': 1,\n",
              " 'all-delete-orphan': 1,\n",
              " 'all-in-one-seo': 1,\n",
              " 'allegro': 9,\n",
              " 'allegro-cl': 1,\n",
              " 'allegro5': 5,\n",
              " 'allergies': 1,\n",
              " 'alloc': 9,\n",
              " 'allocation': 36,\n",
              " 'allocator': 23,\n",
              " 'alloy': 6,\n",
              " 'alloy-ui': 3,\n",
              " 'allwebs': 1,\n",
              " 'alm': 3,\n",
              " 'aloha-editor': 5,\n",
              " 'alpha': 44,\n",
              " 'alpha-beta-pruning': 4,\n",
              " 'alpha-channel': 3,\n",
              " 'alpha-transparency': 13,\n",
              " 'alphabet': 1,\n",
              " 'alphabetical': 10,\n",
              " 'alphabetized': 2,\n",
              " 'alphablending': 28,\n",
              " 'alphanumeric': 8,\n",
              " 'alpine': 3,\n",
              " 'alsa': 39,\n",
              " 'alt': 9,\n",
              " 'alt-code': 1,\n",
              " 'alt-key': 1,\n",
              " 'alt-tab': 11,\n",
              " 'alt-text': 1,\n",
              " 'alter': 11,\n",
              " 'alter-column': 1,\n",
              " 'alter-table': 21,\n",
              " 'altera': 4,\n",
              " 'alternate': 6,\n",
              " 'alternate-access-mapping': 10,\n",
              " 'alternate-access-mappings': 1,\n",
              " 'alternate-data-stream': 3,\n",
              " 'alternate-stylesheets': 1,\n",
              " 'alternateview': 1,\n",
              " 'alternating-hierarchy': 2,\n",
              " 'alternative': 24,\n",
              " 'alternative-medicine': 12,\n",
              " 'alternative-proof': 11,\n",
              " 'alternatives-to': 4,\n",
              " 'altivec': 1,\n",
              " 'altova': 5,\n",
              " 'alu': 2,\n",
              " 'always-on-top': 4,\n",
              " 'alwaysontop': 2,\n",
              " 'am2+': 2,\n",
              " 'am3': 1,\n",
              " 'amanda': 1,\n",
              " 'amarok': 4,\n",
              " 'amateur': 2,\n",
              " 'amavis': 3,\n",
              " 'amazon': 106,\n",
              " 'amazon-ami': 13,\n",
              " 'amazon-appstore': 3,\n",
              " 'amazon-beanstalk': 2,\n",
              " 'amazon-cloudformation': 3,\n",
              " 'amazon-cloudfront': 35,\n",
              " 'amazon-cloudsearch': 1,\n",
              " 'amazon-cloudwatch': 3,\n",
              " 'amazon-dynamodb': 18,\n",
              " 'amazon-ebs': 44,\n",
              " 'amazon-ec2': 602,\n",
              " 'amazon-ecs': 3,\n",
              " 'amazon-elastic-ip': 5,\n",
              " 'amazon-elasticache': 3,\n",
              " 'amazon-elb': 15,\n",
              " 'amazon-emr': 6,\n",
              " 'amazon-fps': 2,\n",
              " 'amazon-glacier': 5,\n",
              " 'amazon-iam': 1,\n",
              " 'amazon-mws': 4,\n",
              " 'amazon-product-api': 11,\n",
              " 'amazon-rds': 32,\n",
              " 'amazon-route53': 9,\n",
              " 'amazon-s3': 329,\n",
              " 'amazon-ses': 16,\n",
              " 'amazon-simpledb': 24,\n",
              " 'amazon-sns': 3,\n",
              " 'amazon-sqs': 16,\n",
              " 'amazon-swf': 1,\n",
              " 'amazon-vpc': 3,\n",
              " 'amazon-web-services': 433,\n",
              " 'ambient': 1,\n",
              " 'ambient-light': 1,\n",
              " 'ambiguity': 14,\n",
              " 'ambiguous': 7,\n",
              " 'ambiguous-call': 1,\n",
              " 'amchart': 5,\n",
              " 'amd': 50,\n",
              " 'amd-athlon': 2,\n",
              " 'amd-catalyst': 9,\n",
              " 'amd-phenom': 7,\n",
              " 'amd-radeon': 11,\n",
              " 'amd-v': 2,\n",
              " 'amd64': 2,\n",
              " 'amember': 3,\n",
              " 'amenability': 2,\n",
              " 'amend': 4,\n",
              " 'amf': 23,\n",
              " 'amfphp': 17,\n",
              " 'ami': 8,\n",
              " 'amiga': 2,\n",
              " 'amortized-analysis': 3,\n",
              " 'ampersand': 18,\n",
              " 'ampl': 4,\n",
              " 'amplifyjs': 1,\n",
              " 'ampq': 4,\n",
              " 'amqp': 24,\n",
              " 'amr': 11,\n",
              " 'amsart': 1,\n",
              " 'amsbook': 4,\n",
              " 'amsmath': 50,\n",
              " 'amsrefs': 1,\n",
              " 'amssymb': 1,\n",
              " 'amsthm': 11,\n",
              " 'amt': 2,\n",
              " 'an': 1,\n",
              " 'anaconda': 4,\n",
              " 'anagram': 4,\n",
              " 'analog': 4,\n",
              " 'analog-digital-converter': 1,\n",
              " 'analysis': 494,\n",
              " 'analysis-of-algorithms': 1,\n",
              " 'analysis-services': 18,\n",
              " 'analytic': 3,\n",
              " 'analytic-functions': 4,\n",
              " 'analytic-geometry': 60,\n",
              " 'analytic-number-theory': 34,\n",
              " 'analyticity': 10,\n",
              " 'analytics': 81,\n",
              " 'analyzer': 15,\n",
              " 'anatomy': 1,\n",
              " 'ancestor': 1,\n",
              " 'ancestry': 4,\n",
              " 'anchor': 121,\n",
              " 'ancient-monuments': 2,\n",
              " 'and': 3,\n",
              " 'andar': 1,\n",
              " 'andengine': 75,\n",
              " 'android': 21218,\n",
              " 'android-1.6': 2,\n",
              " 'android-2.1': 3,\n",
              " 'android-2.2': 12,\n",
              " 'android-2.3': 12,\n",
              " 'android-3.0': 5,\n",
              " 'android-3.1': 2,\n",
              " 'android-3.2': 2,\n",
              " 'android-4.0': 25,\n",
              " 'android-4.2': 4,\n",
              " 'android-account': 2,\n",
              " 'android-actionbar': 140,\n",
              " 'android-actionmode': 1,\n",
              " 'android-activity': 139,\n",
              " 'android-activityrecord': 1,\n",
              " 'android-adapter': 16,\n",
              " 'android-adapterview': 3,\n",
              " 'android-alarms': 20,\n",
              " 'android-alertdialog': 37,\n",
              " 'android-animation': 61,\n",
              " 'android-annotations': 3,\n",
              " 'android-anr-dialog': 4,\n",
              " 'android-api': 2,\n",
              " 'android-apk': 16,\n",
              " 'android-application': 5,\n",
              " 'android-applicationinfo': 1,\n",
              " 'android-appwidget': 8,\n",
              " 'android-arrayadapter': 73,\n",
              " 'android-assets': 9,\n",
              " 'android-asynctask': 227,\n",
              " 'android-audiomanager': 6,\n",
              " 'android-audiorecord': 5,\n",
              " 'android-backup-service': 4,\n",
              " 'android-beam': 4,\n",
              " 'android-billing': 3,\n",
              " 'android-broadcast': 8,\n",
              " 'android-browser': 12,\n",
              " 'android-build': 6,\n",
              " 'android-button': 26,\n",
              " 'android-c2dm': 49,\n",
              " 'android-calendar': 11,\n",
              " 'android-camera': 98,\n",
              " 'android-camera-intent': 14,\n",
              " 'android-canvas': 87,\n",
              " 'android-capture': 3,\n",
              " 'android-checkbox': 5,\n",
              " 'android-compat-lib': 8,\n",
              " 'android-compatibility': 5,\n",
              " 'android-configchanges': 4,\n",
              " 'android-contacts': 49,\n",
              " 'android-contentprovider': 67,\n",
              " 'android-contentresolver': 9,\n",
              " 'android-context': 10,\n",
              " 'android-contextmenu': 4,\n",
              " 'android-controls': 1,\n",
              " 'android-cts': 2,\n",
              " 'android-cursor': 9,\n",
              " 'android-cursoradapter': 10,\n",
              " 'android-cursorloader': 5,\n",
              " 'android-custom-view': 29,\n",
              " 'android-datepicker': 5,\n",
              " 'android-debug-bridge': 2,\n",
              " 'android-development': 2,\n",
              " 'android-dialog': 22,\n",
              " 'android-dialogfragment': 15,\n",
              " 'android-download-manager': 3,\n",
              " 'android-drawable': 10,\n",
              " 'android-eclair': 1,\n",
              " 'android-edittext': 55,\n",
              " 'android-emulator': 341,\n",
              " 'android-event': 6,\n",
              " 'android-expansion-files': 2,\n",
              " 'android-externalstorage': 1,\n",
              " 'android-facebook': 5,\n",
              " 'android-file': 15,\n",
              " 'android-firmware': 2,\n",
              " 'android-fonts': 7,\n",
              " 'android-fragmentactivity': 20,\n",
              " 'android-fragments': 233,\n",
              " 'android-framework': 7,\n",
              " 'android-froyo': 9,\n",
              " 'android-fullscreen': 2,\n",
              " 'android-gallery': 31,\n",
              " 'android-gcm': 28,\n",
              " 'android-gesture': 3,\n",
              " 'android-gridlayout': 2,\n",
              " 'android-gridview': 26,\n",
              " 'android-gui': 3,\n",
              " 'android-handler': 3,\n",
              " 'android-hardware': 5,\n",
              " 'android-holo-everywhere': 7,\n",
              " 'android-icons': 1,\n",
              " 'android-image': 4,\n",
              " 'android-images': 22,\n",
              " 'android-imageview': 51,\n",
              " 'android-inflate': 10,\n",
              " 'android-input-method': 10,\n",
              " 'android-install-apk': 7,\n",
              " 'android-intent': 573,\n",
              " 'android-internet': 6,\n",
              " 'android-jsinterface': 2,\n",
              " 'android-keypad': 8,\n",
              " 'android-keystore': 2,\n",
              " 'android-ksoap2': 21,\n",
              " 'android-launcher': 1,\n",
              " 'android-layout': 913,\n",
              " 'android-lazyadapter': 1,\n",
              " 'android-library': 21,\n",
              " 'android-lifecycle': 26,\n",
              " 'android-linearlayout': 79,\n",
              " 'android-lint': 2,\n",
              " 'android-listfragment': 25,\n",
              " 'android-listview': 283,\n",
              " 'android-livefolders': 1,\n",
              " 'android-loader': 1,\n",
              " 'android-loadermanager': 8,\n",
              " 'android-location': 13,\n",
              " 'android-logcat': 18,\n",
              " 'android-lru-cache': 1,\n",
              " 'android-lvl': 6,\n",
              " 'android-manifest': 114,\n",
              " 'android-maps': 32,\n",
              " 'android-maps-v2': 8,\n",
              " 'android-mapview': 115,\n",
              " 'android-market': 86,\n",
              " ...}"
            ]
          },
          "metadata": {
            "tags": []
          },
          "execution_count": 27
        }
      ]
    },
    {
      "cell_type": "markdown",
      "metadata": {
        "id": "TquAb5NXNWN2"
      },
      "source": [
        "### Dictionary containing tag name and count pair\n"
      ]
    },
    {
      "cell_type": "code",
      "metadata": {
        "colab": {
          "base_uri": "https://localhost:8080/",
          "height": 415
        },
        "id": "ss9iZnK6MnlB",
        "outputId": "0039d5f4-90a4-4b67-aada-53715a6d504b"
      },
      "source": [
        "#Saving this dictionary to csv files.\n",
        "if not os.path.isfile('tag_counts_dict_dtm.csv'):\n",
        "    with open('tag_counts_dict_dtm.csv', 'w') as csv_file:\n",
        "        writer = csv.writer(csv_file)\n",
        "        for key, value in result.items():\n",
        "            writer.writerow([key, value])\n",
        "tag_df = pd.read_csv(\"tag_counts_dict_dtm.csv\", names=['Tags', 'Counts'])\n",
        "tag_df"
      ],
      "execution_count": 29,
      "outputs": [
        {
          "output_type": "execute_result",
          "data": {
            "text/html": [
              "<div>\n",
              "<style scoped>\n",
              "    .dataframe tbody tr th:only-of-type {\n",
              "        vertical-align: middle;\n",
              "    }\n",
              "\n",
              "    .dataframe tbody tr th {\n",
              "        vertical-align: top;\n",
              "    }\n",
              "\n",
              "    .dataframe thead th {\n",
              "        text-align: right;\n",
              "    }\n",
              "</style>\n",
              "<table border=\"1\" class=\"dataframe\">\n",
              "  <thead>\n",
              "    <tr style=\"text-align: right;\">\n",
              "      <th></th>\n",
              "      <th>Tags</th>\n",
              "      <th>Counts</th>\n",
              "    </tr>\n",
              "  </thead>\n",
              "  <tbody>\n",
              "    <tr>\n",
              "      <th>0</th>\n",
              "      <td>.a</td>\n",
              "      <td>1</td>\n",
              "    </tr>\n",
              "    <tr>\n",
              "      <th>1</th>\n",
              "      <td>.app</td>\n",
              "      <td>3</td>\n",
              "    </tr>\n",
              "    <tr>\n",
              "      <th>2</th>\n",
              "      <td>.aspxauth</td>\n",
              "      <td>2</td>\n",
              "    </tr>\n",
              "    <tr>\n",
              "      <th>3</th>\n",
              "      <td>.bash-profile</td>\n",
              "      <td>10</td>\n",
              "    </tr>\n",
              "    <tr>\n",
              "      <th>4</th>\n",
              "      <td>.class-file</td>\n",
              "      <td>4</td>\n",
              "    </tr>\n",
              "    <tr>\n",
              "      <th>...</th>\n",
              "      <td>...</td>\n",
              "      <td>...</td>\n",
              "    </tr>\n",
              "    <tr>\n",
              "      <th>28981</th>\n",
              "      <td>zxing</td>\n",
              "      <td>56</td>\n",
              "    </tr>\n",
              "    <tr>\n",
              "      <th>28982</th>\n",
              "      <td>zypper</td>\n",
              "      <td>1</td>\n",
              "    </tr>\n",
              "    <tr>\n",
              "      <th>28983</th>\n",
              "      <td>zywall</td>\n",
              "      <td>1</td>\n",
              "    </tr>\n",
              "    <tr>\n",
              "      <th>28984</th>\n",
              "      <td>zyxel</td>\n",
              "      <td>3</td>\n",
              "    </tr>\n",
              "    <tr>\n",
              "      <th>28985</th>\n",
              "      <td>zzt-oop</td>\n",
              "      <td>1</td>\n",
              "    </tr>\n",
              "  </tbody>\n",
              "</table>\n",
              "<p>28986 rows × 2 columns</p>\n",
              "</div>"
            ],
            "text/plain": [
              "                Tags  Counts\n",
              "0                 .a       1\n",
              "1               .app       3\n",
              "2          .aspxauth       2\n",
              "3      .bash-profile      10\n",
              "4        .class-file       4\n",
              "...              ...     ...\n",
              "28981          zxing      56\n",
              "28982         zypper       1\n",
              "28983         zywall       1\n",
              "28984          zyxel       3\n",
              "28985        zzt-oop       1\n",
              "\n",
              "[28986 rows x 2 columns]"
            ]
          },
          "metadata": {
            "tags": []
          },
          "execution_count": 29
        }
      ]
    },
    {
      "cell_type": "code",
      "metadata": {
        "colab": {
          "base_uri": "https://localhost:8080/"
        },
        "id": "uV-4NxWXMy9U",
        "outputId": "835c230e-9d85-4e6c-b54c-de64f2b9f670"
      },
      "source": [
        "tag_df_sorted = tag_df.sort_values(['Counts'], ascending=False)\n",
        "tag_counts = tag_df_sorted['Counts'].values\n",
        "tag_counts"
      ],
      "execution_count": 30,
      "outputs": [
        {
          "output_type": "execute_result",
          "data": {
            "text/plain": [
              "array([30554, 27166, 26019, ...,     1,     1,     1])"
            ]
          },
          "metadata": {
            "tags": []
          },
          "execution_count": 30
        }
      ]
    },
    {
      "cell_type": "code",
      "metadata": {
        "colab": {
          "base_uri": "https://localhost:8080/",
          "height": 415
        },
        "id": "W23uGcZ0NNze",
        "outputId": "4578e4eb-70b4-4edb-84c8-15e537e5eed5"
      },
      "source": [
        "tag_df_sorted"
      ],
      "execution_count": 31,
      "outputs": [
        {
          "output_type": "execute_result",
          "data": {
            "text/html": [
              "<div>\n",
              "<style scoped>\n",
              "    .dataframe tbody tr th:only-of-type {\n",
              "        vertical-align: middle;\n",
              "    }\n",
              "\n",
              "    .dataframe tbody tr th {\n",
              "        vertical-align: top;\n",
              "    }\n",
              "\n",
              "    .dataframe thead th {\n",
              "        text-align: right;\n",
              "    }\n",
              "</style>\n",
              "<table border=\"1\" class=\"dataframe\">\n",
              "  <thead>\n",
              "    <tr style=\"text-align: right;\">\n",
              "      <th></th>\n",
              "      <th>Tags</th>\n",
              "      <th>Counts</th>\n",
              "    </tr>\n",
              "  </thead>\n",
              "  <tbody>\n",
              "    <tr>\n",
              "      <th>3071</th>\n",
              "      <td>c#</td>\n",
              "      <td>30554</td>\n",
              "    </tr>\n",
              "    <tr>\n",
              "      <th>12561</th>\n",
              "      <td>java</td>\n",
              "      <td>27166</td>\n",
              "    </tr>\n",
              "    <tr>\n",
              "      <th>18762</th>\n",
              "      <td>php</td>\n",
              "      <td>26019</td>\n",
              "    </tr>\n",
              "    <tr>\n",
              "      <th>12629</th>\n",
              "      <td>javascript</td>\n",
              "      <td>24292</td>\n",
              "    </tr>\n",
              "    <tr>\n",
              "      <th>875</th>\n",
              "      <td>android</td>\n",
              "      <td>21218</td>\n",
              "    </tr>\n",
              "    <tr>\n",
              "      <th>...</th>\n",
              "      <td>...</td>\n",
              "      <td>...</td>\n",
              "    </tr>\n",
              "    <tr>\n",
              "      <th>15431</th>\n",
              "      <td>mixed-authentication</td>\n",
              "      <td>1</td>\n",
              "    </tr>\n",
              "    <tr>\n",
              "      <th>15432</th>\n",
              "      <td>mixed-code</td>\n",
              "      <td>1</td>\n",
              "    </tr>\n",
              "    <tr>\n",
              "      <th>15435</th>\n",
              "      <td>mixin</td>\n",
              "      <td>1</td>\n",
              "    </tr>\n",
              "    <tr>\n",
              "      <th>15440</th>\n",
              "      <td>mjsip</td>\n",
              "      <td>1</td>\n",
              "    </tr>\n",
              "    <tr>\n",
              "      <th>28985</th>\n",
              "      <td>zzt-oop</td>\n",
              "      <td>1</td>\n",
              "    </tr>\n",
              "  </tbody>\n",
              "</table>\n",
              "<p>28986 rows × 2 columns</p>\n",
              "</div>"
            ],
            "text/plain": [
              "                       Tags  Counts\n",
              "3071                     c#   30554\n",
              "12561                  java   27166\n",
              "18762                   php   26019\n",
              "12629            javascript   24292\n",
              "875                 android   21218\n",
              "...                     ...     ...\n",
              "15431  mixed-authentication       1\n",
              "15432            mixed-code       1\n",
              "15435                 mixin       1\n",
              "15440                 mjsip       1\n",
              "28985               zzt-oop       1\n",
              "\n",
              "[28986 rows x 2 columns]"
            ]
          },
          "metadata": {
            "tags": []
          },
          "execution_count": 31
        }
      ]
    },
    {
      "cell_type": "code",
      "metadata": {
        "colab": {
          "base_uri": "https://localhost:8080/",
          "height": 295
        },
        "id": "5va02icjNRkW",
        "outputId": "0da6c6e9-dd41-48eb-d77c-efbb7bb7328b"
      },
      "source": [
        "plt.plot(tag_counts)\n",
        "plt.title(\"Distribution of number of times tag appeared\")\n",
        "plt.grid()\n",
        "plt.xlabel(\"Tag number\")\n",
        "plt.ylabel(\"Number of times tag appeared\")\n",
        "plt.show()"
      ],
      "execution_count": 36,
      "outputs": [
        {
          "output_type": "display_data",
          "data": {
            "image/png": "[encoded data removed]",
            "text/plain": [
              "<Figure size 432x288 with 1 Axes>"
            ]
          },
          "metadata": {
            "tags": [],
            "needs_background": "light"
          }
        }
      ]
    },
    {
      "cell_type": "code",
      "metadata": {
        "id": "TR_hRnvAOuXd"
      },
      "source": [
        ""
      ],
      "execution_count": null,
      "outputs": []
    },
    {
      "cell_type": "code",
      "metadata": {
        "colab": {
          "base_uri": "https://localhost:8080/",
          "height": 295
        },
        "id": "ki9LVgFLOOsh",
        "outputId": "acab8214-bf6c-4bfe-9373-3ed2a946179f"
      },
      "source": [
        "plt.plot(tag_counts[0:1000])\n",
        "plt.title('first 1k tags: Distribution of number of times tag appeared')\n",
        "plt.grid()\n",
        "plt.xlabel(\"Tag number\")\n",
        "plt.ylabel(\"Number of times tag appeared\")\n",
        "plt.show()"
      ],
      "execution_count": 35,
      "outputs": [
        {
          "output_type": "display_data",
          "data": {
            "image/png": "[encoded data removed]",
            "text/plain": [
              "<Figure size 432x288 with 1 Axes>"
            ]
          },
          "metadata": {
            "tags": [],
            "needs_background": "light"
          }
        }
      ]
    },
    {
      "cell_type": "code",
      "metadata": {
        "colab": {
          "base_uri": "https://localhost:8080/",
          "height": 295
        },
        "id": "kymkkSOIOono",
        "outputId": "977da169-cccc-458e-94ec-700c8cdbe840"
      },
      "source": [
        "plt.plot(tag_counts[0:500])\n",
        "plt.title('first 500 tags: Distribution of number of times tag appeared')\n",
        "plt.grid()\n",
        "plt.xlabel(\"Tag number\")\n",
        "plt.ylabel(\"Number of times tag appeared\")\n",
        "plt.show()"
      ],
      "execution_count": 37,
      "outputs": [
        {
          "output_type": "display_data",
          "data": {
            "image/png": "[encoded data removed]",
            "text/plain": [
              "<Figure size 432x288 with 1 Axes>"
            ]
          },
          "metadata": {
            "tags": [],
            "needs_background": "light"
          }
        }
      ]
    },
    {
      "cell_type": "code",
      "metadata": {
        "colab": {
          "base_uri": "https://localhost:8080/",
          "height": 295
        },
        "id": "tKTOoXsBOrgD",
        "outputId": "d1033371-2c31-4e4c-ebb6-c3804a75df6f"
      },
      "source": [
        "plt.plot(tag_counts[0:100], c='b')\n",
        "plt.scatter(x=list(range(0,100,5)), y=tag_counts[0:100:5], c='orange', label=\"quantiles with 0.05 intervals\")\n",
        "# quantiles with 0.25 difference\n",
        "plt.scatter(x=list(range(0,100,25)), y=tag_counts[0:100:25], c='m', label = \"quantiles with 0.25 intervals\")\n",
        "\n",
        "for x,y in zip(list(range(0,100,25)), tag_counts[0:100:25]):\n",
        "    plt.annotate(s=\"({} , {})\".format(x,y), xy=(x,y), xytext=(x-0.05, y+500))\n",
        "\n",
        "plt.title('first 100 tags: Distribution of number of times tag appeared')\n",
        "plt.grid()\n",
        "plt.xlabel(\"Tag number\")\n",
        "plt.ylabel(\"Number of times tag appeared\")\n",
        "plt.legend()\n",
        "plt.show()"
      ],
      "execution_count": 40,
      "outputs": [
        {
          "output_type": "display_data",
          "data": {
            "image/png": "[encoded data removed]",
            "text/plain": [
              "<Figure size 432x288 with 1 Axes>"
            ]
          },
          "metadata": {
            "tags": [],
            "needs_background": "light"
          }
        }
      ]
    },
    {
      "cell_type": "code",
      "metadata": {
        "colab": {
          "base_uri": "https://localhost:8080/"
        },
        "id": "7ZAfkW2HQQBq",
        "outputId": "b581de4e-ad73-4ae4-e009-03090327a9dc"
      },
      "source": [
        "# Store tags greater than 10K in one list\n",
        "lst_tags_gt_10k = tag_df[tag_df.Counts>1000].Tags\n",
        "#Print the length of the list\n",
        "print ('{} Tags are used more than 1000 times'.format(len(lst_tags_gt_10k)))\n",
        "# Store tags greater than 100K in one list\n",
        "lst_tags_gt_100k = tag_df[tag_df.Counts>10000].Tags\n",
        "#Print the length of the list.\n",
        "print ('{} Tags are used more than 10000 times'.format(len(lst_tags_gt_100k)))"
      ],
      "execution_count": 43,
      "outputs": [
        {
          "output_type": "stream",
          "text": [
            "136 Tags are used more than 1000 times\n",
            "13 Tags are used more than 10000 times\n"
          ],
          "name": "stdout"
        }
      ]
    },
    {
      "cell_type": "markdown",
      "metadata": {
        "id": "sJKKfzGHQ3yP"
      },
      "source": [
        "## Observations:\n",
        "1) There are total 136 tags which are used more than 1000 times.\n",
        "\n",
        "2) 13 tags are used more than 10000 times.\n",
        "\n",
        "3) Most frequent tag (i.e. c#) is used 30554 times.\n",
        "\n",
        "4) Since some tags occur much more frequenctly than others, Micro-averaged F1-score is the appropriate metric for this probelm."
      ]
    },
    {
      "cell_type": "markdown",
      "metadata": {
        "id": "CRpcoN15Rt9w"
      },
      "source": [
        "## Tags per question"
      ]
    },
    {
      "cell_type": "code",
      "metadata": {
        "colab": {
          "base_uri": "https://localhost:8080/"
        },
        "id": "ttRr6u4gQlKb",
        "outputId": "2c0925b6-7770-4b8c-880d-4817ec07e788"
      },
      "source": [
        "#Storing the count of tag in each question in list 'tag_count'\n",
        "tag_quest_count = tag_dtm.sum(axis=1).tolist()\n",
        "#Converting each value in the 'tag_quest_count' to integer.\n",
        "tag_quest_count=[int(j) for i in tag_quest_count for j in i]\n",
        "print ('We have total {} datapoints.'.format(len(tag_quest_count)))\n",
        "\n",
        "print(tag_quest_count[:5])"
      ],
      "execution_count": 53,
      "outputs": [
        {
          "output_type": "stream",
          "text": [
            "We have total 396983 datapoints.\n",
            "[3, 3, 1, 4, 4]\n"
          ],
          "name": "stdout"
        }
      ]
    },
    {
      "cell_type": "code",
      "metadata": {
        "colab": {
          "base_uri": "https://localhost:8080/"
        },
        "id": "1ONyJSMCR1Cl",
        "outputId": "4724145d-b634-4efd-f4cb-c5d67d91de20"
      },
      "source": [
        "print( \"Maximum number of tags per question: %d\"%max(tag_quest_count))\n",
        "print( \"Minimum number of tags per question: %d\"%min(tag_quest_count))\n",
        "print( \"Avg. number of tags per question: %f\"% ((sum(tag_quest_count)*1.0)/len(tag_quest_count)))"
      ],
      "execution_count": 54,
      "outputs": [
        {
          "output_type": "stream",
          "text": [
            "Maximum number of tags per question: 18\n",
            "Minimum number of tags per question: 1\n",
            "Avg. number of tags per question: 2.886051\n"
          ],
          "name": "stdout"
        }
      ]
    },
    {
      "cell_type": "code",
      "metadata": {
        "colab": {
          "base_uri": "https://localhost:8080/",
          "height": 295
        },
        "id": "U5BSh0vhTMAd",
        "outputId": "400555fe-cdf3-4234-b1e5-39eca7f0ae1f"
      },
      "source": [
        "sns.countplot(tag_quest_count, palette='gist_rainbow')\n",
        "plt.title(\"Number of tags in the questions \")\n",
        "plt.xlabel(\"Number of Tags\")\n",
        "plt.ylabel(\"Number of questions\")\n",
        "plt.show()"
      ],
      "execution_count": 55,
      "outputs": [
        {
          "output_type": "display_data",
          "data": {
            "image/png": "[encoded data removed]",
            "text/plain": [
              "<Figure size 432x288 with 1 Axes>"
            ]
          },
          "metadata": {
            "tags": [],
            "needs_background": "light"
          }
        }
      ]
    },
    {
      "cell_type": "markdown",
      "metadata": {
        "id": "ZKbakQ-cTNzB"
      },
      "source": [
        "### As stackoverflow only allows maximum 5 tags per question, we need to delete the incorrect question data where number of tags > 5"
      ]
    },
    {
      "cell_type": "code",
      "metadata": {
        "id": "CyNp21OcTlZh"
      },
      "source": [
        ""
      ],
      "execution_count": null,
      "outputs": []
    }
  ]
}