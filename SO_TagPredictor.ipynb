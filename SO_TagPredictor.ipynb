{
  "nbformat": 4,
  "nbformat_minor": 0,
  "metadata": {
    "colab": {
      "name": "SO_TagPredictor.ipynb",
      "provenance": [],
      "collapsed_sections": [],
      "authorship_tag": "ABX9TyNGU47UOtpo6YzP+CnpbinU",
      "include_colab_link": true
    },
    "kernelspec": {
      "display_name": "Python 3",
      "name": "python3"
    },
    "language_info": {
      "name": "python"
    }
  },
  "cells": [
    {
      "cell_type": "markdown",
      "metadata": {
        "id": "view-in-github",
        "colab_type": "text"
      },
      "source": [
        "<a href=\"https://colab.research.google.com/github/R-A-N-N/Stackoverflow-Tag-Predictor/blob/main/SO_TagPredictor.ipynb\" target=\"_parent\"><img src=\"https://colab.research.google.com/assets/colab-badge.svg\" alt=\"Open In Colab\"/></a>"
      ]
    },
    {
      "cell_type": "code",
      "metadata": {
        "colab": {
          "base_uri": "https://localhost:8080/"
        },
        "id": "CfAwjnfbaqVP",
        "outputId": "da7cfc81-97c0-4f14-a141-a69f67ddb38e"
      },
      "source": [
        "pip install scikit-multilearn"
      ],
      "execution_count": 64,
      "outputs": [
        {
          "output_type": "stream",
          "text": [
            "Requirement already satisfied: scikit-multilearn in /usr/local/lib/python3.7/dist-packages (0.2.0)\n"
          ],
          "name": "stdout"
        }
      ]
    },
    {
      "cell_type": "markdown",
      "metadata": {
        "id": "3n8xRJ-31GE6"
      },
      "source": [
        "##All import statements"
      ]
    },
    {
      "cell_type": "code",
      "metadata": {
        "id": "v-kqxro9bHZe"
      },
      "source": [
        "import warnings\n",
        "warnings.filterwarnings(\"ignore\")\n",
        "import pandas as pd\n",
        "import sqlite3\n",
        "import csv\n",
        "import matplotlib.pyplot as plt\n",
        "import seaborn as sns\n",
        "import numpy as np\n",
        "from wordcloud import WordCloud\n",
        "import re\n",
        "import os\n",
        "from sqlalchemy import create_engine # database connection\n",
        "import datetime as dt\n",
        "from nltk.corpus import stopwords\n",
        "from nltk.tokenize import word_tokenize\n",
        "from nltk.stem.snowball import SnowballStemmer\n",
        "from sklearn.feature_extraction.text import CountVectorizer\n",
        "from sklearn.feature_extraction.text import TfidfVectorizer\n",
        "from sklearn.multiclass import OneVsRestClassifier\n",
        "from sklearn.linear_model import SGDClassifier\n",
        "from sklearn import metrics\n",
        "from sklearn.metrics import f1_score,precision_score,recall_score\n",
        "from sklearn import svm\n",
        "from sklearn.linear_model import LogisticRegression\n",
        "from skmultilearn.adapt import mlknn\n",
        "from skmultilearn.problem_transform import ClassifierChain\n",
        "from skmultilearn.problem_transform import BinaryRelevance\n",
        "from skmultilearn.problem_transform import LabelPowerset\n",
        "from sklearn.naive_bayes import GaussianNB\n",
        "from datetime import datetime"
      ],
      "execution_count": 65,
      "outputs": []
    },
    {
      "cell_type": "code",
      "metadata": {
        "colab": {
          "base_uri": "https://localhost:8080/"
        },
        "id": "4DpIp0-nPPkC",
        "outputId": "f7e39acd-efa2-49d2-dd76-ae97b8cd65ad"
      },
      "source": [
        "from google.colab import drive\n",
        "drive.mount(\"/content/gdrive\")"
      ],
      "execution_count": 66,
      "outputs": [
        {
          "output_type": "stream",
          "text": [
            "Drive already mounted at /content/gdrive; to attempt to forcibly remount, call drive.mount(\"/content/gdrive\", force_remount=True).\n"
          ],
          "name": "stdout"
        }
      ]
    },
    {
      "cell_type": "markdown",
      "metadata": {
        "id": "yxa8SEOl06_5"
      },
      "source": [
        "## Loading the database"
      ]
    },
    {
      "cell_type": "code",
      "metadata": {
        "id": "WFhN5R-twIpc"
      },
      "source": [
        "con = sqlite3.connect('/content/gdrive/My Drive/so_train.db')"
      ],
      "execution_count": 67,
      "outputs": []
    },
    {
      "cell_type": "code",
      "metadata": {
        "colab": {
          "base_uri": "https://localhost:8080/",
          "height": 415
        },
        "id": "W4XGbUqYuopG",
        "outputId": "91820bc4-ea1a-4bf8-d397-3d84a3c0238a"
      },
      "source": [
        "pd.read_sql_query('SELECT Title, Body, Tags FROM data', con)"
      ],
      "execution_count": 68,
      "outputs": [
        {
          "output_type": "execute_result",
          "data": {
            "text/html": [
              "<div>\n",
              "<style scoped>\n",
              "    .dataframe tbody tr th:only-of-type {\n",
              "        vertical-align: middle;\n",
              "    }\n",
              "\n",
              "    .dataframe tbody tr th {\n",
              "        vertical-align: top;\n",
              "    }\n",
              "\n",
              "    .dataframe thead th {\n",
              "        text-align: right;\n",
              "    }\n",
              "</style>\n",
              "<table border=\"1\" class=\"dataframe\">\n",
              "  <thead>\n",
              "    <tr style=\"text-align: right;\">\n",
              "      <th></th>\n",
              "      <th>Title</th>\n",
              "      <th>Body</th>\n",
              "      <th>Tags</th>\n",
              "    </tr>\n",
              "  </thead>\n",
              "  <tbody>\n",
              "    <tr>\n",
              "      <th>0</th>\n",
              "      <td>How can I can read and modify data from XML file?</td>\n",
              "      <td>&lt;p&gt;Please give me the simplest way to read or ...</td>\n",
              "      <td>c# .net xml exception-handling</td>\n",
              "    </tr>\n",
              "    <tr>\n",
              "      <th>1</th>\n",
              "      <td>Java 2Dimensional Boolean Array Values</td>\n",
              "      <td>&lt;p&gt;I'm having a problem with my 2 dimensional ...</td>\n",
              "      <td>java multidimensional-array boolean</td>\n",
              "    </tr>\n",
              "    <tr>\n",
              "      <th>2</th>\n",
              "      <td>O(1) algorithm to determine if node is descend...</td>\n",
              "      <td>&lt;p&gt;Imagine the following tree:&lt;/p&gt;\\n\\n&lt;pre&gt;&lt;co...</td>\n",
              "      <td>algorithm tree trie descendant</td>\n",
              "    </tr>\n",
              "    <tr>\n",
              "      <th>3</th>\n",
              "      <td>C++ &amp; DirectX - setting shader</td>\n",
              "      <td>&lt;p&gt;Does someone know a fast way to invoke shad...</td>\n",
              "      <td>c++ performance directx shader</td>\n",
              "    </tr>\n",
              "    <tr>\n",
              "      <th>4</th>\n",
              "      <td>How to convert QR code to number?</td>\n",
              "      <td>&lt;p&gt;i have created QR-code through this site &lt;a...</td>\n",
              "      <td>android</td>\n",
              "    </tr>\n",
              "    <tr>\n",
              "      <th>...</th>\n",
              "      <td>...</td>\n",
              "      <td>...</td>\n",
              "      <td>...</td>\n",
              "    </tr>\n",
              "    <tr>\n",
              "      <th>406396</th>\n",
              "      <td>NetBeans: How to create a web service client t...</td>\n",
              "      <td>&lt;p&gt;I am trying to add a web service reference ...</td>\n",
              "      <td>java web-services ssl wsit</td>\n",
              "    </tr>\n",
              "    <tr>\n",
              "      <th>406397</th>\n",
              "      <td>Why does WPF require a STAThread attribute to ...</td>\n",
              "      <td>&lt;p&gt;I am new to WPF, and in every tutorial I re...</td>\n",
              "      <td>wpf stathread</td>\n",
              "    </tr>\n",
              "    <tr>\n",
              "      <th>406398</th>\n",
              "      <td>When i run aspnet_regsql, nothing is created i...</td>\n",
              "      <td>&lt;p&gt;When i run the aspnet_regsql.exe tool to ad...</td>\n",
              "      <td>.net sql-server-2005</td>\n",
              "    </tr>\n",
              "    <tr>\n",
              "      <th>406399</th>\n",
              "      <td>Prime Appearances in Fibonacci Number Factoriz...</td>\n",
              "      <td>&lt;p&gt;Okay, THIS one is considerably more analyti...</td>\n",
              "      <td>number-theory prime-numbers fibonacci-numbers</td>\n",
              "    </tr>\n",
              "    <tr>\n",
              "      <th>406400</th>\n",
              "      <td>Paypal - redirect after payment to my own page</td>\n",
              "      <td>&lt;p&gt;I would like to automatically redirecta a u...</td>\n",
              "      <td>ruby-on-rails paypal paypal-sandbox</td>\n",
              "    </tr>\n",
              "  </tbody>\n",
              "</table>\n",
              "<p>406401 rows × 3 columns</p>\n",
              "</div>"
            ],
            "text/plain": [
              "                                                    Title  ...                                           Tags\n",
              "0       How can I can read and modify data from XML file?  ...                 c# .net xml exception-handling\n",
              "1                  Java 2Dimensional Boolean Array Values  ...            java multidimensional-array boolean\n",
              "2       O(1) algorithm to determine if node is descend...  ...                 algorithm tree trie descendant\n",
              "3                          C++ & DirectX - setting shader  ...                 c++ performance directx shader\n",
              "4                       How to convert QR code to number?  ...                                        android\n",
              "...                                                   ...  ...                                            ...\n",
              "406396  NetBeans: How to create a web service client t...  ...                     java web-services ssl wsit\n",
              "406397  Why does WPF require a STAThread attribute to ...  ...                                  wpf stathread\n",
              "406398  When i run aspnet_regsql, nothing is created i...  ...                           .net sql-server-2005\n",
              "406399  Prime Appearances in Fibonacci Number Factoriz...  ...  number-theory prime-numbers fibonacci-numbers\n",
              "406400     Paypal - redirect after payment to my own page  ...            ruby-on-rails paypal paypal-sandbox\n",
              "\n",
              "[406401 rows x 3 columns]"
            ]
          },
          "metadata": {
            "tags": []
          },
          "execution_count": 68
        }
      ]
    },
    {
      "cell_type": "code",
      "metadata": {
        "id": "B7xLTzHC5Lkq"
      },
      "source": [
        "con2 = sqlite3.connect('/content/gdrive/My Drive/train_no_dup.db')"
      ],
      "execution_count": 71,
      "outputs": []
    },
    {
      "cell_type": "code",
      "metadata": {
        "id": "-qBtNHz0c6BF"
      },
      "source": [
        "con3 = sqlite3.connect('/content/train_no_dup1.db')"
      ],
      "execution_count": 72,
      "outputs": []
    },
    {
      "cell_type": "markdown",
      "metadata": {
        "id": "iAwJDW3kCGfB"
      },
      "source": [
        "## Removing Null values"
      ]
    },
    {
      "cell_type": "code",
      "metadata": {
        "colab": {
          "base_uri": "https://localhost:8080/",
          "height": 311
        },
        "id": "1sIN_80FPn_z",
        "outputId": "cd76718c-469a-4374-afa1-4e04203a58bf"
      },
      "source": [
        "pd.read_sql_query('Delete FROM data where Title IS NULL',con2)"
      ],
      "execution_count": 74,
      "outputs": [
        {
          "output_type": "error",
          "ename": "TypeError",
          "evalue": "ignored",
          "traceback": [
            "\u001b[0;31m---------------------------------------------------------------------------\u001b[0m",
            "\u001b[0;31mTypeError\u001b[0m                                 Traceback (most recent call last)",
            "\u001b[0;32m<ipython-input-74-5ae43f7776ba>\u001b[0m in \u001b[0;36m<module>\u001b[0;34m()\u001b[0m\n\u001b[0;32m----> 1\u001b[0;31m \u001b[0mpd\u001b[0m\u001b[0;34m.\u001b[0m\u001b[0mread_sql_query\u001b[0m\u001b[0;34m(\u001b[0m\u001b[0;34m'Delete FROM data where Title IS NULL'\u001b[0m\u001b[0;34m,\u001b[0m\u001b[0mcon2\u001b[0m\u001b[0;34m)\u001b[0m\u001b[0;34m\u001b[0m\u001b[0;34m\u001b[0m\u001b[0m\n\u001b[0m",
            "\u001b[0;32m/usr/local/lib/python3.7/dist-packages/pandas/io/sql.py\u001b[0m in \u001b[0;36mread_sql_query\u001b[0;34m(sql, con, index_col, coerce_float, params, parse_dates, chunksize)\u001b[0m\n\u001b[1;32m    381\u001b[0m         \u001b[0mcoerce_float\u001b[0m\u001b[0;34m=\u001b[0m\u001b[0mcoerce_float\u001b[0m\u001b[0;34m,\u001b[0m\u001b[0;34m\u001b[0m\u001b[0;34m\u001b[0m\u001b[0m\n\u001b[1;32m    382\u001b[0m         \u001b[0mparse_dates\u001b[0m\u001b[0;34m=\u001b[0m\u001b[0mparse_dates\u001b[0m\u001b[0;34m,\u001b[0m\u001b[0;34m\u001b[0m\u001b[0;34m\u001b[0m\u001b[0m\n\u001b[0;32m--> 383\u001b[0;31m         \u001b[0mchunksize\u001b[0m\u001b[0;34m=\u001b[0m\u001b[0mchunksize\u001b[0m\u001b[0;34m,\u001b[0m\u001b[0;34m\u001b[0m\u001b[0;34m\u001b[0m\u001b[0m\n\u001b[0m\u001b[1;32m    384\u001b[0m     )\n\u001b[1;32m    385\u001b[0m \u001b[0;34m\u001b[0m\u001b[0m\n",
            "\u001b[0;32m/usr/local/lib/python3.7/dist-packages/pandas/io/sql.py\u001b[0m in \u001b[0;36mread_query\u001b[0;34m(self, sql, index_col, coerce_float, params, parse_dates, chunksize)\u001b[0m\n\u001b[1;32m   1726\u001b[0m         \u001b[0margs\u001b[0m \u001b[0;34m=\u001b[0m \u001b[0m_convert_params\u001b[0m\u001b[0;34m(\u001b[0m\u001b[0msql\u001b[0m\u001b[0;34m,\u001b[0m \u001b[0mparams\u001b[0m\u001b[0;34m)\u001b[0m\u001b[0;34m\u001b[0m\u001b[0;34m\u001b[0m\u001b[0m\n\u001b[1;32m   1727\u001b[0m         \u001b[0mcursor\u001b[0m \u001b[0;34m=\u001b[0m \u001b[0mself\u001b[0m\u001b[0;34m.\u001b[0m\u001b[0mexecute\u001b[0m\u001b[0;34m(\u001b[0m\u001b[0;34m*\u001b[0m\u001b[0margs\u001b[0m\u001b[0;34m)\u001b[0m\u001b[0;34m\u001b[0m\u001b[0;34m\u001b[0m\u001b[0m\n\u001b[0;32m-> 1728\u001b[0;31m         \u001b[0mcolumns\u001b[0m \u001b[0;34m=\u001b[0m \u001b[0;34m[\u001b[0m\u001b[0mcol_desc\u001b[0m\u001b[0;34m[\u001b[0m\u001b[0;36m0\u001b[0m\u001b[0;34m]\u001b[0m \u001b[0;32mfor\u001b[0m \u001b[0mcol_desc\u001b[0m \u001b[0;32min\u001b[0m \u001b[0mcursor\u001b[0m\u001b[0;34m.\u001b[0m\u001b[0mdescription\u001b[0m\u001b[0;34m]\u001b[0m\u001b[0;34m\u001b[0m\u001b[0;34m\u001b[0m\u001b[0m\n\u001b[0m\u001b[1;32m   1729\u001b[0m \u001b[0;34m\u001b[0m\u001b[0m\n\u001b[1;32m   1730\u001b[0m         \u001b[0;32mif\u001b[0m \u001b[0mchunksize\u001b[0m \u001b[0;32mis\u001b[0m \u001b[0;32mnot\u001b[0m \u001b[0;32mNone\u001b[0m\u001b[0;34m:\u001b[0m\u001b[0;34m\u001b[0m\u001b[0;34m\u001b[0m\u001b[0m\n",
            "\u001b[0;31mTypeError\u001b[0m: 'NoneType' object is not iterable"
          ]
        }
      ]
    },
    {
      "cell_type": "code",
      "metadata": {
        "id": "Qk5ce240Pqdy",
        "colab": {
          "base_uri": "https://localhost:8080/",
          "height": 311
        },
        "outputId": "b26ecbc9-c3e0-47cc-f321-6bb0297c61fe"
      },
      "source": [
        "pd.read_sql_query('Delete FROM data where Tags IS NULL',con2)"
      ],
      "execution_count": 75,
      "outputs": [
        {
          "output_type": "error",
          "ename": "TypeError",
          "evalue": "ignored",
          "traceback": [
            "\u001b[0;31m---------------------------------------------------------------------------\u001b[0m",
            "\u001b[0;31mTypeError\u001b[0m                                 Traceback (most recent call last)",
            "\u001b[0;32m<ipython-input-75-ee585b935de2>\u001b[0m in \u001b[0;36m<module>\u001b[0;34m()\u001b[0m\n\u001b[0;32m----> 1\u001b[0;31m \u001b[0mpd\u001b[0m\u001b[0;34m.\u001b[0m\u001b[0mread_sql_query\u001b[0m\u001b[0;34m(\u001b[0m\u001b[0;34m'Delete FROM data where Tags IS NULL'\u001b[0m\u001b[0;34m,\u001b[0m\u001b[0mcon2\u001b[0m\u001b[0;34m)\u001b[0m\u001b[0;34m\u001b[0m\u001b[0;34m\u001b[0m\u001b[0m\n\u001b[0m",
            "\u001b[0;32m/usr/local/lib/python3.7/dist-packages/pandas/io/sql.py\u001b[0m in \u001b[0;36mread_sql_query\u001b[0;34m(sql, con, index_col, coerce_float, params, parse_dates, chunksize)\u001b[0m\n\u001b[1;32m    381\u001b[0m         \u001b[0mcoerce_float\u001b[0m\u001b[0;34m=\u001b[0m\u001b[0mcoerce_float\u001b[0m\u001b[0;34m,\u001b[0m\u001b[0;34m\u001b[0m\u001b[0;34m\u001b[0m\u001b[0m\n\u001b[1;32m    382\u001b[0m         \u001b[0mparse_dates\u001b[0m\u001b[0;34m=\u001b[0m\u001b[0mparse_dates\u001b[0m\u001b[0;34m,\u001b[0m\u001b[0;34m\u001b[0m\u001b[0;34m\u001b[0m\u001b[0m\n\u001b[0;32m--> 383\u001b[0;31m         \u001b[0mchunksize\u001b[0m\u001b[0;34m=\u001b[0m\u001b[0mchunksize\u001b[0m\u001b[0;34m,\u001b[0m\u001b[0;34m\u001b[0m\u001b[0;34m\u001b[0m\u001b[0m\n\u001b[0m\u001b[1;32m    384\u001b[0m     )\n\u001b[1;32m    385\u001b[0m \u001b[0;34m\u001b[0m\u001b[0m\n",
            "\u001b[0;32m/usr/local/lib/python3.7/dist-packages/pandas/io/sql.py\u001b[0m in \u001b[0;36mread_query\u001b[0;34m(self, sql, index_col, coerce_float, params, parse_dates, chunksize)\u001b[0m\n\u001b[1;32m   1726\u001b[0m         \u001b[0margs\u001b[0m \u001b[0;34m=\u001b[0m \u001b[0m_convert_params\u001b[0m\u001b[0;34m(\u001b[0m\u001b[0msql\u001b[0m\u001b[0;34m,\u001b[0m \u001b[0mparams\u001b[0m\u001b[0;34m)\u001b[0m\u001b[0;34m\u001b[0m\u001b[0;34m\u001b[0m\u001b[0m\n\u001b[1;32m   1727\u001b[0m         \u001b[0mcursor\u001b[0m \u001b[0;34m=\u001b[0m \u001b[0mself\u001b[0m\u001b[0;34m.\u001b[0m\u001b[0mexecute\u001b[0m\u001b[0;34m(\u001b[0m\u001b[0;34m*\u001b[0m\u001b[0margs\u001b[0m\u001b[0;34m)\u001b[0m\u001b[0;34m\u001b[0m\u001b[0;34m\u001b[0m\u001b[0m\n\u001b[0;32m-> 1728\u001b[0;31m         \u001b[0mcolumns\u001b[0m \u001b[0;34m=\u001b[0m \u001b[0;34m[\u001b[0m\u001b[0mcol_desc\u001b[0m\u001b[0;34m[\u001b[0m\u001b[0;36m0\u001b[0m\u001b[0;34m]\u001b[0m \u001b[0;32mfor\u001b[0m \u001b[0mcol_desc\u001b[0m \u001b[0;32min\u001b[0m \u001b[0mcursor\u001b[0m\u001b[0;34m.\u001b[0m\u001b[0mdescription\u001b[0m\u001b[0;34m]\u001b[0m\u001b[0;34m\u001b[0m\u001b[0;34m\u001b[0m\u001b[0m\n\u001b[0m\u001b[1;32m   1729\u001b[0m \u001b[0;34m\u001b[0m\u001b[0m\n\u001b[1;32m   1730\u001b[0m         \u001b[0;32mif\u001b[0m \u001b[0mchunksize\u001b[0m \u001b[0;32mis\u001b[0m \u001b[0;32mnot\u001b[0m \u001b[0;32mNone\u001b[0m\u001b[0;34m:\u001b[0m\u001b[0;34m\u001b[0m\u001b[0;34m\u001b[0m\u001b[0m\n",
            "\u001b[0;31mTypeError\u001b[0m: 'NoneType' object is not iterable"
          ]
        }
      ]
    },
    {
      "cell_type": "code",
      "metadata": {
        "id": "vDZW8whDCPa7",
        "colab": {
          "base_uri": "https://localhost:8080/",
          "height": 49
        },
        "outputId": "1929d9f1-d10c-4dac-ca50-45bafe385cee"
      },
      "source": [
        "none = pd.read_sql_query(\"Select Title,Body,Tags FROM data WHERE Tags IS NULL\",con2)\n",
        "none"
      ],
      "execution_count": 76,
      "outputs": [
        {
          "output_type": "execute_result",
          "data": {
            "text/html": [
              "<div>\n",
              "<style scoped>\n",
              "    .dataframe tbody tr th:only-of-type {\n",
              "        vertical-align: middle;\n",
              "    }\n",
              "\n",
              "    .dataframe tbody tr th {\n",
              "        vertical-align: top;\n",
              "    }\n",
              "\n",
              "    .dataframe thead th {\n",
              "        text-align: right;\n",
              "    }\n",
              "</style>\n",
              "<table border=\"1\" class=\"dataframe\">\n",
              "  <thead>\n",
              "    <tr style=\"text-align: right;\">\n",
              "      <th></th>\n",
              "      <th>Title</th>\n",
              "      <th>Body</th>\n",
              "      <th>Tags</th>\n",
              "    </tr>\n",
              "  </thead>\n",
              "  <tbody>\n",
              "  </tbody>\n",
              "</table>\n",
              "</div>"
            ],
            "text/plain": [
              "Empty DataFrame\n",
              "Columns: [Title, Body, Tags]\n",
              "Index: []"
            ]
          },
          "metadata": {
            "tags": []
          },
          "execution_count": 76
        }
      ]
    },
    {
      "cell_type": "markdown",
      "metadata": {
        "id": "ToPhBhVP1AN1"
      },
      "source": [
        "##Counting the number of rows"
      ]
    },
    {
      "cell_type": "code",
      "metadata": {
        "id": "36UNzfOswWuD",
        "colab": {
          "base_uri": "https://localhost:8080/"
        },
        "outputId": "571598e5-46a5-4e1f-fae6-e5a4c8ed87ed"
      },
      "source": [
        "num_rows = pd.read_sql_query(\"\"\"SELECT count(*) FROM data\"\"\", con)\n",
        "print(\"Number of rows in the database :\",\"\\n\",num_rows['count(*)'].values[0])"
      ],
      "execution_count": 77,
      "outputs": [
        {
          "output_type": "stream",
          "text": [
            "Number of rows in the database : \n",
            " 406401\n"
          ],
          "name": "stdout"
        }
      ]
    },
    {
      "cell_type": "markdown",
      "metadata": {
        "id": "XcCqMpkX1Nye"
      },
      "source": [
        "##Checking for duplicates"
      ]
    },
    {
      "cell_type": "code",
      "metadata": {
        "id": "LrGitRonwe5m"
      },
      "source": [
        "df_no_dup = pd.read_sql_query('SELECT Title, Body, Tags, COUNT(*) as cnt_dup FROM data GROUP BY Title, Body, Tags', con)"
      ],
      "execution_count": 78,
      "outputs": []
    },
    {
      "cell_type": "code",
      "metadata": {
        "id": "UIblUMOdz-CL",
        "colab": {
          "base_uri": "https://localhost:8080/"
        },
        "outputId": "b05439e7-894c-4175-9959-cffee5f809d9"
      },
      "source": [
        "print(\"number of duplicate questions :\", num_rows['count(*)'].values[0]- df_no_dup.shape[0], \"(\",(1-((df_no_dup.shape[0])/(num_rows['count(*)'].values[0])))*100,\"% )\")"
      ],
      "execution_count": 79,
      "outputs": [
        {
          "output_type": "stream",
          "text": [
            "number of duplicate questions : 9409 ( 2.31520099606054 % )\n"
          ],
          "name": "stdout"
        }
      ]
    },
    {
      "cell_type": "code",
      "metadata": {
        "id": "hIAJDEvBDUvV",
        "colab": {
          "base_uri": "https://localhost:8080/",
          "height": 415
        },
        "outputId": "016daf32-0ca3-4c4a-f02e-ad743337187d"
      },
      "source": [
        "pd.read_sql_query('SELECT Title, Body, Tags, COUNT(*) as cnt_dup FROM data GROUP BY Title, Body, Tags ORDER BY cnt_dup', con)"
      ],
      "execution_count": 80,
      "outputs": [
        {
          "output_type": "execute_result",
          "data": {
            "text/html": [
              "<div>\n",
              "<style scoped>\n",
              "    .dataframe tbody tr th:only-of-type {\n",
              "        vertical-align: middle;\n",
              "    }\n",
              "\n",
              "    .dataframe tbody tr th {\n",
              "        vertical-align: top;\n",
              "    }\n",
              "\n",
              "    .dataframe thead th {\n",
              "        text-align: right;\n",
              "    }\n",
              "</style>\n",
              "<table border=\"1\" class=\"dataframe\">\n",
              "  <thead>\n",
              "    <tr style=\"text-align: right;\">\n",
              "      <th></th>\n",
              "      <th>Title</th>\n",
              "      <th>Body</th>\n",
              "      <th>Tags</th>\n",
              "      <th>cnt_dup</th>\n",
              "    </tr>\n",
              "  </thead>\n",
              "  <tbody>\n",
              "    <tr>\n",
              "      <th>0</th>\n",
              "      <td>Implementing Boundary Value Analysis of S...</td>\n",
              "      <td>&lt;pre&gt;&lt;code&gt;#include&amp;lt;iostream&amp;gt;\\n#include&amp;...</td>\n",
              "      <td>c++ c</td>\n",
              "      <td>1</td>\n",
              "    </tr>\n",
              "    <tr>\n",
              "      <th>1</th>\n",
              "      <td>Dynamic Datagrid Binding in Silverlight?</td>\n",
              "      <td>&lt;p&gt;I should do binding for datagrid dynamicall...</td>\n",
              "      <td>c# silverlight data-binding</td>\n",
              "      <td>1</td>\n",
              "    </tr>\n",
              "    <tr>\n",
              "      <th>2</th>\n",
              "      <td>java.lang.NoSuchMethodError: javax.servlet.S...</td>\n",
              "      <td>&lt;p&gt;i want to have a servlet to process inputs ...</td>\n",
              "      <td>java servlets jboss</td>\n",
              "      <td>1</td>\n",
              "    </tr>\n",
              "    <tr>\n",
              "      <th>3</th>\n",
              "      <td>-2) = (1</td>\n",
              "      <td>-\\frac{3}{2}</td>\n",
              "      <td>-1)$&lt;/p&gt;</td>\n",
              "      <td>1</td>\n",
              "    </tr>\n",
              "    <tr>\n",
              "      <th>4</th>\n",
              "      <td>1)</td>\n",
              "      <td>System.Globalization.CalendarWeekRule.FirstDay</td>\n",
              "      <td>System.DayOfWeek.Sunday);</td>\n",
              "      <td>1</td>\n",
              "    </tr>\n",
              "    <tr>\n",
              "      <th>...</th>\n",
              "      <td>...</td>\n",
              "      <td>...</td>\n",
              "      <td>...</td>\n",
              "      <td>...</td>\n",
              "    </tr>\n",
              "    <tr>\n",
              "      <th>396987</th>\n",
              "      <td>maven set classes time stamp before packing th...</td>\n",
              "      <td>&lt;p&gt;I want to set the time stamp of the classes...</td>\n",
              "      <td>maven</td>\n",
              "      <td>3</td>\n",
              "    </tr>\n",
              "    <tr>\n",
              "      <th>396988</th>\n",
              "      <td>optimality of 2 in a continued fraction theorem</td>\n",
              "      <td>&lt;p&gt;I'm giving some lectures on continued fract...</td>\n",
              "      <td>number-theory continued-fractions</td>\n",
              "      <td>3</td>\n",
              "    </tr>\n",
              "    <tr>\n",
              "      <th>396989</th>\n",
              "      <td>parse url and title from string of multiple hr...</td>\n",
              "      <td>&lt;p&gt;i need to parse the url and title from mult...</td>\n",
              "      <td>regex parsing coldfusion</td>\n",
              "      <td>3</td>\n",
              "    </tr>\n",
              "    <tr>\n",
              "      <th>396990</th>\n",
              "      <td>send value location continues after 10 minute</td>\n",
              "      <td>&lt;p&gt;i want to send my location into my database...</td>\n",
              "      <td>android database latitude longitude</td>\n",
              "      <td>3</td>\n",
              "    </tr>\n",
              "    <tr>\n",
              "      <th>396991</th>\n",
              "      <td>zend validate user for a specific controller?</td>\n",
              "      <td>&lt;p&gt;HI i would like to know how to validate a u...</td>\n",
              "      <td>php zend-framework</td>\n",
              "      <td>3</td>\n",
              "    </tr>\n",
              "  </tbody>\n",
              "</table>\n",
              "<p>396992 rows × 4 columns</p>\n",
              "</div>"
            ],
            "text/plain": [
              "                                                    Title  ... cnt_dup\n",
              "0            Implementing Boundary Value Analysis of S...  ...       1\n",
              "1                Dynamic Datagrid Binding in Silverlight?  ...       1\n",
              "2         java.lang.NoSuchMethodError: javax.servlet.S...  ...       1\n",
              "3                                                -2) = (1  ...       1\n",
              "4                                                      1)  ...       1\n",
              "...                                                   ...  ...     ...\n",
              "396987  maven set classes time stamp before packing th...  ...       3\n",
              "396988    optimality of 2 in a continued fraction theorem  ...       3\n",
              "396989  parse url and title from string of multiple hr...  ...       3\n",
              "396990      send value location continues after 10 minute  ...       3\n",
              "396991      zend validate user for a specific controller?  ...       3\n",
              "\n",
              "[396992 rows x 4 columns]"
            ]
          },
          "metadata": {
            "tags": []
          },
          "execution_count": 80
        }
      ]
    },
    {
      "cell_type": "code",
      "metadata": {
        "id": "AOrx8m2O4zrT",
        "colab": {
          "base_uri": "https://localhost:8080/"
        },
        "outputId": "ae945a12-49be-421b-eb80-6759c074ac79"
      },
      "source": [
        "print(len(df_no_dup))"
      ],
      "execution_count": 81,
      "outputs": [
        {
          "output_type": "stream",
          "text": [
            "396992\n"
          ],
          "name": "stdout"
        }
      ]
    },
    {
      "cell_type": "code",
      "metadata": {
        "id": "eyg3pyu37sAO",
        "colab": {
          "base_uri": "https://localhost:8080/"
        },
        "outputId": "ff8375b9-3654-4d01-a1df-8b503be3dd4e"
      },
      "source": [
        "# number of times each question appeared in our database\n",
        "df_no_dup.cnt_dup.value_counts()"
      ],
      "execution_count": 82,
      "outputs": [
        {
          "output_type": "execute_result",
          "data": {
            "text/plain": [
              "1    387661\n",
              "2      9253\n",
              "3        78\n",
              "Name: cnt_dup, dtype: int64"
            ]
          },
          "metadata": {
            "tags": []
          },
          "execution_count": 82
        }
      ]
    },
    {
      "cell_type": "markdown",
      "metadata": {
        "id": "FmIXfn9KcdtO"
      },
      "source": [
        "## Counting number of tags in each set of question"
      ]
    },
    {
      "cell_type": "code",
      "metadata": {
        "id": "5pp0QqGZLxeT",
        "colab": {
          "base_uri": "https://localhost:8080/",
          "height": 433
        },
        "outputId": "8a53a5f9-ede1-41ae-d68b-1d948b706b7e"
      },
      "source": [
        "start = datetime.now()\n",
        "df_no_dup[\"tag_count\"] = df_no_dup[\"Tags\"].apply(lambda text: len(text.split(\" \")) if text else 0)\n",
        "# adding a new feature number of tags per question\n",
        "print(\"Time taken to run this cell :\", datetime.now() - start)\n",
        "df_no_dup"
      ],
      "execution_count": 83,
      "outputs": [
        {
          "output_type": "stream",
          "text": [
            "Time taken to run this cell : 0:00:00.290083\n"
          ],
          "name": "stdout"
        },
        {
          "output_type": "execute_result",
          "data": {
            "text/html": [
              "<div>\n",
              "<style scoped>\n",
              "    .dataframe tbody tr th:only-of-type {\n",
              "        vertical-align: middle;\n",
              "    }\n",
              "\n",
              "    .dataframe tbody tr th {\n",
              "        vertical-align: top;\n",
              "    }\n",
              "\n",
              "    .dataframe thead th {\n",
              "        text-align: right;\n",
              "    }\n",
              "</style>\n",
              "<table border=\"1\" class=\"dataframe\">\n",
              "  <thead>\n",
              "    <tr style=\"text-align: right;\">\n",
              "      <th></th>\n",
              "      <th>Title</th>\n",
              "      <th>Body</th>\n",
              "      <th>Tags</th>\n",
              "      <th>cnt_dup</th>\n",
              "      <th>tag_count</th>\n",
              "    </tr>\n",
              "  </thead>\n",
              "  <tbody>\n",
              "    <tr>\n",
              "      <th>0</th>\n",
              "      <td>Implementing Boundary Value Analysis of S...</td>\n",
              "      <td>&lt;pre&gt;&lt;code&gt;#include&amp;lt;iostream&amp;gt;\\n#include&amp;...</td>\n",
              "      <td>c++ c</td>\n",
              "      <td>1</td>\n",
              "      <td>2</td>\n",
              "    </tr>\n",
              "    <tr>\n",
              "      <th>1</th>\n",
              "      <td>Dynamic Datagrid Binding in Silverlight?</td>\n",
              "      <td>&lt;p&gt;I should do binding for datagrid dynamicall...</td>\n",
              "      <td>c# silverlight data-binding</td>\n",
              "      <td>1</td>\n",
              "      <td>3</td>\n",
              "    </tr>\n",
              "    <tr>\n",
              "      <th>2</th>\n",
              "      <td>java.lang.NoSuchMethodError: javax.servlet.S...</td>\n",
              "      <td>&lt;p&gt;i want to have a servlet to process inputs ...</td>\n",
              "      <td>java servlets jboss</td>\n",
              "      <td>1</td>\n",
              "      <td>3</td>\n",
              "    </tr>\n",
              "    <tr>\n",
              "      <th>3</th>\n",
              "      <td>-2) = (1</td>\n",
              "      <td>-\\frac{3}{2}</td>\n",
              "      <td>-1)$&lt;/p&gt;</td>\n",
              "      <td>1</td>\n",
              "      <td>2</td>\n",
              "    </tr>\n",
              "    <tr>\n",
              "      <th>4</th>\n",
              "      <td>1)</td>\n",
              "      <td>System.Globalization.CalendarWeekRule.FirstDay</td>\n",
              "      <td>System.DayOfWeek.Sunday);</td>\n",
              "      <td>1</td>\n",
              "      <td>2</td>\n",
              "    </tr>\n",
              "    <tr>\n",
              "      <th>...</th>\n",
              "      <td>...</td>\n",
              "      <td>...</td>\n",
              "      <td>...</td>\n",
              "      <td>...</td>\n",
              "      <td>...</td>\n",
              "    </tr>\n",
              "    <tr>\n",
              "      <th>396987</th>\n",
              "      <td>“error: no such device” at boot in Ubuntu Serv...</td>\n",
              "      <td>&lt;p&gt;I have a configuration of 4 HDD's as Raid1 ...</td>\n",
              "      <td>server ubuntu-11.10 raid-1</td>\n",
              "      <td>1</td>\n",
              "      <td>3</td>\n",
              "    </tr>\n",
              "    <tr>\n",
              "      <th>396988</th>\n",
              "      <td>“git did not exit cleanly (exit code 128)” err...</td>\n",
              "      <td>&lt;p&gt;I am getting this error on my windows machi...</td>\n",
              "      <td>git tortoisegit git-bash</td>\n",
              "      <td>1</td>\n",
              "      <td>3</td>\n",
              "    </tr>\n",
              "    <tr>\n",
              "      <th>396989</th>\n",
              "      <td>“iTunes.app” incoming network connections?</td>\n",
              "      <td>&lt;p&gt;I am experiencing the same issue mentioned ...</td>\n",
              "      <td>itunes osx-lion</td>\n",
              "      <td>1</td>\n",
              "      <td>2</td>\n",
              "    </tr>\n",
              "    <tr>\n",
              "      <th>396990</th>\n",
              "      <td>“make &amp; make install” software on Linux</td>\n",
              "      <td>&lt;p&gt;I have worked on Linux for a year. One thin...</td>\n",
              "      <td>linux make</td>\n",
              "      <td>1</td>\n",
              "      <td>2</td>\n",
              "    </tr>\n",
              "    <tr>\n",
              "      <th>396991</th>\n",
              "      <td>“zero placeholder” for working counter as3</td>\n",
              "      <td>&lt;p&gt;&lt;strong&gt;How do make a zero placeholder for ...</td>\n",
              "      <td>flash actionscript-3</td>\n",
              "      <td>1</td>\n",
              "      <td>2</td>\n",
              "    </tr>\n",
              "  </tbody>\n",
              "</table>\n",
              "<p>396992 rows × 5 columns</p>\n",
              "</div>"
            ],
            "text/plain": [
              "                                                    Title  ... tag_count\n",
              "0            Implementing Boundary Value Analysis of S...  ...         2\n",
              "1                Dynamic Datagrid Binding in Silverlight?  ...         3\n",
              "2         java.lang.NoSuchMethodError: javax.servlet.S...  ...         3\n",
              "3                                                -2) = (1  ...         2\n",
              "4                                                      1)  ...         2\n",
              "...                                                   ...  ...       ...\n",
              "396987  “error: no such device” at boot in Ubuntu Serv...  ...         3\n",
              "396988  “git did not exit cleanly (exit code 128)” err...  ...         3\n",
              "396989         “iTunes.app” incoming network connections?  ...         2\n",
              "396990            “make & make install” software on Linux  ...         2\n",
              "396991         “zero placeholder” for working counter as3  ...         2\n",
              "\n",
              "[396992 rows x 5 columns]"
            ]
          },
          "metadata": {
            "tags": []
          },
          "execution_count": 83
        }
      ]
    },
    {
      "cell_type": "code",
      "metadata": {
        "id": "GbQn01zO_9EJ",
        "colab": {
          "base_uri": "https://localhost:8080/"
        },
        "outputId": "8e5a0210-bbde-4b0c-c66d-2763a10a1214"
      },
      "source": [
        "# distribution of number of tags per question\n",
        "tag_count = df_no_dup.tag_count.value_counts()\n",
        "tag_count"
      ],
      "execution_count": 84,
      "outputs": [
        {
          "output_type": "execute_result",
          "data": {
            "text/plain": [
              "3     113343\n",
              "2     105896\n",
              "4      76244\n",
              "1      54661\n",
              "5      46837\n",
              "17         2\n",
              "11         2\n",
              "10         2\n",
              "19         1\n",
              "16         1\n",
              "14         1\n",
              "8          1\n",
              "6          1\n",
              "Name: tag_count, dtype: int64"
            ]
          },
          "metadata": {
            "tags": []
          },
          "execution_count": 84
        }
      ]
    },
    {
      "cell_type": "code",
      "metadata": {
        "colab": {
          "base_uri": "https://localhost:8080/",
          "height": 283
        },
        "id": "LE9XGmRxiwNX",
        "outputId": "ecc3b805-c21f-4071-ed71-5e133a6d3162"
      },
      "source": [
        "plt.bar(tag_count.keys(),tag_count)"
      ],
      "execution_count": 86,
      "outputs": [
        {
          "output_type": "execute_result",
          "data": {
            "text/plain": [
              "<BarContainer object of 13 artists>"
            ]
          },
          "metadata": {
            "tags": []
          },
          "execution_count": 86
        },
        {
          "output_type": "display_data",
          "data": {
            "image/png": "[encoded data removed]",
            "text/plain": [
              "<Figure size 432x288 with 1 Axes>"
            ]
          },
          "metadata": {
            "tags": [],
            "needs_background": "light"
          }
        }
      ]
    },
    {
      "cell_type": "markdown",
      "metadata": {
        "id": "iyPxEm1Oa1jA"
      },
      "source": [
        "### As stackoverflow only allows maximum 5 tags per question, we need to delete the incorrect question data where number of tags > 5"
      ]
    },
    {
      "cell_type": "code",
      "metadata": {
        "id": "foRs8C8lbSO-"
      },
      "source": [
        "df_no_dup.drop(df_no_dup[df_no_dup['tag_count'] > 5].index, inplace = True)"
      ],
      "execution_count": 87,
      "outputs": []
    },
    {
      "cell_type": "code",
      "metadata": {
        "colab": {
          "base_uri": "https://localhost:8080/",
          "height": 415
        },
        "id": "0Lzy5F-YbjR3",
        "outputId": "dd8fa46a-f41a-4271-ef73-29a7d81fd00c"
      },
      "source": [
        "df_no_dup"
      ],
      "execution_count": 88,
      "outputs": [
        {
          "output_type": "execute_result",
          "data": {
            "text/html": [
              "<div>\n",
              "<style scoped>\n",
              "    .dataframe tbody tr th:only-of-type {\n",
              "        vertical-align: middle;\n",
              "    }\n",
              "\n",
              "    .dataframe tbody tr th {\n",
              "        vertical-align: top;\n",
              "    }\n",
              "\n",
              "    .dataframe thead th {\n",
              "        text-align: right;\n",
              "    }\n",
              "</style>\n",
              "<table border=\"1\" class=\"dataframe\">\n",
              "  <thead>\n",
              "    <tr style=\"text-align: right;\">\n",
              "      <th></th>\n",
              "      <th>Title</th>\n",
              "      <th>Body</th>\n",
              "      <th>Tags</th>\n",
              "      <th>cnt_dup</th>\n",
              "      <th>tag_count</th>\n",
              "    </tr>\n",
              "  </thead>\n",
              "  <tbody>\n",
              "    <tr>\n",
              "      <th>0</th>\n",
              "      <td>Implementing Boundary Value Analysis of S...</td>\n",
              "      <td>&lt;pre&gt;&lt;code&gt;#include&amp;lt;iostream&amp;gt;\\n#include&amp;...</td>\n",
              "      <td>c++ c</td>\n",
              "      <td>1</td>\n",
              "      <td>2</td>\n",
              "    </tr>\n",
              "    <tr>\n",
              "      <th>1</th>\n",
              "      <td>Dynamic Datagrid Binding in Silverlight?</td>\n",
              "      <td>&lt;p&gt;I should do binding for datagrid dynamicall...</td>\n",
              "      <td>c# silverlight data-binding</td>\n",
              "      <td>1</td>\n",
              "      <td>3</td>\n",
              "    </tr>\n",
              "    <tr>\n",
              "      <th>2</th>\n",
              "      <td>java.lang.NoSuchMethodError: javax.servlet.S...</td>\n",
              "      <td>&lt;p&gt;i want to have a servlet to process inputs ...</td>\n",
              "      <td>java servlets jboss</td>\n",
              "      <td>1</td>\n",
              "      <td>3</td>\n",
              "    </tr>\n",
              "    <tr>\n",
              "      <th>3</th>\n",
              "      <td>-2) = (1</td>\n",
              "      <td>-\\frac{3}{2}</td>\n",
              "      <td>-1)$&lt;/p&gt;</td>\n",
              "      <td>1</td>\n",
              "      <td>2</td>\n",
              "    </tr>\n",
              "    <tr>\n",
              "      <th>4</th>\n",
              "      <td>1)</td>\n",
              "      <td>System.Globalization.CalendarWeekRule.FirstDay</td>\n",
              "      <td>System.DayOfWeek.Sunday);</td>\n",
              "      <td>1</td>\n",
              "      <td>2</td>\n",
              "    </tr>\n",
              "    <tr>\n",
              "      <th>...</th>\n",
              "      <td>...</td>\n",
              "      <td>...</td>\n",
              "      <td>...</td>\n",
              "      <td>...</td>\n",
              "      <td>...</td>\n",
              "    </tr>\n",
              "    <tr>\n",
              "      <th>396987</th>\n",
              "      <td>“error: no such device” at boot in Ubuntu Serv...</td>\n",
              "      <td>&lt;p&gt;I have a configuration of 4 HDD's as Raid1 ...</td>\n",
              "      <td>server ubuntu-11.10 raid-1</td>\n",
              "      <td>1</td>\n",
              "      <td>3</td>\n",
              "    </tr>\n",
              "    <tr>\n",
              "      <th>396988</th>\n",
              "      <td>“git did not exit cleanly (exit code 128)” err...</td>\n",
              "      <td>&lt;p&gt;I am getting this error on my windows machi...</td>\n",
              "      <td>git tortoisegit git-bash</td>\n",
              "      <td>1</td>\n",
              "      <td>3</td>\n",
              "    </tr>\n",
              "    <tr>\n",
              "      <th>396989</th>\n",
              "      <td>“iTunes.app” incoming network connections?</td>\n",
              "      <td>&lt;p&gt;I am experiencing the same issue mentioned ...</td>\n",
              "      <td>itunes osx-lion</td>\n",
              "      <td>1</td>\n",
              "      <td>2</td>\n",
              "    </tr>\n",
              "    <tr>\n",
              "      <th>396990</th>\n",
              "      <td>“make &amp; make install” software on Linux</td>\n",
              "      <td>&lt;p&gt;I have worked on Linux for a year. One thin...</td>\n",
              "      <td>linux make</td>\n",
              "      <td>1</td>\n",
              "      <td>2</td>\n",
              "    </tr>\n",
              "    <tr>\n",
              "      <th>396991</th>\n",
              "      <td>“zero placeholder” for working counter as3</td>\n",
              "      <td>&lt;p&gt;&lt;strong&gt;How do make a zero placeholder for ...</td>\n",
              "      <td>flash actionscript-3</td>\n",
              "      <td>1</td>\n",
              "      <td>2</td>\n",
              "    </tr>\n",
              "  </tbody>\n",
              "</table>\n",
              "<p>396981 rows × 5 columns</p>\n",
              "</div>"
            ],
            "text/plain": [
              "                                                    Title  ... tag_count\n",
              "0            Implementing Boundary Value Analysis of S...  ...         2\n",
              "1                Dynamic Datagrid Binding in Silverlight?  ...         3\n",
              "2         java.lang.NoSuchMethodError: javax.servlet.S...  ...         3\n",
              "3                                                -2) = (1  ...         2\n",
              "4                                                      1)  ...         2\n",
              "...                                                   ...  ...       ...\n",
              "396987  “error: no such device” at boot in Ubuntu Serv...  ...         3\n",
              "396988  “git did not exit cleanly (exit code 128)” err...  ...         3\n",
              "396989         “iTunes.app” incoming network connections?  ...         2\n",
              "396990            “make & make install” software on Linux  ...         2\n",
              "396991         “zero placeholder” for working counter as3  ...         2\n",
              "\n",
              "[396981 rows x 5 columns]"
            ]
          },
          "metadata": {
            "tags": []
          },
          "execution_count": 88
        }
      ]
    },
    {
      "cell_type": "code",
      "metadata": {
        "colab": {
          "base_uri": "https://localhost:8080/"
        },
        "id": "hpngB2kgdPyV",
        "outputId": "9c35891f-c153-4b9e-8fed-3a9cecab4692"
      },
      "source": [
        "tag_count = df_no_dup.tag_count.value_counts()\n",
        "tag_count"
      ],
      "execution_count": 90,
      "outputs": [
        {
          "output_type": "execute_result",
          "data": {
            "text/plain": [
              "3    113343\n",
              "2    105896\n",
              "4     76244\n",
              "1     54661\n",
              "5     46837\n",
              "Name: tag_count, dtype: int64"
            ]
          },
          "metadata": {
            "tags": []
          },
          "execution_count": 90
        }
      ]
    },
    {
      "cell_type": "code",
      "metadata": {
        "id": "QTGN22cQbqMV"
      },
      "source": [
        "#Creating a new database with no duplicates\n",
        "if not os.path.isfile('train_no_dup1.db'):\n",
        "    disk_dup = create_engine(\"sqlite:///train_no_dup1.db\")\n",
        "    no_dup = pd.DataFrame(df_no_dup, columns=['Title', 'Body', 'Tags'])\n",
        "    no_dup.to_sql('data',disk_dup)"
      ],
      "execution_count": 89,
      "outputs": []
    },
    {
      "cell_type": "markdown",
      "metadata": {
        "id": "R9YLS6b4kYUv"
      },
      "source": [
        "## Analyzing tags"
      ]
    },
    {
      "cell_type": "code",
      "metadata": {
        "id": "46xQZ4TyfJYG",
        "colab": {
          "base_uri": "https://localhost:8080/",
          "height": 415
        },
        "outputId": "a8a8a5ca-e2da-40e5-ab12-59e32247eac7"
      },
      "source": [
        "pd.read_sql_query(\"Select * FROM no_dup_train\",con3)"
      ],
      "execution_count": 91,
      "outputs": [
        {
          "output_type": "execute_result",
          "data": {
            "text/html": [
              "<div>\n",
              "<style scoped>\n",
              "    .dataframe tbody tr th:only-of-type {\n",
              "        vertical-align: middle;\n",
              "    }\n",
              "\n",
              "    .dataframe tbody tr th {\n",
              "        vertical-align: top;\n",
              "    }\n",
              "\n",
              "    .dataframe thead th {\n",
              "        text-align: right;\n",
              "    }\n",
              "</style>\n",
              "<table border=\"1\" class=\"dataframe\">\n",
              "  <thead>\n",
              "    <tr style=\"text-align: right;\">\n",
              "      <th></th>\n",
              "      <th>index</th>\n",
              "      <th>Title</th>\n",
              "      <th>Body</th>\n",
              "      <th>Tags</th>\n",
              "    </tr>\n",
              "  </thead>\n",
              "  <tbody>\n",
              "    <tr>\n",
              "      <th>0</th>\n",
              "      <td>0</td>\n",
              "      <td>Implementing Boundary Value Analysis of S...</td>\n",
              "      <td>&lt;pre&gt;&lt;code&gt;#include&amp;lt;iostream&amp;gt;\\n#include&amp;...</td>\n",
              "      <td>c++ c</td>\n",
              "    </tr>\n",
              "    <tr>\n",
              "      <th>1</th>\n",
              "      <td>1</td>\n",
              "      <td>Dynamic Datagrid Binding in Silverlight?</td>\n",
              "      <td>&lt;p&gt;I should do binding for datagrid dynamicall...</td>\n",
              "      <td>c# silverlight data-binding</td>\n",
              "    </tr>\n",
              "    <tr>\n",
              "      <th>2</th>\n",
              "      <td>2</td>\n",
              "      <td>java.lang.NoSuchMethodError: javax.servlet.S...</td>\n",
              "      <td>&lt;p&gt;i want to have a servlet to process inputs ...</td>\n",
              "      <td>java servlets jboss</td>\n",
              "    </tr>\n",
              "    <tr>\n",
              "      <th>3</th>\n",
              "      <td>3</td>\n",
              "      <td>-2) = (1</td>\n",
              "      <td>-\\frac{3}{2}</td>\n",
              "      <td>-1)$&lt;/p&gt;</td>\n",
              "    </tr>\n",
              "    <tr>\n",
              "      <th>4</th>\n",
              "      <td>4</td>\n",
              "      <td>1)</td>\n",
              "      <td>System.Globalization.CalendarWeekRule.FirstDay</td>\n",
              "      <td>System.DayOfWeek.Sunday);</td>\n",
              "    </tr>\n",
              "    <tr>\n",
              "      <th>...</th>\n",
              "      <td>...</td>\n",
              "      <td>...</td>\n",
              "      <td>...</td>\n",
              "      <td>...</td>\n",
              "    </tr>\n",
              "    <tr>\n",
              "      <th>396976</th>\n",
              "      <td>396987</td>\n",
              "      <td>“error: no such device” at boot in Ubuntu Serv...</td>\n",
              "      <td>&lt;p&gt;I have a configuration of 4 HDD's as Raid1 ...</td>\n",
              "      <td>server ubuntu-11.10 raid-1</td>\n",
              "    </tr>\n",
              "    <tr>\n",
              "      <th>396977</th>\n",
              "      <td>396988</td>\n",
              "      <td>“git did not exit cleanly (exit code 128)” err...</td>\n",
              "      <td>&lt;p&gt;I am getting this error on my windows machi...</td>\n",
              "      <td>git tortoisegit git-bash</td>\n",
              "    </tr>\n",
              "    <tr>\n",
              "      <th>396978</th>\n",
              "      <td>396989</td>\n",
              "      <td>“iTunes.app” incoming network connections?</td>\n",
              "      <td>&lt;p&gt;I am experiencing the same issue mentioned ...</td>\n",
              "      <td>itunes osx-lion</td>\n",
              "    </tr>\n",
              "    <tr>\n",
              "      <th>396979</th>\n",
              "      <td>396990</td>\n",
              "      <td>“make &amp; make install” software on Linux</td>\n",
              "      <td>&lt;p&gt;I have worked on Linux for a year. One thin...</td>\n",
              "      <td>linux make</td>\n",
              "    </tr>\n",
              "    <tr>\n",
              "      <th>396980</th>\n",
              "      <td>396991</td>\n",
              "      <td>“zero placeholder” for working counter as3</td>\n",
              "      <td>&lt;p&gt;&lt;strong&gt;How do make a zero placeholder for ...</td>\n",
              "      <td>flash actionscript-3</td>\n",
              "    </tr>\n",
              "  </tbody>\n",
              "</table>\n",
              "<p>396981 rows × 4 columns</p>\n",
              "</div>"
            ],
            "text/plain": [
              "         index  ...                         Tags\n",
              "0            0  ...                        c++ c\n",
              "1            1  ...  c# silverlight data-binding\n",
              "2            2  ...          java servlets jboss\n",
              "3            3  ...                     -1)$</p>\n",
              "4            4  ...    System.DayOfWeek.Sunday);\n",
              "...        ...  ...                          ...\n",
              "396976  396987  ...   server ubuntu-11.10 raid-1\n",
              "396977  396988  ...     git tortoisegit git-bash\n",
              "396978  396989  ...              itunes osx-lion\n",
              "396979  396990  ...                   linux make\n",
              "396980  396991  ...         flash actionscript-3\n",
              "\n",
              "[396981 rows x 4 columns]"
            ]
          },
          "metadata": {
            "tags": []
          },
          "execution_count": 91
        }
      ]
    },
    {
      "cell_type": "code",
      "metadata": {
        "id": "9ikaYkvJJvZd",
        "colab": {
          "base_uri": "https://localhost:8080/",
          "height": 415
        },
        "outputId": "f8a9977e-393e-4f83-a252-2d524632599d"
      },
      "source": [
        "start = datetime.now()\n",
        "tag_data = pd.read_sql_query(\"\"\"SELECT Tags FROM no_dup_train\"\"\", con3)\n",
        "#Always remember to close the database\n",
        "# Let's now drop unwanted column.\n",
        "tag_data.drop(tag_data.index[0], inplace=True)\n",
        "#Printing first 5 columns from our data frame\n",
        "tag_data\n"
      ],
      "execution_count": 93,
      "outputs": [
        {
          "output_type": "execute_result",
          "data": {
            "text/html": [
              "<div>\n",
              "<style scoped>\n",
              "    .dataframe tbody tr th:only-of-type {\n",
              "        vertical-align: middle;\n",
              "    }\n",
              "\n",
              "    .dataframe tbody tr th {\n",
              "        vertical-align: top;\n",
              "    }\n",
              "\n",
              "    .dataframe thead th {\n",
              "        text-align: right;\n",
              "    }\n",
              "</style>\n",
              "<table border=\"1\" class=\"dataframe\">\n",
              "  <thead>\n",
              "    <tr style=\"text-align: right;\">\n",
              "      <th></th>\n",
              "      <th>Tags</th>\n",
              "    </tr>\n",
              "  </thead>\n",
              "  <tbody>\n",
              "    <tr>\n",
              "      <th>1</th>\n",
              "      <td>c# silverlight data-binding</td>\n",
              "    </tr>\n",
              "    <tr>\n",
              "      <th>2</th>\n",
              "      <td>java servlets jboss</td>\n",
              "    </tr>\n",
              "    <tr>\n",
              "      <th>3</th>\n",
              "      <td>-1)$&lt;/p&gt;</td>\n",
              "    </tr>\n",
              "    <tr>\n",
              "      <th>4</th>\n",
              "      <td>System.DayOfWeek.Sunday);</td>\n",
              "    </tr>\n",
              "    <tr>\n",
              "      <th>5</th>\n",
              "      <td>0)$</td>\n",
              "    </tr>\n",
              "    <tr>\n",
              "      <th>...</th>\n",
              "      <td>...</td>\n",
              "    </tr>\n",
              "    <tr>\n",
              "      <th>396976</th>\n",
              "      <td>server ubuntu-11.10 raid-1</td>\n",
              "    </tr>\n",
              "    <tr>\n",
              "      <th>396977</th>\n",
              "      <td>git tortoisegit git-bash</td>\n",
              "    </tr>\n",
              "    <tr>\n",
              "      <th>396978</th>\n",
              "      <td>itunes osx-lion</td>\n",
              "    </tr>\n",
              "    <tr>\n",
              "      <th>396979</th>\n",
              "      <td>linux make</td>\n",
              "    </tr>\n",
              "    <tr>\n",
              "      <th>396980</th>\n",
              "      <td>flash actionscript-3</td>\n",
              "    </tr>\n",
              "  </tbody>\n",
              "</table>\n",
              "<p>396980 rows × 1 columns</p>\n",
              "</div>"
            ],
            "text/plain": [
              "                               Tags\n",
              "1       c# silverlight data-binding\n",
              "2               java servlets jboss\n",
              "3                          -1)$</p>\n",
              "4         System.DayOfWeek.Sunday);\n",
              "5                               0)$\n",
              "...                             ...\n",
              "396976   server ubuntu-11.10 raid-1\n",
              "396977     git tortoisegit git-bash\n",
              "396978              itunes osx-lion\n",
              "396979                   linux make\n",
              "396980         flash actionscript-3\n",
              "\n",
              "[396980 rows x 1 columns]"
            ]
          },
          "metadata": {
            "tags": []
          },
          "execution_count": 93
        }
      ]
    },
    {
      "cell_type": "markdown",
      "metadata": {
        "id": "y3WnFVW2kcX9"
      },
      "source": [
        "### Counting number of unique tags"
      ]
    },
    {
      "cell_type": "code",
      "metadata": {
        "id": "1U-tTzPx01yR"
      },
      "source": [
        "# Importing & Initializing the \"CountVectorizer\" object, which \n",
        "#is scikit-learn's bag of words tool.\n",
        "\n",
        "#by default 'split()' will tokenize each tag using space.\n",
        "vectorizer = CountVectorizer(tokenizer = lambda x: x.split())\n",
        "# fit_transform() does two functions: First, it fits the model\n",
        "# and learns the vocabulary; second, it transforms our training data\n",
        "# into feature vectors. The input to fit_transform should be a list of strings.\n",
        "tag_dtm = vectorizer.fit_transform(tag_data['Tags'])\n"
      ],
      "execution_count": 95,
      "outputs": []
    },
    {
      "cell_type": "code",
      "metadata": {
        "id": "uy9uMARB1GAD",
        "colab": {
          "base_uri": "https://localhost:8080/"
        },
        "outputId": "38ab87db-de73-4a14-ad45-c6c0df8f4054"
      },
      "source": [
        "print(\"Number of data points :\", tag_dtm.shape[0])\n",
        "print(\"Number of unique tags :\", tag_dtm.shape[1])"
      ],
      "execution_count": 96,
      "outputs": [
        {
          "output_type": "stream",
          "text": [
            "Number of data points : 396980\n",
            "Number of unique tags : 28933\n"
          ],
          "name": "stdout"
        }
      ]
    },
    {
      "cell_type": "markdown",
      "metadata": {
        "id": "aYEkbNJ1khAn"
      },
      "source": [
        "Out of all 396983 entries, there are total 28986 unique tags"
      ]
    },
    {
      "cell_type": "code",
      "metadata": {
        "colab": {
          "base_uri": "https://localhost:8080/"
        },
        "id": "AvRYDNRCj28X",
        "outputId": "eb33dda2-046b-4874-cf25-d3b331d2905d"
      },
      "source": [
        "#'get_feature_name()' gives us the vocabulary.\n",
        "tags = vectorizer.get_feature_names()\n",
        "#Lets look at the tags we have.\n",
        "print(\"Some of the tags we have :\", tags[:20])"
      ],
      "execution_count": 97,
      "outputs": [
        {
          "output_type": "stream",
          "text": [
            "Some of the tags we have : ['-1)$</p>', '.a', '.app', '.aspxauth', '.bash-profile', '.class-file', '.cs-file', '.doc', '.each', '.emf', '.exe', '.htaccess', '.htpasswd', '.ico', '.lib', '.net', '.net-1.0', '.net-1.1', '.net-2.0', '.net-3.0']\n"
          ],
          "name": "stdout"
        }
      ]
    },
    {
      "cell_type": "markdown",
      "metadata": {
        "id": "dqsxLgr9k7K0"
      },
      "source": [
        "## Number of times a tag appeared"
      ]
    },
    {
      "cell_type": "code",
      "metadata": {
        "id": "d5_qGE99k3Tq"
      },
      "source": [
        "#Lets now store the document term matrix in a dictionary.\n",
        "freqs = tag_dtm.sum(axis=0).A1\n",
        "result = dict(zip(tags, freqs))"
      ],
      "execution_count": 98,
      "outputs": []
    },
    {
      "cell_type": "markdown",
      "metadata": {
        "id": "TquAb5NXNWN2"
      },
      "source": [
        "### Dictionary containing tag name and count pair\n"
      ]
    },
    {
      "cell_type": "code",
      "metadata": {
        "colab": {
          "base_uri": "https://localhost:8080/",
          "height": 415
        },
        "id": "ss9iZnK6MnlB",
        "outputId": "76839827-2338-4d1b-c29b-9b1d2821b74a"
      },
      "source": [
        "#Saving this dictionary to csv files.\n",
        "if not os.path.isfile('tag_counts_dict_dtm.csv'):\n",
        "    with open('tag_counts_dict_dtm.csv', 'w') as csv_file:\n",
        "        writer = csv.writer(csv_file)\n",
        "        for key, value in result.items():\n",
        "            writer.writerow([key, value])\n",
        "tag_df = pd.read_csv(\"tag_counts_dict_dtm.csv\", names=['Tags', 'Counts'])\n",
        "tag_df"
      ],
      "execution_count": 99,
      "outputs": [
        {
          "output_type": "execute_result",
          "data": {
            "text/html": [
              "<div>\n",
              "<style scoped>\n",
              "    .dataframe tbody tr th:only-of-type {\n",
              "        vertical-align: middle;\n",
              "    }\n",
              "\n",
              "    .dataframe tbody tr th {\n",
              "        vertical-align: top;\n",
              "    }\n",
              "\n",
              "    .dataframe thead th {\n",
              "        text-align: right;\n",
              "    }\n",
              "</style>\n",
              "<table border=\"1\" class=\"dataframe\">\n",
              "  <thead>\n",
              "    <tr style=\"text-align: right;\">\n",
              "      <th></th>\n",
              "      <th>Tags</th>\n",
              "      <th>Counts</th>\n",
              "    </tr>\n",
              "  </thead>\n",
              "  <tbody>\n",
              "    <tr>\n",
              "      <th>0</th>\n",
              "      <td>.a</td>\n",
              "      <td>1</td>\n",
              "    </tr>\n",
              "    <tr>\n",
              "      <th>1</th>\n",
              "      <td>.app</td>\n",
              "      <td>3</td>\n",
              "    </tr>\n",
              "    <tr>\n",
              "      <th>2</th>\n",
              "      <td>.aspxauth</td>\n",
              "      <td>2</td>\n",
              "    </tr>\n",
              "    <tr>\n",
              "      <th>3</th>\n",
              "      <td>.bash-profile</td>\n",
              "      <td>10</td>\n",
              "    </tr>\n",
              "    <tr>\n",
              "      <th>4</th>\n",
              "      <td>.class-file</td>\n",
              "      <td>4</td>\n",
              "    </tr>\n",
              "    <tr>\n",
              "      <th>...</th>\n",
              "      <td>...</td>\n",
              "      <td>...</td>\n",
              "    </tr>\n",
              "    <tr>\n",
              "      <th>28981</th>\n",
              "      <td>zxing</td>\n",
              "      <td>56</td>\n",
              "    </tr>\n",
              "    <tr>\n",
              "      <th>28982</th>\n",
              "      <td>zypper</td>\n",
              "      <td>1</td>\n",
              "    </tr>\n",
              "    <tr>\n",
              "      <th>28983</th>\n",
              "      <td>zywall</td>\n",
              "      <td>1</td>\n",
              "    </tr>\n",
              "    <tr>\n",
              "      <th>28984</th>\n",
              "      <td>zyxel</td>\n",
              "      <td>3</td>\n",
              "    </tr>\n",
              "    <tr>\n",
              "      <th>28985</th>\n",
              "      <td>zzt-oop</td>\n",
              "      <td>1</td>\n",
              "    </tr>\n",
              "  </tbody>\n",
              "</table>\n",
              "<p>28986 rows × 2 columns</p>\n",
              "</div>"
            ],
            "text/plain": [
              "                Tags  Counts\n",
              "0                 .a       1\n",
              "1               .app       3\n",
              "2          .aspxauth       2\n",
              "3      .bash-profile      10\n",
              "4        .class-file       4\n",
              "...              ...     ...\n",
              "28981          zxing      56\n",
              "28982         zypper       1\n",
              "28983         zywall       1\n",
              "28984          zyxel       3\n",
              "28985        zzt-oop       1\n",
              "\n",
              "[28986 rows x 2 columns]"
            ]
          },
          "metadata": {
            "tags": []
          },
          "execution_count": 99
        }
      ]
    },
    {
      "cell_type": "code",
      "metadata": {
        "colab": {
          "base_uri": "https://localhost:8080/"
        },
        "id": "uV-4NxWXMy9U",
        "outputId": "98711248-2cf7-411f-fe64-88ef21668566"
      },
      "source": [
        "tag_df_sorted = tag_df.sort_values(['Counts'], ascending=False)\n",
        "tag_counts = tag_df_sorted['Counts'].values\n",
        "tag_counts"
      ],
      "execution_count": 100,
      "outputs": [
        {
          "output_type": "execute_result",
          "data": {
            "text/plain": [
              "array([30554, 27166, 26019, ...,     1,     1,     1])"
            ]
          },
          "metadata": {
            "tags": []
          },
          "execution_count": 100
        }
      ]
    },
    {
      "cell_type": "code",
      "metadata": {
        "colab": {
          "base_uri": "https://localhost:8080/",
          "height": 415
        },
        "id": "W23uGcZ0NNze",
        "outputId": "fb8d978a-6f4a-4495-db89-5433ff53da92"
      },
      "source": [
        "tag_df_sorted"
      ],
      "execution_count": 101,
      "outputs": [
        {
          "output_type": "execute_result",
          "data": {
            "text/html": [
              "<div>\n",
              "<style scoped>\n",
              "    .dataframe tbody tr th:only-of-type {\n",
              "        vertical-align: middle;\n",
              "    }\n",
              "\n",
              "    .dataframe tbody tr th {\n",
              "        vertical-align: top;\n",
              "    }\n",
              "\n",
              "    .dataframe thead th {\n",
              "        text-align: right;\n",
              "    }\n",
              "</style>\n",
              "<table border=\"1\" class=\"dataframe\">\n",
              "  <thead>\n",
              "    <tr style=\"text-align: right;\">\n",
              "      <th></th>\n",
              "      <th>Tags</th>\n",
              "      <th>Counts</th>\n",
              "    </tr>\n",
              "  </thead>\n",
              "  <tbody>\n",
              "    <tr>\n",
              "      <th>3071</th>\n",
              "      <td>c#</td>\n",
              "      <td>30554</td>\n",
              "    </tr>\n",
              "    <tr>\n",
              "      <th>12561</th>\n",
              "      <td>java</td>\n",
              "      <td>27166</td>\n",
              "    </tr>\n",
              "    <tr>\n",
              "      <th>18762</th>\n",
              "      <td>php</td>\n",
              "      <td>26019</td>\n",
              "    </tr>\n",
              "    <tr>\n",
              "      <th>12629</th>\n",
              "      <td>javascript</td>\n",
              "      <td>24292</td>\n",
              "    </tr>\n",
              "    <tr>\n",
              "      <th>875</th>\n",
              "      <td>android</td>\n",
              "      <td>21218</td>\n",
              "    </tr>\n",
              "    <tr>\n",
              "      <th>...</th>\n",
              "      <td>...</td>\n",
              "      <td>...</td>\n",
              "    </tr>\n",
              "    <tr>\n",
              "      <th>15431</th>\n",
              "      <td>mixed-authentication</td>\n",
              "      <td>1</td>\n",
              "    </tr>\n",
              "    <tr>\n",
              "      <th>15432</th>\n",
              "      <td>mixed-code</td>\n",
              "      <td>1</td>\n",
              "    </tr>\n",
              "    <tr>\n",
              "      <th>15435</th>\n",
              "      <td>mixin</td>\n",
              "      <td>1</td>\n",
              "    </tr>\n",
              "    <tr>\n",
              "      <th>15440</th>\n",
              "      <td>mjsip</td>\n",
              "      <td>1</td>\n",
              "    </tr>\n",
              "    <tr>\n",
              "      <th>28985</th>\n",
              "      <td>zzt-oop</td>\n",
              "      <td>1</td>\n",
              "    </tr>\n",
              "  </tbody>\n",
              "</table>\n",
              "<p>28986 rows × 2 columns</p>\n",
              "</div>"
            ],
            "text/plain": [
              "                       Tags  Counts\n",
              "3071                     c#   30554\n",
              "12561                  java   27166\n",
              "18762                   php   26019\n",
              "12629            javascript   24292\n",
              "875                 android   21218\n",
              "...                     ...     ...\n",
              "15431  mixed-authentication       1\n",
              "15432            mixed-code       1\n",
              "15435                 mixin       1\n",
              "15440                 mjsip       1\n",
              "28985               zzt-oop       1\n",
              "\n",
              "[28986 rows x 2 columns]"
            ]
          },
          "metadata": {
            "tags": []
          },
          "execution_count": 101
        }
      ]
    },
    {
      "cell_type": "code",
      "metadata": {
        "colab": {
          "base_uri": "https://localhost:8080/",
          "height": 295
        },
        "id": "5va02icjNRkW",
        "outputId": "9681c405-53a8-4113-f5c5-151dc91faf89"
      },
      "source": [
        "plt.plot(tag_counts)\n",
        "plt.title(\"Distribution of number of times tag appeared\")\n",
        "plt.grid()\n",
        "plt.xlabel(\"Tag number\")\n",
        "plt.ylabel(\"Number of times tag appeared\")\n",
        "plt.show()"
      ],
      "execution_count": 102,
      "outputs": [
        {
          "output_type": "display_data",
          "data": {
            "image/png": "[encoded data removed]",
            "text/plain": [
              "<Figure size 432x288 with 1 Axes>"
            ]
          },
          "metadata": {
            "tags": [],
            "needs_background": "light"
          }
        }
      ]
    },
    {
      "cell_type": "code",
      "metadata": {
        "id": "TR_hRnvAOuXd"
      },
      "source": [
        ""
      ],
      "execution_count": 102,
      "outputs": []
    },
    {
      "cell_type": "code",
      "metadata": {
        "colab": {
          "base_uri": "https://localhost:8080/",
          "height": 295
        },
        "id": "ki9LVgFLOOsh",
        "outputId": "ddbe568f-1121-4ef1-ba5e-6507061f5e61"
      },
      "source": [
        "plt.plot(tag_counts[0:1000])\n",
        "plt.title('first 1k tags: Distribution of number of times tag appeared')\n",
        "plt.grid()\n",
        "plt.xlabel(\"Tag number\")\n",
        "plt.ylabel(\"Number of times tag appeared\")\n",
        "plt.show()"
      ],
      "execution_count": 103,
      "outputs": [
        {
          "output_type": "display_data",
          "data": {
            "image/png": "[encoded data removed]",
            "text/plain": [
              "<Figure size 432x288 with 1 Axes>"
            ]
          },
          "metadata": {
            "tags": [],
            "needs_background": "light"
          }
        }
      ]
    },
    {
      "cell_type": "code",
      "metadata": {
        "colab": {
          "base_uri": "https://localhost:8080/",
          "height": 295
        },
        "id": "kymkkSOIOono",
        "outputId": "bce07a9a-d878-4858-ea29-e0b110b18d77"
      },
      "source": [
        "plt.plot(tag_counts[0:500])\n",
        "plt.title('first 500 tags: Distribution of number of times tag appeared')\n",
        "plt.grid()\n",
        "plt.xlabel(\"Tag number\")\n",
        "plt.ylabel(\"Number of times tag appeared\")\n",
        "plt.show()"
      ],
      "execution_count": 104,
      "outputs": [
        {
          "output_type": "display_data",
          "data": {
            "image/png": "[encoded data removed]",
            "text/plain": [
              "<Figure size 432x288 with 1 Axes>"
            ]
          },
          "metadata": {
            "tags": [],
            "needs_background": "light"
          }
        }
      ]
    },
    {
      "cell_type": "code",
      "metadata": {
        "colab": {
          "base_uri": "https://localhost:8080/",
          "height": 295
        },
        "id": "tKTOoXsBOrgD",
        "outputId": "215a8da2-c77f-4203-a472-d4184b2a3616"
      },
      "source": [
        "plt.plot(tag_counts[0:100], c='b')\n",
        "plt.scatter(x=list(range(0,100,5)), y=tag_counts[0:100:5], c='orange', label=\"quantiles with 0.05 intervals\")\n",
        "# quantiles with 0.25 difference\n",
        "plt.scatter(x=list(range(0,100,25)), y=tag_counts[0:100:25], c='m', label = \"quantiles with 0.25 intervals\")\n",
        "\n",
        "for x,y in zip(list(range(0,100,25)), tag_counts[0:100:25]):\n",
        "    plt.annotate(s=\"({} , {})\".format(x,y), xy=(x,y), xytext=(x-0.05, y+500))\n",
        "\n",
        "plt.title('first 100 tags: Distribution of number of times tag appeared')\n",
        "plt.grid()\n",
        "plt.xlabel(\"Tag number\")\n",
        "plt.ylabel(\"Number of times tag appeared\")\n",
        "plt.legend()\n",
        "plt.show()"
      ],
      "execution_count": 105,
      "outputs": [
        {
          "output_type": "display_data",
          "data": {
            "image/png": "[encoded data removed]",
            "text/plain": [
              "<Figure size 432x288 with 1 Axes>"
            ]
          },
          "metadata": {
            "tags": [],
            "needs_background": "light"
          }
        }
      ]
    },
    {
      "cell_type": "code",
      "metadata": {
        "colab": {
          "base_uri": "https://localhost:8080/"
        },
        "id": "7ZAfkW2HQQBq",
        "outputId": "9a2d0425-7bbc-4082-b50c-4304952eb643"
      },
      "source": [
        "# Store tags greater than 10K in one list\n",
        "lst_tags_gt_10k = tag_df[tag_df.Counts>1000].Tags\n",
        "#Print the length of the list\n",
        "print ('{} Tags are used more than 1000 times'.format(len(lst_tags_gt_10k)))\n",
        "# Store tags greater than 100K in one list\n",
        "lst_tags_gt_100k = tag_df[tag_df.Counts>10000].Tags\n",
        "#Print the length of the list.\n",
        "print ('{} Tags are used more than 10000 times'.format(len(lst_tags_gt_100k)))"
      ],
      "execution_count": 106,
      "outputs": [
        {
          "output_type": "stream",
          "text": [
            "136 Tags are used more than 1000 times\n",
            "13 Tags are used more than 10000 times\n"
          ],
          "name": "stdout"
        }
      ]
    },
    {
      "cell_type": "markdown",
      "metadata": {
        "id": "sJKKfzGHQ3yP"
      },
      "source": [
        "## Observations:\n",
        "1) There are total 136 tags which are used more than 1000 times.\n",
        "\n",
        "2) 13 tags are used more than 10000 times.\n",
        "\n",
        "3) Most frequent tag (i.e. c#) is used 30554 times.\n",
        "\n",
        "4) Since some tags occur much more frequenctly than others, Micro-averaged F1-score is the appropriate metric for this probelm."
      ]
    },
    {
      "cell_type": "markdown",
      "metadata": {
        "id": "CRpcoN15Rt9w"
      },
      "source": [
        "## Tags per question"
      ]
    },
    {
      "cell_type": "code",
      "metadata": {
        "colab": {
          "base_uri": "https://localhost:8080/"
        },
        "id": "ttRr6u4gQlKb",
        "outputId": "876b8a90-f07b-4e7e-dd57-6215e26c26fd"
      },
      "source": [
        "#Storing the count of tag in each question in list 'tag_count'\n",
        "tag_quest_count = tag_dtm.sum(axis=1).tolist()\n",
        "#Converting each value in the 'tag_quest_count' to integer.\n",
        "tag_quest_count=[int(j) for i in tag_quest_count for j in i]\n",
        "print ('We have total {} datapoints.'.format(len(tag_quest_count)))\n",
        "\n",
        "print(tag_quest_count[:5])"
      ],
      "execution_count": 107,
      "outputs": [
        {
          "output_type": "stream",
          "text": [
            "We have total 396980 datapoints.\n",
            "[3, 3, 1, 1, 1]\n"
          ],
          "name": "stdout"
        }
      ]
    },
    {
      "cell_type": "code",
      "metadata": {
        "colab": {
          "base_uri": "https://localhost:8080/"
        },
        "id": "1ONyJSMCR1Cl",
        "outputId": "bc0c60bd-26e0-474f-ed8b-964cc91359db"
      },
      "source": [
        "print( \"Maximum number of tags per question: %d\"%max(tag_quest_count))\n",
        "print( \"Minimum number of tags per question: %d\"%min(tag_quest_count))\n",
        "print( \"Avg. number of tags per question: %f\"% ((sum(tag_quest_count)*1.0)/len(tag_quest_count)))"
      ],
      "execution_count": 108,
      "outputs": [
        {
          "output_type": "stream",
          "text": [
            "Maximum number of tags per question: 5\n",
            "Minimum number of tags per question: 1\n",
            "Avg. number of tags per question: 2.885881\n"
          ],
          "name": "stdout"
        }
      ]
    },
    {
      "cell_type": "code",
      "metadata": {
        "colab": {
          "base_uri": "https://localhost:8080/",
          "height": 295
        },
        "id": "U5BSh0vhTMAd",
        "outputId": "a040d26c-b2b5-437c-e8af-976df93eb6fd"
      },
      "source": [
        "sns.countplot(tag_quest_count, palette='gist_rainbow')\n",
        "plt.title(\"Number of tags in the questions \")\n",
        "plt.xlabel(\"Number of Tags\")\n",
        "plt.ylabel(\"Number of questions\")\n",
        "plt.show()"
      ],
      "execution_count": 109,
      "outputs": [
        {
          "output_type": "display_data",
          "data": {
            "image/png": "[encoded data removed]",
            "text/plain": [
              "<Figure size 432x288 with 1 Axes>"
            ]
          },
          "metadata": {
            "tags": [],
            "needs_background": "light"
          }
        }
      ]
    },
    {
      "cell_type": "markdown",
      "metadata": {
        "id": "ZKbakQ-cTNzB"
      },
      "source": [
        "### As stackoverflow only allows maximum 5 tags per question, we need to delete the incorrect question data where number of tags > 5"
      ]
    }
  ]
}